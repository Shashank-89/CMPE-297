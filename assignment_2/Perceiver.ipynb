{
  "nbformat": 4,
  "nbformat_minor": 0,
  "metadata": {
    "colab": {
      "name": "Perceiver.ipynb",
      "provenance": [],
      "machine_shape": "hm"
    },
    "kernelspec": {
      "name": "python3",
      "display_name": "Python 3"
    },
    "language_info": {
      "name": "python"
    },
    "accelerator": "GPU"
  },
  "cells": [
    {
      "cell_type": "code",
      "execution_count": 1,
      "metadata": {
        "colab": {
          "base_uri": "https://localhost:8080/"
        },
        "id": "vn1_nFbXhrp4",
        "outputId": "1a8bf588-296a-4b2f-8ebb-38b1dcb9eac0"
      },
      "outputs": [
        {
          "output_type": "stream",
          "name": "stdout",
          "text": [
            "Collecting tensorflow-addons\n",
            "  Downloading tensorflow_addons-0.15.0-cp37-cp37m-manylinux_2_12_x86_64.manylinux2010_x86_64.whl (1.1 MB)\n",
            "\u001b[?25l\r\u001b[K     |▎                               | 10 kB 33.8 MB/s eta 0:00:01\r\u001b[K     |▋                               | 20 kB 40.4 MB/s eta 0:00:01\r\u001b[K     |▉                               | 30 kB 43.6 MB/s eta 0:00:01\r\u001b[K     |█▏                              | 40 kB 24.1 MB/s eta 0:00:01\r\u001b[K     |█▌                              | 51 kB 16.9 MB/s eta 0:00:01\r\u001b[K     |█▊                              | 61 kB 14.2 MB/s eta 0:00:01\r\u001b[K     |██                              | 71 kB 13.1 MB/s eta 0:00:01\r\u001b[K     |██▍                             | 81 kB 14.6 MB/s eta 0:00:01\r\u001b[K     |██▋                             | 92 kB 14.0 MB/s eta 0:00:01\r\u001b[K     |███                             | 102 kB 15.1 MB/s eta 0:00:01\r\u001b[K     |███▎                            | 112 kB 15.1 MB/s eta 0:00:01\r\u001b[K     |███▌                            | 122 kB 15.1 MB/s eta 0:00:01\r\u001b[K     |███▉                            | 133 kB 15.1 MB/s eta 0:00:01\r\u001b[K     |████▏                           | 143 kB 15.1 MB/s eta 0:00:01\r\u001b[K     |████▍                           | 153 kB 15.1 MB/s eta 0:00:01\r\u001b[K     |████▊                           | 163 kB 15.1 MB/s eta 0:00:01\r\u001b[K     |█████                           | 174 kB 15.1 MB/s eta 0:00:01\r\u001b[K     |█████▎                          | 184 kB 15.1 MB/s eta 0:00:01\r\u001b[K     |█████▋                          | 194 kB 15.1 MB/s eta 0:00:01\r\u001b[K     |█████▉                          | 204 kB 15.1 MB/s eta 0:00:01\r\u001b[K     |██████▏                         | 215 kB 15.1 MB/s eta 0:00:01\r\u001b[K     |██████▌                         | 225 kB 15.1 MB/s eta 0:00:01\r\u001b[K     |██████▊                         | 235 kB 15.1 MB/s eta 0:00:01\r\u001b[K     |███████                         | 245 kB 15.1 MB/s eta 0:00:01\r\u001b[K     |███████▍                        | 256 kB 15.1 MB/s eta 0:00:01\r\u001b[K     |███████▋                        | 266 kB 15.1 MB/s eta 0:00:01\r\u001b[K     |████████                        | 276 kB 15.1 MB/s eta 0:00:01\r\u001b[K     |████████▎                       | 286 kB 15.1 MB/s eta 0:00:01\r\u001b[K     |████████▌                       | 296 kB 15.1 MB/s eta 0:00:01\r\u001b[K     |████████▉                       | 307 kB 15.1 MB/s eta 0:00:01\r\u001b[K     |█████████                       | 317 kB 15.1 MB/s eta 0:00:01\r\u001b[K     |█████████▍                      | 327 kB 15.1 MB/s eta 0:00:01\r\u001b[K     |█████████▊                      | 337 kB 15.1 MB/s eta 0:00:01\r\u001b[K     |██████████                      | 348 kB 15.1 MB/s eta 0:00:01\r\u001b[K     |██████████▎                     | 358 kB 15.1 MB/s eta 0:00:01\r\u001b[K     |██████████▋                     | 368 kB 15.1 MB/s eta 0:00:01\r\u001b[K     |██████████▉                     | 378 kB 15.1 MB/s eta 0:00:01\r\u001b[K     |███████████▏                    | 389 kB 15.1 MB/s eta 0:00:01\r\u001b[K     |███████████▌                    | 399 kB 15.1 MB/s eta 0:00:01\r\u001b[K     |███████████▊                    | 409 kB 15.1 MB/s eta 0:00:01\r\u001b[K     |████████████                    | 419 kB 15.1 MB/s eta 0:00:01\r\u001b[K     |████████████▍                   | 430 kB 15.1 MB/s eta 0:00:01\r\u001b[K     |████████████▋                   | 440 kB 15.1 MB/s eta 0:00:01\r\u001b[K     |█████████████                   | 450 kB 15.1 MB/s eta 0:00:01\r\u001b[K     |█████████████▎                  | 460 kB 15.1 MB/s eta 0:00:01\r\u001b[K     |█████████████▌                  | 471 kB 15.1 MB/s eta 0:00:01\r\u001b[K     |█████████████▉                  | 481 kB 15.1 MB/s eta 0:00:01\r\u001b[K     |██████████████                  | 491 kB 15.1 MB/s eta 0:00:01\r\u001b[K     |██████████████▍                 | 501 kB 15.1 MB/s eta 0:00:01\r\u001b[K     |██████████████▊                 | 512 kB 15.1 MB/s eta 0:00:01\r\u001b[K     |███████████████                 | 522 kB 15.1 MB/s eta 0:00:01\r\u001b[K     |███████████████▎                | 532 kB 15.1 MB/s eta 0:00:01\r\u001b[K     |███████████████▋                | 542 kB 15.1 MB/s eta 0:00:01\r\u001b[K     |███████████████▉                | 552 kB 15.1 MB/s eta 0:00:01\r\u001b[K     |████████████████▏               | 563 kB 15.1 MB/s eta 0:00:01\r\u001b[K     |████████████████▌               | 573 kB 15.1 MB/s eta 0:00:01\r\u001b[K     |████████████████▊               | 583 kB 15.1 MB/s eta 0:00:01\r\u001b[K     |█████████████████               | 593 kB 15.1 MB/s eta 0:00:01\r\u001b[K     |█████████████████▍              | 604 kB 15.1 MB/s eta 0:00:01\r\u001b[K     |█████████████████▋              | 614 kB 15.1 MB/s eta 0:00:01\r\u001b[K     |██████████████████              | 624 kB 15.1 MB/s eta 0:00:01\r\u001b[K     |██████████████████▏             | 634 kB 15.1 MB/s eta 0:00:01\r\u001b[K     |██████████████████▌             | 645 kB 15.1 MB/s eta 0:00:01\r\u001b[K     |██████████████████▉             | 655 kB 15.1 MB/s eta 0:00:01\r\u001b[K     |███████████████████             | 665 kB 15.1 MB/s eta 0:00:01\r\u001b[K     |███████████████████▍            | 675 kB 15.1 MB/s eta 0:00:01\r\u001b[K     |███████████████████▊            | 686 kB 15.1 MB/s eta 0:00:01\r\u001b[K     |████████████████████            | 696 kB 15.1 MB/s eta 0:00:01\r\u001b[K     |████████████████████▎           | 706 kB 15.1 MB/s eta 0:00:01\r\u001b[K     |████████████████████▋           | 716 kB 15.1 MB/s eta 0:00:01\r\u001b[K     |████████████████████▉           | 727 kB 15.1 MB/s eta 0:00:01\r\u001b[K     |█████████████████████▏          | 737 kB 15.1 MB/s eta 0:00:01\r\u001b[K     |█████████████████████▌          | 747 kB 15.1 MB/s eta 0:00:01\r\u001b[K     |█████████████████████▊          | 757 kB 15.1 MB/s eta 0:00:01\r\u001b[K     |██████████████████████          | 768 kB 15.1 MB/s eta 0:00:01\r\u001b[K     |██████████████████████▎         | 778 kB 15.1 MB/s eta 0:00:01\r\u001b[K     |██████████████████████▋         | 788 kB 15.1 MB/s eta 0:00:01\r\u001b[K     |███████████████████████         | 798 kB 15.1 MB/s eta 0:00:01\r\u001b[K     |███████████████████████▏        | 808 kB 15.1 MB/s eta 0:00:01\r\u001b[K     |███████████████████████▌        | 819 kB 15.1 MB/s eta 0:00:01\r\u001b[K     |███████████████████████▉        | 829 kB 15.1 MB/s eta 0:00:01\r\u001b[K     |████████████████████████        | 839 kB 15.1 MB/s eta 0:00:01\r\u001b[K     |████████████████████████▍       | 849 kB 15.1 MB/s eta 0:00:01\r\u001b[K     |████████████████████████▊       | 860 kB 15.1 MB/s eta 0:00:01\r\u001b[K     |█████████████████████████       | 870 kB 15.1 MB/s eta 0:00:01\r\u001b[K     |█████████████████████████▎      | 880 kB 15.1 MB/s eta 0:00:01\r\u001b[K     |█████████████████████████▋      | 890 kB 15.1 MB/s eta 0:00:01\r\u001b[K     |█████████████████████████▉      | 901 kB 15.1 MB/s eta 0:00:01\r\u001b[K     |██████████████████████████▏     | 911 kB 15.1 MB/s eta 0:00:01\r\u001b[K     |██████████████████████████▌     | 921 kB 15.1 MB/s eta 0:00:01\r\u001b[K     |██████████████████████████▊     | 931 kB 15.1 MB/s eta 0:00:01\r\u001b[K     |███████████████████████████     | 942 kB 15.1 MB/s eta 0:00:01\r\u001b[K     |███████████████████████████▎    | 952 kB 15.1 MB/s eta 0:00:01\r\u001b[K     |███████████████████████████▋    | 962 kB 15.1 MB/s eta 0:00:01\r\u001b[K     |████████████████████████████    | 972 kB 15.1 MB/s eta 0:00:01\r\u001b[K     |████████████████████████████▏   | 983 kB 15.1 MB/s eta 0:00:01\r\u001b[K     |████████████████████████████▌   | 993 kB 15.1 MB/s eta 0:00:01\r\u001b[K     |████████████████████████████▉   | 1.0 MB 15.1 MB/s eta 0:00:01\r\u001b[K     |█████████████████████████████   | 1.0 MB 15.1 MB/s eta 0:00:01\r\u001b[K     |█████████████████████████████▍  | 1.0 MB 15.1 MB/s eta 0:00:01\r\u001b[K     |█████████████████████████████▊  | 1.0 MB 15.1 MB/s eta 0:00:01\r\u001b[K     |██████████████████████████████  | 1.0 MB 15.1 MB/s eta 0:00:01\r\u001b[K     |██████████████████████████████▎ | 1.1 MB 15.1 MB/s eta 0:00:01\r\u001b[K     |██████████████████████████████▋ | 1.1 MB 15.1 MB/s eta 0:00:01\r\u001b[K     |██████████████████████████████▉ | 1.1 MB 15.1 MB/s eta 0:00:01\r\u001b[K     |███████████████████████████████▏| 1.1 MB 15.1 MB/s eta 0:00:01\r\u001b[K     |███████████████████████████████▍| 1.1 MB 15.1 MB/s eta 0:00:01\r\u001b[K     |███████████████████████████████▊| 1.1 MB 15.1 MB/s eta 0:00:01\r\u001b[K     |████████████████████████████████| 1.1 MB 15.1 MB/s \n",
            "\u001b[?25hRequirement already satisfied: typeguard>=2.7 in /usr/local/lib/python3.7/dist-packages (from tensorflow-addons) (2.7.1)\n",
            "Installing collected packages: tensorflow-addons\n",
            "Successfully installed tensorflow-addons-0.15.0\n"
          ]
        }
      ],
      "source": [
        "pip install -U tensorflow-addons"
      ]
    },
    {
      "cell_type": "code",
      "source": [
        "import numpy as np\n",
        "import tensorflow as tf\n",
        "from tensorflow import keras\n",
        "from tensorflow.keras import layers\n",
        "import tensorflow_addons as tfa"
      ],
      "metadata": {
        "id": "y70InI33iH-U"
      },
      "execution_count": 2,
      "outputs": []
    },
    {
      "cell_type": "code",
      "source": [
        "num_classes = 10\n",
        "input_shape = (32, 32, 3)\n",
        "\n",
        "(x_train, y_train), (x_test, y_test) = keras.datasets.cifar10.load_data()\n",
        "\n",
        "print(f\"x_train shape: {x_train.shape} - y_train shape: {y_train.shape}\")\n",
        "print(f\"x_test shape: {x_test.shape} - y_test shape: {y_test.shape}\")"
      ],
      "metadata": {
        "colab": {
          "base_uri": "https://localhost:8080/"
        },
        "id": "MaaE8tBYiMra",
        "outputId": "a5d40505-a0a4-485f-d4a8-421289a7a20d"
      },
      "execution_count": 3,
      "outputs": [
        {
          "output_type": "stream",
          "name": "stdout",
          "text": [
            "Downloading data from https://www.cs.toronto.edu/~kriz/cifar-10-python.tar.gz\n",
            "170500096/170498071 [==============================] - 6s 0us/step\n",
            "170508288/170498071 [==============================] - 6s 0us/step\n",
            "x_train shape: (50000, 32, 32, 3) - y_train shape: (50000, 1)\n",
            "x_test shape: (10000, 32, 32, 3) - y_test shape: (10000, 1)\n"
          ]
        }
      ]
    },
    {
      "cell_type": "markdown",
      "source": [
        "**Hyperparameters**"
      ],
      "metadata": {
        "id": "Whqsojsljz9i"
      }
    },
    {
      "cell_type": "code",
      "source": [
        "learning_rate = 0.001\n",
        "weight_decay = 0.0001\n",
        "batch_size = 64\n",
        "num_epochs = 50\n",
        "dropout_rate = 0.2\n",
        "image_size = 64  # We'll resize input images to this size.\n",
        "patch_size = 2  # Size of the patches to be extract from the input images.\n",
        "num_patches = (image_size // patch_size) ** 2  # Size of the data array.\n",
        "latent_dim = 256  # Size of the latent array.\n",
        "projection_dim = 256  # Embedding size of each element in the data and latent arrays.\n",
        "num_heads = 8  # Number of Transformer heads.\n",
        "ffn_units = [\n",
        "    projection_dim,\n",
        "    projection_dim,\n",
        "]  # Size of the Transformer Feedforward network.\n",
        "num_transformer_blocks = 4\n",
        "num_iterations = 2  # Repetitions of the cross-attention and Transformer modules.\n",
        "classifier_units = [\n",
        "    projection_dim,\n",
        "    num_classes,\n",
        "]  # Size of the Feedforward network of the final classifier.\n",
        "\n",
        "print(f\"Image size: {image_size} X {image_size} = {image_size ** 2}\")\n",
        "print(f\"Patch size: {patch_size} X {patch_size} = {patch_size ** 2} \")\n",
        "print(f\"Patches per image: {num_patches}\")\n",
        "print(f\"Elements per patch (3 channels): {(patch_size ** 2) * 3}\")\n",
        "print(f\"Latent array shape: {latent_dim} X {projection_dim}\")\n",
        "print(f\"Data array shape: {num_patches} X {projection_dim}\")"
      ],
      "metadata": {
        "colab": {
          "base_uri": "https://localhost:8080/"
        },
        "id": "mLC0Z4dqj56D",
        "outputId": "ecf48140-4a56-4182-8f8b-0a95ed68b20b"
      },
      "execution_count": 4,
      "outputs": [
        {
          "output_type": "stream",
          "name": "stdout",
          "text": [
            "Image size: 64 X 64 = 4096\n",
            "Patch size: 2 X 2 = 4 \n",
            "Patches per image: 1024\n",
            "Elements per patch (3 channels): 12\n",
            "Latent array shape: 256 X 256\n",
            "Data array shape: 1024 X 256\n"
          ]
        }
      ]
    },
    {
      "cell_type": "markdown",
      "source": [
        "**Data Augmentation**"
      ],
      "metadata": {
        "id": "rrmvKwEEkBbm"
      }
    },
    {
      "cell_type": "code",
      "source": [
        "data_augmentation = keras.Sequential(\n",
        "    [\n",
        "        layers.Normalization(),\n",
        "        layers.Resizing(image_size, image_size),\n",
        "        layers.RandomFlip(\"horizontal\"),\n",
        "        layers.RandomZoom(\n",
        "            height_factor=0.2, width_factor=0.2\n",
        "        ),\n",
        "    ],\n",
        "    name=\"data_augmentation\",\n",
        ")\n",
        "# Compute the mean and the variance of the training data for normalization.\n",
        "data_augmentation.layers[0].adapt(x_train)\n",
        "\n",
        "def create_ffn(hidden_units, dropout_rate):\n",
        "    ffn_layers = []\n",
        "    for units in hidden_units[:-1]:\n",
        "        ffn_layers.append(layers.Dense(units, activation=tf.nn.gelu))\n",
        "\n",
        "    ffn_layers.append(layers.Dense(units=hidden_units[-1]))\n",
        "    ffn_layers.append(layers.Dropout(dropout_rate))\n",
        "\n",
        "    ffn = keras.Sequential(ffn_layers)\n",
        "    return ffn\n",
        "\n",
        "class Patches(layers.Layer):\n",
        "    def __init__(self, patch_size):\n",
        "        super(Patches, self).__init__()\n",
        "        self.patch_size = patch_size\n",
        "\n",
        "    def call(self, images):\n",
        "        batch_size = tf.shape(images)[0]\n",
        "        patches = tf.image.extract_patches(\n",
        "            images=images,\n",
        "            sizes=[1, self.patch_size, self.patch_size, 1],\n",
        "            strides=[1, self.patch_size, self.patch_size, 1],\n",
        "            rates=[1, 1, 1, 1],\n",
        "            padding=\"VALID\",\n",
        "        )\n",
        "        patch_dims = patches.shape[-1]\n",
        "        patches = tf.reshape(patches, [batch_size, -1, patch_dims])\n",
        "        return patches\n",
        "\n",
        "class PatchEncoder(layers.Layer):\n",
        "    def __init__(self, num_patches, projection_dim):\n",
        "        super(PatchEncoder, self).__init__()\n",
        "        self.num_patches = num_patches\n",
        "        self.projection = layers.Dense(units=projection_dim)\n",
        "        self.position_embedding = layers.Embedding(\n",
        "            input_dim=num_patches, output_dim=projection_dim\n",
        "        )\n",
        "\n",
        "    def call(self, patches):\n",
        "        positions = tf.range(start=0, limit=self.num_patches, delta=1)\n",
        "        encoded = self.projection(patches) + self.position_embedding(positions)\n",
        "        return encoded\n",
        "\n"
      ],
      "metadata": {
        "id": "Jtm-QOSlkHJF"
      },
      "execution_count": 5,
      "outputs": []
    },
    {
      "cell_type": "markdown",
      "source": [
        "**Cross Attention Module**"
      ],
      "metadata": {
        "id": "0ssGzYavkfc1"
      }
    },
    {
      "cell_type": "code",
      "source": [
        "def create_cross_attention_module(\n",
        "    latent_dim, data_dim, projection_dim, ffn_units, dropout_rate\n",
        "):\n",
        "\n",
        "    inputs = {\n",
        "        # Recieve the latent array as an input of shape [1, latent_dim, projection_dim].\n",
        "        \"latent_array\": layers.Input(shape=(latent_dim, projection_dim)),\n",
        "        # Recieve the data_array (encoded image) as an input of shape [batch_size, data_dim, projection_dim].\n",
        "        \"data_array\": layers.Input(shape=(data_dim, projection_dim)),\n",
        "    }\n",
        "\n",
        "    # Apply layer norm to the inputs\n",
        "    latent_array = layers.LayerNormalization(epsilon=1e-6)(inputs[\"latent_array\"])\n",
        "    data_array = layers.LayerNormalization(epsilon=1e-6)(inputs[\"data_array\"])\n",
        "\n",
        "    # Create query tensor: [1, latent_dim, projection_dim].\n",
        "    query = layers.Dense(units=projection_dim)(latent_array)\n",
        "    # Create key tensor: [batch_size, data_dim, projection_dim].\n",
        "    key = layers.Dense(units=projection_dim)(data_array)\n",
        "    # Create value tensor: [batch_size, data_dim, projection_dim].\n",
        "    value = layers.Dense(units=projection_dim)(data_array)\n",
        "\n",
        "    # Generate cross-attention outputs: [batch_size, latent_dim, projection_dim].\n",
        "    attention_output = layers.Attention(use_scale=True, dropout=0.1)(\n",
        "        [query, key, value], return_attention_scores=False\n",
        "    )\n",
        "    # Skip connection 1.\n",
        "    attention_output = layers.Add()([attention_output, latent_array])\n",
        "\n",
        "    # Apply layer norm.\n",
        "    attention_output = layers.LayerNormalization(epsilon=1e-6)(attention_output)\n",
        "    # Apply Feedforward network.\n",
        "    ffn = create_ffn(hidden_units=ffn_units, dropout_rate=dropout_rate)\n",
        "    outputs = ffn(attention_output)\n",
        "    # Skip connection 2.\n",
        "    outputs = layers.Add()([outputs, attention_output])\n",
        "\n",
        "    # Create the Keras model.\n",
        "    model = keras.Model(inputs=inputs, outputs=outputs)\n",
        "    return model"
      ],
      "metadata": {
        "id": "Ie8-Cxbukdu3"
      },
      "execution_count": 6,
      "outputs": []
    },
    {
      "cell_type": "markdown",
      "source": [
        "**Transformer Module**"
      ],
      "metadata": {
        "id": "oSbDS1zIkoul"
      }
    },
    {
      "cell_type": "code",
      "source": [
        "def create_transformer_module(\n",
        "    latent_dim,\n",
        "    projection_dim,\n",
        "    num_heads,\n",
        "    num_transformer_blocks,\n",
        "    ffn_units,\n",
        "    dropout_rate,\n",
        "):\n",
        "\n",
        "    # input_shape: [1, latent_dim, projection_dim]\n",
        "    inputs = layers.Input(shape=(latent_dim, projection_dim))\n",
        "\n",
        "    x0 = inputs\n",
        "    # Create multiple layers of the Transformer block.\n",
        "    for _ in range(num_transformer_blocks):\n",
        "        # Apply layer normalization 1.\n",
        "        x1 = layers.LayerNormalization(epsilon=1e-6)(x0)\n",
        "        # Create a multi-head self-attention layer.\n",
        "        attention_output = layers.MultiHeadAttention(\n",
        "            num_heads=num_heads, key_dim=projection_dim, dropout=0.1\n",
        "        )(x1, x1)\n",
        "        # Skip connection 1.\n",
        "        x2 = layers.Add()([attention_output, x0])\n",
        "        # Apply layer normalization 2.\n",
        "        x3 = layers.LayerNormalization(epsilon=1e-6)(x2)\n",
        "        # Apply Feedforward network.\n",
        "        ffn = create_ffn(hidden_units=ffn_units, dropout_rate=dropout_rate)\n",
        "        x3 = ffn(x3)\n",
        "        # Skip connection 2.\n",
        "        x0 = layers.Add()([x3, x2])\n",
        "\n",
        "    # Create the Keras model.\n",
        "    model = keras.Model(inputs=inputs, outputs=x0)\n",
        "    return model"
      ],
      "metadata": {
        "id": "NXffPPvFkj-b"
      },
      "execution_count": 7,
      "outputs": []
    },
    {
      "cell_type": "markdown",
      "source": [
        "**Perceiver Model**"
      ],
      "metadata": {
        "id": "cqgg0WxXkwc-"
      }
    },
    {
      "cell_type": "code",
      "source": [
        "class Perceiver(keras.Model):\n",
        "    def __init__(\n",
        "        self,\n",
        "        patch_size,\n",
        "        data_dim,\n",
        "        latent_dim,\n",
        "        projection_dim,\n",
        "        num_heads,\n",
        "        num_transformer_blocks,\n",
        "        ffn_units,\n",
        "        dropout_rate,\n",
        "        num_iterations,\n",
        "        classifier_units,\n",
        "    ):\n",
        "        super(Perceiver, self).__init__()\n",
        "\n",
        "        self.latent_dim = latent_dim\n",
        "        self.data_dim = data_dim\n",
        "        self.patch_size = patch_size\n",
        "        self.projection_dim = projection_dim\n",
        "        self.num_heads = num_heads\n",
        "        self.num_transformer_blocks = num_transformer_blocks\n",
        "        self.ffn_units = ffn_units\n",
        "        self.dropout_rate = dropout_rate\n",
        "        self.num_iterations = num_iterations\n",
        "        self.classifier_units = classifier_units\n",
        "\n",
        "    def build(self, input_shape):\n",
        "        # Create latent array.\n",
        "        self.latent_array = self.add_weight(\n",
        "            shape=(self.latent_dim, self.projection_dim),\n",
        "            initializer=\"random_normal\",\n",
        "            trainable=True,\n",
        "        )\n",
        "\n",
        "        # Create patching module.\n",
        "        self.patcher = Patches(self.patch_size)\n",
        "\n",
        "        # Create patch encoder.\n",
        "        self.patch_encoder = PatchEncoder(self.data_dim, self.projection_dim)\n",
        "\n",
        "        # Create cross-attenion module.\n",
        "        self.cross_attention = create_cross_attention_module(\n",
        "            self.latent_dim,\n",
        "            self.data_dim,\n",
        "            self.projection_dim,\n",
        "            self.ffn_units,\n",
        "            self.dropout_rate,\n",
        "        )\n",
        "\n",
        "        # Create Transformer module.\n",
        "        self.transformer = create_transformer_module(\n",
        "            self.latent_dim,\n",
        "            self.projection_dim,\n",
        "            self.num_heads,\n",
        "            self.num_transformer_blocks,\n",
        "            self.ffn_units,\n",
        "            self.dropout_rate,\n",
        "        )\n",
        "\n",
        "        # Create global average pooling layer.\n",
        "        self.global_average_pooling = layers.GlobalAveragePooling1D()\n",
        "\n",
        "        # Create a classification head.\n",
        "        self.classification_head = create_ffn(\n",
        "            hidden_units=self.classifier_units, dropout_rate=self.dropout_rate\n",
        "        )\n",
        "\n",
        "        super(Perceiver, self).build(input_shape)\n",
        "\n",
        "    def call(self, inputs):\n",
        "        # Augment data.\n",
        "        augmented = data_augmentation(inputs)\n",
        "        # Create patches.\n",
        "        patches = self.patcher(augmented)\n",
        "        # Encode patches.\n",
        "        encoded_patches = self.patch_encoder(patches)\n",
        "        # Prepare cross-attention inputs.\n",
        "        cross_attention_inputs = {\n",
        "            \"latent_array\": tf.expand_dims(self.latent_array, 0),\n",
        "            \"data_array\": encoded_patches,\n",
        "        }\n",
        "        # Apply the cross-attention and the Transformer modules iteratively.\n",
        "        for _ in range(self.num_iterations):\n",
        "            # Apply cross-attention from the latent array to the data array.\n",
        "            latent_array = self.cross_attention(cross_attention_inputs)\n",
        "            # Apply self-attention Transformer to the latent array.\n",
        "            latent_array = self.transformer(latent_array)\n",
        "            # Set the latent array of the next iteration.\n",
        "            cross_attention_inputs[\"latent_array\"] = latent_array\n",
        "\n",
        "        # Apply global average pooling to generate a [batch_size, projection_dim] repesentation tensor.\n",
        "        representation = self.global_average_pooling(latent_array)\n",
        "        # Generate logits.\n",
        "        logits = self.classification_head(representation)\n",
        "        return logits"
      ],
      "metadata": {
        "id": "L4rgP660kza_"
      },
      "execution_count": 8,
      "outputs": []
    },
    {
      "cell_type": "code",
      "source": [
        "def run_experiment(model):\n",
        "\n",
        "    # Create LAMB optimizer with weight decay.\n",
        "    optimizer = tfa.optimizers.LAMB(\n",
        "        learning_rate=learning_rate, weight_decay_rate=weight_decay,\n",
        "    )\n",
        "\n",
        "    # Compile the model.\n",
        "    model.compile(\n",
        "        optimizer=optimizer,\n",
        "        loss=keras.losses.SparseCategoricalCrossentropy(from_logits=True),\n",
        "        metrics=[\n",
        "            keras.metrics.SparseCategoricalAccuracy(name=\"acc\"),\n",
        "            keras.metrics.SparseTopKCategoricalAccuracy(5, name=\"top5-acc\"),\n",
        "        ],\n",
        "    )\n",
        "\n",
        "    # Create a learning rate scheduler callback.\n",
        "    reduce_lr = keras.callbacks.ReduceLROnPlateau(\n",
        "        monitor=\"val_loss\", factor=0.2, patience=3\n",
        "    )\n",
        "\n",
        "    # Create an early stopping callback.\n",
        "    early_stopping = tf.keras.callbacks.EarlyStopping(\n",
        "        monitor=\"val_loss\", patience=15, restore_best_weights=True\n",
        "    )\n",
        "\n",
        "    # Fit the model.\n",
        "    history = model.fit(\n",
        "        x=x_train,\n",
        "        y=y_train,\n",
        "        batch_size=batch_size,\n",
        "        epochs=num_epochs,\n",
        "        validation_split=0.1,\n",
        "        callbacks=[early_stopping, reduce_lr],\n",
        "    )\n",
        "\n",
        "    _, accuracy, top_5_accuracy = model.evaluate(x_test, y_test)\n",
        "    print(f\"Test accuracy: {round(accuracy * 100, 2)}%\")\n",
        "    print(f\"Test top 5 accuracy: {round(top_5_accuracy * 100, 2)}%\")\n",
        "\n",
        "    # Return history to plot learning curves.\n",
        "    return history\n",
        "\n",
        "perceiver_classifier = Perceiver(\n",
        "    patch_size,\n",
        "    num_patches,\n",
        "    latent_dim,\n",
        "    projection_dim,\n",
        "    num_heads,\n",
        "    num_transformer_blocks,\n",
        "    ffn_units,\n",
        "    dropout_rate,\n",
        "    num_iterations,\n",
        "    classifier_units,\n",
        ")\n",
        "\n",
        "\n",
        "history = run_experiment(perceiver_classifier)"
      ],
      "metadata": {
        "colab": {
          "base_uri": "https://localhost:8080/"
        },
        "id": "MTmh-sMZlJTg",
        "outputId": "c46bf702-e707-4bee-b041-d9247e3a7d81"
      },
      "execution_count": 9,
      "outputs": [
        {
          "output_type": "stream",
          "name": "stdout",
          "text": [
            "Epoch 1/50\n",
            "704/704 [==============================] - 548s 750ms/step - loss: 2.0415 - acc: 0.2446 - top5-acc: 0.7902 - val_loss: 1.8285 - val_acc: 0.3192 - val_top5-acc: 0.8490 - lr: 0.0010\n",
            "Epoch 2/50\n",
            "704/704 [==============================] - 526s 748ms/step - loss: 1.8598 - acc: 0.3181 - top5-acc: 0.8494 - val_loss: 1.6861 - val_acc: 0.3828 - val_top5-acc: 0.8716 - lr: 0.0010\n",
            "Epoch 3/50\n",
            "704/704 [==============================] - 526s 748ms/step - loss: 1.7111 - acc: 0.3790 - top5-acc: 0.8784 - val_loss: 1.4831 - val_acc: 0.4540 - val_top5-acc: 0.9170 - lr: 0.0010\n",
            "Epoch 4/50\n",
            "704/704 [==============================] - 526s 748ms/step - loss: 1.5854 - acc: 0.4300 - top5-acc: 0.9006 - val_loss: 1.3248 - val_acc: 0.5258 - val_top5-acc: 0.9356 - lr: 0.0010\n",
            "Epoch 5/50\n",
            "704/704 [==============================] - 525s 746ms/step - loss: 1.4901 - acc: 0.4617 - top5-acc: 0.9138 - val_loss: 1.2741 - val_acc: 0.5450 - val_top5-acc: 0.9456 - lr: 0.0010\n",
            "Epoch 6/50\n",
            "704/704 [==============================] - 525s 746ms/step - loss: 1.4020 - acc: 0.4919 - top5-acc: 0.9253 - val_loss: 1.1892 - val_acc: 0.5668 - val_top5-acc: 0.9546 - lr: 0.0010\n",
            "Epoch 7/50\n",
            "704/704 [==============================] - 526s 747ms/step - loss: 1.3409 - acc: 0.5155 - top5-acc: 0.9328 - val_loss: 1.0968 - val_acc: 0.6124 - val_top5-acc: 0.9602 - lr: 0.0010\n",
            "Epoch 8/50\n",
            "704/704 [==============================] - 525s 746ms/step - loss: 1.2914 - acc: 0.5356 - top5-acc: 0.9360 - val_loss: 1.0766 - val_acc: 0.6134 - val_top5-acc: 0.9628 - lr: 0.0010\n",
            "Epoch 9/50\n",
            "704/704 [==============================] - 525s 746ms/step - loss: 1.2425 - acc: 0.5523 - top5-acc: 0.9424 - val_loss: 1.0066 - val_acc: 0.6432 - val_top5-acc: 0.9686 - lr: 0.0010\n",
            "Epoch 10/50\n",
            "704/704 [==============================] - 525s 746ms/step - loss: 1.2040 - acc: 0.5654 - top5-acc: 0.9480 - val_loss: 0.9649 - val_acc: 0.6560 - val_top5-acc: 0.9728 - lr: 0.0010\n",
            "Epoch 11/50\n",
            "704/704 [==============================] - 526s 747ms/step - loss: 1.1617 - acc: 0.5810 - top5-acc: 0.9523 - val_loss: 0.9654 - val_acc: 0.6598 - val_top5-acc: 0.9720 - lr: 0.0010\n",
            "Epoch 12/50\n",
            "704/704 [==============================] - 525s 746ms/step - loss: 1.1314 - acc: 0.5915 - top5-acc: 0.9542 - val_loss: 0.9423 - val_acc: 0.6690 - val_top5-acc: 0.9722 - lr: 0.0010\n",
            "Epoch 13/50\n",
            "704/704 [==============================] - 525s 746ms/step - loss: 1.1057 - acc: 0.5996 - top5-acc: 0.9556 - val_loss: 0.9351 - val_acc: 0.6654 - val_top5-acc: 0.9724 - lr: 0.0010\n",
            "Epoch 14/50\n",
            "704/704 [==============================] - 525s 746ms/step - loss: 1.0728 - acc: 0.6118 - top5-acc: 0.9591 - val_loss: 0.9229 - val_acc: 0.6680 - val_top5-acc: 0.9732 - lr: 0.0010\n",
            "Epoch 15/50\n",
            "704/704 [==============================] - 525s 746ms/step - loss: 1.0576 - acc: 0.6143 - top5-acc: 0.9605 - val_loss: 0.8489 - val_acc: 0.7028 - val_top5-acc: 0.9800 - lr: 0.0010\n",
            "Epoch 16/50\n",
            "704/704 [==============================] - 525s 746ms/step - loss: 1.0333 - acc: 0.6253 - top5-acc: 0.9620 - val_loss: 0.8242 - val_acc: 0.7172 - val_top5-acc: 0.9792 - lr: 0.0010\n",
            "Epoch 17/50\n",
            "704/704 [==============================] - 525s 746ms/step - loss: 1.0101 - acc: 0.6310 - top5-acc: 0.9646 - val_loss: 0.8355 - val_acc: 0.6962 - val_top5-acc: 0.9790 - lr: 0.0010\n",
            "Epoch 18/50\n",
            "704/704 [==============================] - 525s 746ms/step - loss: 0.9934 - acc: 0.6383 - top5-acc: 0.9665 - val_loss: 0.8145 - val_acc: 0.7110 - val_top5-acc: 0.9808 - lr: 0.0010\n",
            "Epoch 19/50\n",
            "704/704 [==============================] - 525s 746ms/step - loss: 0.9672 - acc: 0.6443 - top5-acc: 0.9673 - val_loss: 0.8378 - val_acc: 0.7074 - val_top5-acc: 0.9768 - lr: 0.0010\n",
            "Epoch 20/50\n",
            "704/704 [==============================] - 525s 746ms/step - loss: 0.9530 - acc: 0.6498 - top5-acc: 0.9692 - val_loss: 0.8105 - val_acc: 0.7192 - val_top5-acc: 0.9802 - lr: 0.0010\n",
            "Epoch 21/50\n",
            "704/704 [==============================] - 525s 746ms/step - loss: 0.9344 - acc: 0.6570 - top5-acc: 0.9699 - val_loss: 0.7735 - val_acc: 0.7342 - val_top5-acc: 0.9808 - lr: 0.0010\n",
            "Epoch 22/50\n",
            "704/704 [==============================] - 525s 746ms/step - loss: 0.9152 - acc: 0.6628 - top5-acc: 0.9725 - val_loss: 0.7963 - val_acc: 0.7246 - val_top5-acc: 0.9828 - lr: 0.0010\n",
            "Epoch 23/50\n",
            "704/704 [==============================] - 525s 746ms/step - loss: 0.9015 - acc: 0.6665 - top5-acc: 0.9730 - val_loss: 0.7589 - val_acc: 0.7314 - val_top5-acc: 0.9822 - lr: 0.0010\n",
            "Epoch 24/50\n",
            "704/704 [==============================] - 525s 746ms/step - loss: 0.8851 - acc: 0.6707 - top5-acc: 0.9740 - val_loss: 0.7542 - val_acc: 0.7386 - val_top5-acc: 0.9830 - lr: 0.0010\n",
            "Epoch 25/50\n",
            "704/704 [==============================] - 525s 746ms/step - loss: 0.8681 - acc: 0.6805 - top5-acc: 0.9746 - val_loss: 0.7652 - val_acc: 0.7350 - val_top5-acc: 0.9842 - lr: 0.0010\n",
            "Epoch 26/50\n",
            "704/704 [==============================] - 525s 746ms/step - loss: 0.8587 - acc: 0.6796 - top5-acc: 0.9756 - val_loss: 0.7765 - val_acc: 0.7320 - val_top5-acc: 0.9804 - lr: 0.0010\n",
            "Epoch 27/50\n",
            "704/704 [==============================] - 526s 747ms/step - loss: 0.8421 - acc: 0.6856 - top5-acc: 0.9752 - val_loss: 0.7541 - val_acc: 0.7432 - val_top5-acc: 0.9824 - lr: 0.0010\n",
            "Epoch 28/50\n",
            "704/704 [==============================] - 525s 746ms/step - loss: 0.7062 - acc: 0.7284 - top5-acc: 0.9847 - val_loss: 0.6549 - val_acc: 0.7804 - val_top5-acc: 0.9860 - lr: 2.0000e-04\n",
            "Epoch 29/50\n",
            "704/704 [==============================] - 525s 746ms/step - loss: 0.6744 - acc: 0.7396 - top5-acc: 0.9859 - val_loss: 0.6609 - val_acc: 0.7844 - val_top5-acc: 0.9844 - lr: 2.0000e-04\n",
            "Epoch 30/50\n",
            "704/704 [==============================] - 526s 747ms/step - loss: 0.6659 - acc: 0.7416 - top5-acc: 0.9869 - val_loss: 0.6723 - val_acc: 0.7792 - val_top5-acc: 0.9856 - lr: 2.0000e-04\n",
            "Epoch 31/50\n",
            "704/704 [==============================] - 525s 746ms/step - loss: 0.6479 - acc: 0.7493 - top5-acc: 0.9861 - val_loss: 0.6610 - val_acc: 0.7850 - val_top5-acc: 0.9850 - lr: 2.0000e-04\n",
            "Epoch 32/50\n",
            "704/704 [==============================] - 526s 747ms/step - loss: 0.6175 - acc: 0.7574 - top5-acc: 0.9887 - val_loss: 0.6454 - val_acc: 0.7876 - val_top5-acc: 0.9866 - lr: 4.0000e-05\n",
            "Epoch 33/50\n",
            "704/704 [==============================] - 525s 746ms/step - loss: 0.6092 - acc: 0.7615 - top5-acc: 0.9892 - val_loss: 0.6477 - val_acc: 0.7882 - val_top5-acc: 0.9854 - lr: 4.0000e-05\n",
            "Epoch 34/50\n",
            "704/704 [==============================] - 525s 746ms/step - loss: 0.6005 - acc: 0.7639 - top5-acc: 0.9900 - val_loss: 0.6492 - val_acc: 0.7880 - val_top5-acc: 0.9854 - lr: 4.0000e-05\n",
            "Epoch 35/50\n",
            "704/704 [==============================] - 525s 746ms/step - loss: 0.6006 - acc: 0.7648 - top5-acc: 0.9898 - val_loss: 0.6477 - val_acc: 0.7914 - val_top5-acc: 0.9856 - lr: 4.0000e-05\n",
            "Epoch 36/50\n",
            "704/704 [==============================] - 525s 746ms/step - loss: 0.6004 - acc: 0.7627 - top5-acc: 0.9903 - val_loss: 0.6479 - val_acc: 0.7924 - val_top5-acc: 0.9864 - lr: 8.0000e-06\n",
            "Epoch 37/50\n",
            "704/704 [==============================] - 525s 746ms/step - loss: 0.5901 - acc: 0.7670 - top5-acc: 0.9901 - val_loss: 0.6494 - val_acc: 0.7916 - val_top5-acc: 0.9862 - lr: 8.0000e-06\n",
            "Epoch 38/50\n",
            "704/704 [==============================] - 525s 746ms/step - loss: 0.5906 - acc: 0.7684 - top5-acc: 0.9898 - val_loss: 0.6480 - val_acc: 0.7940 - val_top5-acc: 0.9862 - lr: 8.0000e-06\n",
            "Epoch 39/50\n",
            "704/704 [==============================] - 525s 746ms/step - loss: 0.5968 - acc: 0.7634 - top5-acc: 0.9892 - val_loss: 0.6481 - val_acc: 0.7936 - val_top5-acc: 0.9864 - lr: 1.6000e-06\n",
            "Epoch 40/50\n",
            "704/704 [==============================] - 525s 746ms/step - loss: 0.5861 - acc: 0.7677 - top5-acc: 0.9902 - val_loss: 0.6479 - val_acc: 0.7942 - val_top5-acc: 0.9864 - lr: 1.6000e-06\n",
            "Epoch 41/50\n",
            "704/704 [==============================] - 525s 746ms/step - loss: 0.5901 - acc: 0.7693 - top5-acc: 0.9892 - val_loss: 0.6483 - val_acc: 0.7932 - val_top5-acc: 0.9862 - lr: 1.6000e-06\n",
            "Epoch 42/50\n",
            "704/704 [==============================] - 525s 746ms/step - loss: 0.5927 - acc: 0.7634 - top5-acc: 0.9906 - val_loss: 0.6482 - val_acc: 0.7934 - val_top5-acc: 0.9864 - lr: 3.2000e-07\n",
            "Epoch 43/50\n",
            "704/704 [==============================] - 525s 746ms/step - loss: 0.5887 - acc: 0.7677 - top5-acc: 0.9905 - val_loss: 0.6483 - val_acc: 0.7940 - val_top5-acc: 0.9862 - lr: 3.2000e-07\n",
            "Epoch 44/50\n",
            "704/704 [==============================] - 526s 747ms/step - loss: 0.5865 - acc: 0.7680 - top5-acc: 0.9905 - val_loss: 0.6484 - val_acc: 0.7936 - val_top5-acc: 0.9862 - lr: 3.2000e-07\n",
            "Epoch 45/50\n",
            "704/704 [==============================] - 526s 747ms/step - loss: 0.5923 - acc: 0.7666 - top5-acc: 0.9896 - val_loss: 0.6484 - val_acc: 0.7938 - val_top5-acc: 0.9862 - lr: 6.4000e-08\n",
            "Epoch 46/50\n",
            "704/704 [==============================] - 526s 747ms/step - loss: 0.5889 - acc: 0.7682 - top5-acc: 0.9894 - val_loss: 0.6484 - val_acc: 0.7934 - val_top5-acc: 0.9862 - lr: 6.4000e-08\n",
            "Epoch 47/50\n",
            "704/704 [==============================] - 526s 747ms/step - loss: 0.5924 - acc: 0.7663 - top5-acc: 0.9897 - val_loss: 0.6484 - val_acc: 0.7938 - val_top5-acc: 0.9862 - lr: 6.4000e-08\n",
            "313/313 [==============================] - 42s 133ms/step - loss: 0.6733 - acc: 0.7800 - top5-acc: 0.9875\n",
            "Test accuracy: 78.0%\n",
            "Test top 5 accuracy: 98.75%\n"
          ]
        }
      ]
    }
  ]
}