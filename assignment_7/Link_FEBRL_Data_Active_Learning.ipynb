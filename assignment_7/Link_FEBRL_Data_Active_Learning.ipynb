{
  "cells": [
    {
      "cell_type": "markdown",
      "metadata": {
        "id": "mOowulb6TPrK"
      },
      "source": [
        "# Use Active Learning to Link FEBRL People Data"
      ]
    },
    {
      "cell_type": "markdown",
      "metadata": {
        "id": "JfmmknP_TPrO"
      },
      "source": [
        "<a href=\"https://colab.research.google.com/github/rachhouse/intro-to-data-linking/blob/main/tutorial_notebooks/03_Link_FEBRL_Data_with_Active_Learning.ipynb\" target=\"_parent\"><img src=\"https://colab.research.google.com/assets/colab-badge.svg\" alt=\"Open In Colab\"></a>"
      ]
    },
    {
      "cell_type": "markdown",
      "metadata": {
        "id": "1yaa7N0QTPrP"
      },
      "source": [
        "In this tutorial, we'll use the [dedupe library](https://github.com/dedupeio/dedupe) to experiment with an active learning approach to linking our FEBRL people datasets.\n",
        "\n",
        "Once again, we'll use the same training dataset and evaluation functions as the SimSum classification tutorial; these have been included in a separate `.py` file for re-use and convenience, so we can focus on code unique to this tutorial."
      ]
    },
    {
      "cell_type": "markdown",
      "metadata": {
        "id": "Fa283hXrTPrQ"
      },
      "source": [
        "## Google Colab Setup"
      ]
    },
    {
      "cell_type": "code",
      "execution_count": 1,
      "metadata": {
        "id": "HZChYqjHTPrQ",
        "colab": {
          "base_uri": "https://localhost:8080/"
        },
        "outputId": "5413b6a2-d3de-422a-9cb7-30d144d1fd2c"
      },
      "outputs": [
        {
          "output_type": "stream",
          "name": "stdout",
          "text": [
            "Requirement already satisfied: numpy in /usr/local/lib/python3.7/dist-packages (1.21.4)\n"
          ]
        }
      ],
      "source": [
        "# Check if we're running locally, or in Google Colab.\n",
        "try:\n",
        "    import google.colab\n",
        "    COLAB = True\n",
        "except ModuleNotFoundError:\n",
        "    COLAB = False\n",
        "    \n",
        "# If we're running in Colab, download the tutorial functions file \n",
        "# to the Colab session local directory, and install required libraries.\n",
        "if COLAB:\n",
        "    import requests\n",
        "    \n",
        "    tutorial_functions_url = \"https://raw.githubusercontent.com/rachhouse/intro-to-data-linking/main/tutorial_notebooks/linking_tutorial_functions.py\"\n",
        "    r = requests.get(tutorial_functions_url)\n",
        "    \n",
        "    with open(\"linking_tutorial_functions.py\", \"w\") as fh:\n",
        "        fh.write(r.text)\n",
        "    !pip install numpy --upgrade\n",
        "    !pip install -q altair dedupe dedupe-variable-name jellyfish recordlinkage "
      ]
    },
    {
      "cell_type": "code",
      "execution_count": 2,
      "metadata": {
        "id": "t2g1WJWcTPrR",
        "colab": {
          "base_uri": "https://localhost:8080/"
        },
        "outputId": "1d39e628-d775-4e6c-e1c4-bb9c93a76c25"
      },
      "outputs": [
        {
          "output_type": "stream",
          "name": "stderr",
          "text": [
            "INFO:root:Generating grammar tables from /usr/lib/python3.7/lib2to3/Grammar.txt\n",
            "INFO:root:Generating grammar tables from /usr/lib/python3.7/lib2to3/PatternGrammar.txt\n"
          ]
        }
      ],
      "source": [
        "import datetime\n",
        "import itertools\n",
        "import os\n",
        "import pathlib\n",
        "import re\n",
        "from typing import Any, Dict, Optional\n",
        "\n",
        "import dedupe\n",
        "import pandas as pd\n",
        "\n",
        "import linking_tutorial_functions as tutorial"
      ]
    },
    {
      "cell_type": "markdown",
      "metadata": {
        "id": "ukbgkxoSTPrS"
      },
      "source": [
        "## Define Working Filepaths"
      ]
    },
    {
      "cell_type": "markdown",
      "metadata": {
        "id": "nygQ60-DTPrT"
      },
      "source": [
        "For convenience, we'll define a `pathlib.Path` to reference our current working directory."
      ]
    },
    {
      "cell_type": "code",
      "execution_count": 3,
      "metadata": {
        "id": "whAJdBDfTPrT",
        "colab": {
          "base_uri": "https://localhost:8080/"
        },
        "outputId": "c64257f4-4c7b-41da-bba2-f1c7bf9fd071"
      },
      "outputs": [
        {
          "output_type": "execute_result",
          "data": {
            "text/plain": [
              "PosixPath('/content')"
            ]
          },
          "metadata": {},
          "execution_count": 3
        }
      ],
      "source": [
        "WORKING_DIR = pathlib.Path(os.path.abspath(''))\n",
        "WORKING_DIR"
      ]
    },
    {
      "cell_type": "markdown",
      "metadata": {
        "id": "7HIE6G6_TPrU"
      },
      "source": [
        "## Load Training Dataset and Ground Truth Labels"
      ]
    },
    {
      "cell_type": "code",
      "execution_count": 4,
      "metadata": {
        "id": "5D022gSyTPrV"
      },
      "outputs": [],
      "source": [
        "df_A, df_B, df_ground_truth = tutorial.load_febrl_training_data(COLAB)"
      ]
    },
    {
      "cell_type": "markdown",
      "metadata": {
        "id": "qn1HAP3YTPrV"
      },
      "source": [
        "Let's take a quick look at our training dataset to refresh on the columns, formats, and data."
      ]
    },
    {
      "cell_type": "code",
      "execution_count": 5,
      "metadata": {
        "id": "UN34NsVBTPrV",
        "colab": {
          "base_uri": "https://localhost:8080/",
          "height": 237
        },
        "outputId": "41542cf7-64cd-482a-a352-295eec80f2a8"
      },
      "outputs": [
        {
          "output_type": "execute_result",
          "data": {
            "text/html": [
              "<div>\n",
              "<style scoped>\n",
              "    .dataframe tbody tr th:only-of-type {\n",
              "        vertical-align: middle;\n",
              "    }\n",
              "\n",
              "    .dataframe tbody tr th {\n",
              "        vertical-align: top;\n",
              "    }\n",
              "\n",
              "    .dataframe thead th {\n",
              "        text-align: right;\n",
              "    }\n",
              "</style>\n",
              "<table border=\"1\" class=\"dataframe\">\n",
              "  <thead>\n",
              "    <tr style=\"text-align: right;\">\n",
              "      <th></th>\n",
              "      <th>first_name</th>\n",
              "      <th>surname</th>\n",
              "      <th>street_number</th>\n",
              "      <th>address_1</th>\n",
              "      <th>address_2</th>\n",
              "      <th>suburb</th>\n",
              "      <th>postcode</th>\n",
              "      <th>state</th>\n",
              "      <th>date_of_birth</th>\n",
              "      <th>age</th>\n",
              "      <th>phone_number</th>\n",
              "      <th>soc_sec_id</th>\n",
              "    </tr>\n",
              "    <tr>\n",
              "      <th>person_id_A</th>\n",
              "      <th></th>\n",
              "      <th></th>\n",
              "      <th></th>\n",
              "      <th></th>\n",
              "      <th></th>\n",
              "      <th></th>\n",
              "      <th></th>\n",
              "      <th></th>\n",
              "      <th></th>\n",
              "      <th></th>\n",
              "      <th></th>\n",
              "      <th></th>\n",
              "    </tr>\n",
              "  </thead>\n",
              "  <tbody>\n",
              "    <tr>\n",
              "      <th>fbc4143d-15f9-4f27-b5f0-dedbadce6616</th>\n",
              "      <td>matilda</td>\n",
              "      <td>struck</td>\n",
              "      <td>8</td>\n",
              "      <td>ballard place</td>\n",
              "      <td></td>\n",
              "      <td>west perth</td>\n",
              "      <td>2470</td>\n",
              "      <td>qld</td>\n",
              "      <td>19611002</td>\n",
              "      <td>32</td>\n",
              "      <td>03 05903135</td>\n",
              "      <td>8276847</td>\n",
              "    </tr>\n",
              "    <tr>\n",
              "      <th>48a56cad-7ba6-45e1-97cd-517ba65bdab5</th>\n",
              "      <td>lachlan</td>\n",
              "      <td>eglinton</td>\n",
              "      <td>36</td>\n",
              "      <td>kambalda crescent</td>\n",
              "      <td>villa 427</td>\n",
              "      <td>auburn</td>\n",
              "      <td>5109</td>\n",
              "      <td></td>\n",
              "      <td>19260108</td>\n",
              "      <td>27</td>\n",
              "      <td></td>\n",
              "      <td>9937958</td>\n",
              "    </tr>\n",
              "    <tr>\n",
              "      <th>b1792d21-e4be-4b86-8dea-454ffa5194c5</th>\n",
              "      <td>mikayla</td>\n",
              "      <td>asher</td>\n",
              "      <td>588</td>\n",
              "      <td>britten-jones drive</td>\n",
              "      <td></td>\n",
              "      <td>miami</td>\n",
              "      <td>4218</td>\n",
              "      <td>nsw</td>\n",
              "      <td>19251102</td>\n",
              "      <td>32</td>\n",
              "      <td>03 33770501</td>\n",
              "      <td>7017310</td>\n",
              "    </tr>\n",
              "    <tr>\n",
              "      <th>96653d73-bebc-4459-94f3-c3f0a8c514d4</th>\n",
              "      <td>grace</td>\n",
              "      <td>bristow</td>\n",
              "      <td>7</td>\n",
              "      <td></td>\n",
              "      <td>wandella park snowy</td>\n",
              "      <td>cardiff</td>\n",
              "      <td>6163</td>\n",
              "      <td>nsw</td>\n",
              "      <td>19400120</td>\n",
              "      <td></td>\n",
              "      <td>07 37864073</td>\n",
              "      <td>3535974</td>\n",
              "    </tr>\n",
              "    <tr>\n",
              "      <th>41f038b8-77c0-45a5-9e1f-e62b8637ffd1</th>\n",
              "      <td>wilson</td>\n",
              "      <td>bishop</td>\n",
              "      <td>11</td>\n",
              "      <td>chisholm street</td>\n",
              "      <td></td>\n",
              "      <td>bronte</td>\n",
              "      <td>2490</td>\n",
              "      <td>nsw</td>\n",
              "      <td>19210305</td>\n",
              "      <td>27</td>\n",
              "      <td>04 15209769</td>\n",
              "      <td>5573522</td>\n",
              "    </tr>\n",
              "  </tbody>\n",
              "</table>\n",
              "</div>"
            ],
            "text/plain": [
              "                                     first_name  ... soc_sec_id\n",
              "person_id_A                                      ...           \n",
              "fbc4143d-15f9-4f27-b5f0-dedbadce6616    matilda  ...    8276847\n",
              "48a56cad-7ba6-45e1-97cd-517ba65bdab5    lachlan  ...    9937958\n",
              "b1792d21-e4be-4b86-8dea-454ffa5194c5    mikayla  ...    7017310\n",
              "96653d73-bebc-4459-94f3-c3f0a8c514d4      grace  ...    3535974\n",
              "41f038b8-77c0-45a5-9e1f-e62b8637ffd1     wilson  ...    5573522\n",
              "\n",
              "[5 rows x 12 columns]"
            ]
          },
          "metadata": {},
          "execution_count": 5
        }
      ],
      "source": [
        "df_A.head()"
      ]
    },
    {
      "cell_type": "markdown",
      "metadata": {
        "id": "ma6GF5PVTPrW"
      },
      "source": [
        "## Data Augmentation"
      ]
    },
    {
      "cell_type": "markdown",
      "metadata": {
        "id": "DX8XIiD4TPrW"
      },
      "source": [
        "We'll do minimal data augmentation before feeding our training data to `dedupe`; we just want to format the date of birth data as `mm/dd/yy`, and ensure all columns are in string format and stripped of trailing/leading whitespace. Additionally, `dedupe` requires input data to be in dictionaries, using the record id as the key and the record metadata as the value. So, we'll convert our dataframes to this format."
      ]
    },
    {
      "cell_type": "code",
      "execution_count": 6,
      "metadata": {
        "id": "5EbSKLCuTPrW"
      },
      "outputs": [],
      "source": [
        "def format_dob(dob: str) -> Optional[str]:\n",
        "    \"\"\" Transform date of birth format from YYYYMMDD to mm/dd/yy.\n",
        "        If DOB cannot be transformed, return None.\n",
        "    \"\"\"\n",
        "    try:\n",
        "        if re.match(r\"\\d{8}\", dob):\n",
        "            return (datetime.datetime.strptime(dob, \"%Y%m%d\")).strftime(\"%m/%d/%y\")\n",
        "    except:\n",
        "        pass\n",
        "\n",
        "    return None\n",
        "\n",
        "def strip_and_null(x: Any) -> Optional[str]:\n",
        "    \"\"\" Stringify incoming variable, remove trailing/leading whitespace\n",
        "        and return resulting string. Return None if resulting string is empty.\n",
        "    \"\"\"\n",
        "    x = str(x).strip()\n",
        "    \n",
        "    if x == \"\":\n",
        "        return None\n",
        "    else:\n",
        "        return x\n",
        "    \n",
        "def convert_df_to_dict(df: pd.DataFrame) -> Dict[str, Dict]:\n",
        "    \"\"\" Convert pandas DataFrame to dict keyed by record id.\n",
        "        Convert all fields to strings or Nones to satisfy dedupe.\n",
        "        Transform date format of date_of_birth field.\n",
        "    \"\"\"    \n",
        "\n",
        "    for col in df.columns:\n",
        "        df[col] = df[col].apply(lambda x: strip_and_null(x))\n",
        "\n",
        "    df[\"date_of_birth\"] = df[\"date_of_birth\"].apply(lambda x: format_dob(x))    \n",
        "\n",
        "    return df.to_dict(\"index\")"
      ]
    },
    {
      "cell_type": "code",
      "execution_count": 7,
      "metadata": {
        "id": "baxoPiZmTPrX"
      },
      "outputs": [],
      "source": [
        "records_A = convert_df_to_dict(df_A)\n",
        "records_B = convert_df_to_dict(df_B)"
      ]
    },
    {
      "cell_type": "markdown",
      "metadata": {
        "id": "MrlVZobzTPrX"
      },
      "source": [
        "We can examine a small sample of the resulting transformed records:"
      ]
    },
    {
      "cell_type": "code",
      "execution_count": 8,
      "metadata": {
        "id": "96CC8LxpTPrX",
        "colab": {
          "base_uri": "https://localhost:8080/"
        },
        "outputId": "8855a544-5cb2-4ac7-faf7-202149645034"
      },
      "outputs": [
        {
          "output_type": "execute_result",
          "data": {
            "text/plain": [
              "[{'address_1': 'ballard place',\n",
              "  'address_2': None,\n",
              "  'age': '32',\n",
              "  'date_of_birth': '10/02/61',\n",
              "  'first_name': 'matilda',\n",
              "  'phone_number': '03 05903135',\n",
              "  'postcode': '2470',\n",
              "  'soc_sec_id': '8276847',\n",
              "  'state': 'qld',\n",
              "  'street_number': '8',\n",
              "  'suburb': 'west perth',\n",
              "  'surname': 'struck'},\n",
              " {'address_1': 'kambalda crescent',\n",
              "  'address_2': 'villa 427',\n",
              "  'age': '27',\n",
              "  'date_of_birth': '01/08/26',\n",
              "  'first_name': 'lachlan',\n",
              "  'phone_number': None,\n",
              "  'postcode': '5109',\n",
              "  'soc_sec_id': '9937958',\n",
              "  'state': None,\n",
              "  'street_number': '36',\n",
              "  'suburb': 'auburn',\n",
              "  'surname': 'eglinton'}]"
            ]
          },
          "metadata": {},
          "execution_count": 8
        }
      ],
      "source": [
        "[records_A[k] for k in list(records_A.keys())[0:2]]"
      ]
    },
    {
      "cell_type": "markdown",
      "metadata": {
        "id": "s9_1eQjmTPrY"
      },
      "source": [
        "## Prepare Training"
      ]
    },
    {
      "cell_type": "markdown",
      "metadata": {
        "id": "Vtpa9VrcTPrY"
      },
      "source": [
        "When we linked our data via SimSum and supervised learning, we defined our blockers and comparators manually with `recordlinkage`. The `dedupe` library takes an active learning approach to blocking and classification and will use our feedback gathered during the labeling session to learn blocking rules and train a classifier. \n",
        "\n",
        "To prepare our `dedupe.RecordLink` object for training, first we'll define the fields that we think `dedupe` should pay attention to when matching records - these definitions will serve as the comparators. The `field` contains the name of the attribute to use for comparison, and the `type` defines the comparison type."
      ]
    },
    {
      "cell_type": "code",
      "execution_count": 9,
      "metadata": {
        "id": "7PLro0RLTPrY",
        "colab": {
          "base_uri": "https://localhost:8080/"
        },
        "outputId": "7629a67c-9f08-4c9b-c05c-311209ae31fa"
      },
      "outputs": [
        {
          "output_type": "stream",
          "name": "stderr",
          "text": [
            "INFO:dedupe.canopy_index:Removing stop word re\n",
            "INFO:dedupe.training:Final predicate set:\n",
            "INFO:dedupe.training:SimplePredicate: (commonThreeTokens, address_2)\n"
          ]
        },
        {
          "output_type": "stream",
          "name": "stdout",
          "text": [
            "CPU times: user 57.2 s, sys: 1.09 s, total: 58.3 s\n",
            "Wall time: 57.5 s\n"
          ]
        }
      ],
      "source": [
        "%%time\n",
        "\n",
        "fields = [\n",
        "    { \"field\" : \"first_name\", \"type\" : \"Name\" },\n",
        "    { \"field\" : \"surname\", \"type\" : \"Name\" },\n",
        "    { \"field\" : \"address_1\", \"type\" : \"ShortString\" },\n",
        "    { \"field\" : \"address_2\", \"type\" : \"ShortString\" },\n",
        "    { \"field\" : \"suburb\", \"type\" : \"ShortString\" },\n",
        "    { \"field\" : \"postcode\", \"type\" : \"Exact\" },\n",
        "    { \"field\" : \"state\", \"type\" : \"Exact\" },\n",
        "    { \"field\" : \"date_of_birth\", \"type\" : \"DateTime\" },\n",
        "    { \"field\" : \"soc_sec_id\", \"type\" : \"Exact\" },\n",
        "]\n",
        "\n",
        "linker = dedupe.RecordLink(fields)\n",
        "linker.prepare_training(records_A, records_B)"
      ]
    },
    {
      "cell_type": "markdown",
      "metadata": {
        "id": "Mv4OsudtTPrY"
      },
      "source": [
        "## Active Learning Labeling Session!"
      ]
    },
    {
      "cell_type": "markdown",
      "metadata": {
        "id": "-6moJiulTPrZ"
      },
      "source": [
        "At this point, we're ready to provide feedback to `dedupe` via an active learning labeling session. For this, `dedupe` supplies a convenience method to iterate through pairs it is uncertain about. As you provide feedback for each pair, dedupe learns blocking rules and recalculates its linking model weights.\n",
        "\n",
        "You can use `y` (yes, match), `n` (no, not match), and `u` (unsure) to provide feedback on candidate links. When you're ready to exit the labeling session, use `f`."
      ]
    },
    {
      "cell_type": "code",
      "execution_count": 10,
      "metadata": {
        "id": "cM1SEiYYTPrZ",
        "colab": {
          "base_uri": "https://localhost:8080/"
        },
        "outputId": "d58d8cf7-aa26-4dbd-9a1e-695ba78d5870"
      },
      "outputs": [
        {
          "output_type": "stream",
          "name": "stderr",
          "text": [
            "first_name : ridley\n",
            "surname : wasley\n",
            "address_1 : lanley square\n",
            "address_2 : None\n",
            "suburb : magill\n",
            "postcode : 2605\n",
            "state : nsw\n",
            "date_of_birth : 04/01/23\n",
            "soc_sec_id : 9750456\n",
            "\n",
            "first_name : wasley\n",
            "surname : ridldh\n",
            "address_1 : lanley square\n",
            "address_2 : None\n",
            "suburb : magill\n",
            "postcode : 2605\n",
            "state : nsw\n",
            "date_of_birth : None\n",
            "soc_sec_id : 9750456\n",
            "\n",
            "0/10 positive, 0/10 negative\n",
            "Do these records refer to the same thing?\n",
            "(y)es / (n)o / (u)nsure / (f)inished\n"
          ]
        },
        {
          "name": "stdout",
          "output_type": "stream",
          "text": [
            "y\n"
          ]
        },
        {
          "output_type": "stream",
          "name": "stderr",
          "text": [
            "first_name : mattheo\n",
            "surname : bullock\n",
            "address_1 : murchison street\n",
            "address_2 : None\n",
            "suburb : rye\n",
            "postcode : 3041\n",
            "state : nsw\n",
            "date_of_birth : 12/12/05\n",
            "soc_sec_id : 2296205\n",
            "\n",
            "first_name : matteo\n",
            "surname : bulloxk\n",
            "address_1 : None\n",
            "address_2 : None\n",
            "suburb : rye\n",
            "postcode : 3041\n",
            "state : nsw\n",
            "date_of_birth : 12/12/05\n",
            "soc_sec_id : 2296205\n",
            "\n",
            "1/10 positive, 0/10 negative\n",
            "Do these records refer to the same thing?\n",
            "(y)es / (n)o / (u)nsure / (f)inished / (p)revious\n"
          ]
        },
        {
          "name": "stdout",
          "output_type": "stream",
          "text": [
            "y\n"
          ]
        },
        {
          "output_type": "stream",
          "name": "stderr",
          "text": [
            "INFO:dedupe.training:Final predicate set:\n",
            "INFO:dedupe.training:SimplePredicate: (wholeFieldPredicate, soc_sec_id)\n",
            "first_name : callum\n",
            "surname : nan\n",
            "address_1 : britten-jones drive\n",
            "address_2 : None\n",
            "suburb : penshurst\n",
            "postcode : 3799\n",
            "state : nsw\n",
            "date_of_birth : 11/08/68\n",
            "soc_sec_id : 6212400\n",
            "\n",
            "first_name : calkk\n",
            "surname : nan\n",
            "address_1 : britten-jones drive\n",
            "address_2 : None\n",
            "suburb : penshurst\n",
            "postcode : 3799\n",
            "state : ws\n",
            "date_of_birth : 11/08/68\n",
            "soc_sec_id : 6212480\n",
            "\n",
            "2/10 positive, 0/10 negative\n",
            "Do these records refer to the same thing?\n",
            "(y)es / (n)o / (u)nsure / (f)inished / (p)revious\n"
          ]
        },
        {
          "name": "stdout",
          "output_type": "stream",
          "text": [
            "y\n"
          ]
        },
        {
          "output_type": "stream",
          "name": "stderr",
          "text": [
            "first_name : joel\n",
            "surname : lowe\n",
            "address_1 : benjee place\n",
            "address_2 : brindabella specialist centre\n",
            "suburb : None\n",
            "postcode : 2429\n",
            "state : nsw\n",
            "date_of_birth : 12/29/18\n",
            "soc_sec_id : 8931185\n",
            "\n",
            "first_name : mhary\n",
            "surname : tilor\n",
            "address_1 : None\n",
            "address_2 : None\n",
            "suburb : parap\n",
            "postcode : 6051\n",
            "state : vic\n",
            "date_of_birth : None\n",
            "soc_sec_id : 4657080\n",
            "\n",
            "3/10 positive, 0/10 negative\n",
            "Do these records refer to the same thing?\n",
            "(y)es / (n)o / (u)nsure / (f)inished / (p)revious\n"
          ]
        },
        {
          "name": "stdout",
          "output_type": "stream",
          "text": [
            "n\n"
          ]
        },
        {
          "output_type": "stream",
          "name": "stderr",
          "text": [
            "INFO:dedupe.training:Final predicate set:\n",
            "INFO:dedupe.training:SimplePredicate: (wholeFieldPredicate, date_of_birth)\n",
            "INFO:dedupe.training:SimplePredicate: (wholeFieldPredicate, soc_sec_id)\n",
            "first_name : barnaby\n",
            "surname : butt\n",
            "address_1 : arabana street\n",
            "address_2 : carinya lodge\n",
            "suburb : broadbeach waters\n",
            "postcode : 2195\n",
            "state : nsw\n",
            "date_of_birth : None\n",
            "soc_sec_id : 6332332\n",
            "\n",
            "first_name : barnaby\n",
            "surname : haberfield\n",
            "address_1 : arabana street\n",
            "address_2 : None\n",
            "suburb : broadbeach waters\n",
            "postcode : 2195\n",
            "state : nsw\n",
            "date_of_birth : None\n",
            "soc_sec_id : 4276489\n",
            "\n",
            "3/10 positive, 1/10 negative\n",
            "Do these records refer to the same thing?\n",
            "(y)es / (n)o / (u)nsure / (f)inished / (p)revious\n"
          ]
        },
        {
          "name": "stdout",
          "output_type": "stream",
          "text": [
            "y\n"
          ]
        },
        {
          "output_type": "stream",
          "name": "stderr",
          "text": [
            "first_name : jackson\n",
            "surname : springthorpe\n",
            "address_1 : werriwa crescent\n",
            "address_2 : minore falls\n",
            "suburb : blayney\n",
            "postcode : 3068\n",
            "state : nsw\n",
            "date_of_birth : None\n",
            "soc_sec_id : 5934407\n",
            "\n",
            "first_name : tiarna\n",
            "surname : grubb\n",
            "address_1 : brickhilo place\n",
            "address_2 : vincent court\n",
            "suburb : craigie\n",
            "postcode : 2745\n",
            "state : nsw\n",
            "date_of_birth : 07/12/50\n",
            "soc_sec_id : 8508011\n",
            "\n",
            "4/10 positive, 1/10 negative\n",
            "Do these records refer to the same thing?\n",
            "(y)es / (n)o / (u)nsure / (f)inished / (p)revious\n"
          ]
        },
        {
          "name": "stdout",
          "output_type": "stream",
          "text": [
            "n\n"
          ]
        },
        {
          "output_type": "stream",
          "name": "stderr",
          "text": [
            "INFO:dedupe.training:Final predicate set:\n",
            "INFO:dedupe.training:SimplePredicate: (firstTwoTokensPredicate, address_1)\n",
            "INFO:dedupe.training:SimplePredicate: (wholeFieldPredicate, date_of_birth)\n",
            "first_name : connor\n",
            "surname : walkley\n",
            "address_1 : william webb drive\n",
            "address_2 : laurel bank\n",
            "suburb : coombabah\n",
            "postcode : 4506\n",
            "state : nsw\n",
            "date_of_birth : None\n",
            "soc_sec_id : 5053738\n",
            "\n",
            "first_name : talln\n",
            "surname : pascoe\n",
            "address_1 : crewsfplkce\n",
            "address_2 : None\n",
            "suburb : ashfield\n",
            "postcode : 2088\n",
            "state : nsw\n",
            "date_of_birth : 04/27/95\n",
            "soc_sec_id : 5504003\n",
            "\n",
            "4/10 positive, 2/10 negative\n",
            "Do these records refer to the same thing?\n",
            "(y)es / (n)o / (u)nsure / (f)inished / (p)revious\n"
          ]
        },
        {
          "name": "stdout",
          "output_type": "stream",
          "text": [
            "n\n"
          ]
        },
        {
          "output_type": "stream",
          "name": "stderr",
          "text": [
            "first_name : hamish\n",
            "surname : lowe\n",
            "address_1 : karrugang circuit\n",
            "address_2 : None\n",
            "suburb : keon park\n",
            "postcode : 4215\n",
            "state : qld\n",
            "date_of_birth : 02/25/43\n",
            "soc_sec_id : 1474368\n",
            "\n",
            "first_name : hamish\n",
            "surname : lowe\n",
            "address_1 : None\n",
            "address_2 : None\n",
            "suburb : keon park\n",
            "postcode : 4215\n",
            "state : qld\n",
            "date_of_birth : None\n",
            "soc_sec_id : 1474368\n",
            "\n",
            "4/10 positive, 3/10 negative\n",
            "Do these records refer to the same thing?\n",
            "(y)es / (n)o / (u)nsure / (f)inished / (p)revious\n"
          ]
        },
        {
          "name": "stdout",
          "output_type": "stream",
          "text": [
            "y\n"
          ]
        },
        {
          "output_type": "stream",
          "name": "stderr",
          "text": [
            "first_name : chloe\n",
            "surname : soroosh\n",
            "address_1 : None\n",
            "address_2 : None\n",
            "suburb : kingston beach\n",
            "postcode : 2038\n",
            "state : wa\n",
            "date_of_birth : 09/27/79\n",
            "soc_sec_id : 8137719\n",
            "\n",
            "first_name : chloe\n",
            "surname : soroosh\n",
            "address_1 : None\n",
            "address_2 : None\n",
            "suburb : kingston beach\n",
            "postcode : 2038\n",
            "state : wa\n",
            "date_of_birth : None\n",
            "soc_sec_id : 8137719\n",
            "\n",
            "5/10 positive, 3/10 negative\n",
            "Do these records refer to the same thing?\n",
            "(y)es / (n)o / (u)nsure / (f)inished / (p)revious\n"
          ]
        },
        {
          "name": "stdout",
          "output_type": "stream",
          "text": [
            "y\n"
          ]
        },
        {
          "output_type": "stream",
          "name": "stderr",
          "text": [
            "INFO:dedupe.training:Final predicate set:\n",
            "INFO:dedupe.training:SimplePredicate: (wholeFieldPredicate, soc_sec_id)\n",
            "INFO:dedupe.training:SimplePredicate: (wholeFieldPredicate, date_of_birth)\n",
            "INFO:dedupe.training:SimplePredicate: (firstTwoTokensPredicate, suburb)\n",
            "first_name : logan\n",
            "surname : mac onochie\n",
            "address_1 : mackellar crescent\n",
            "address_2 : None\n",
            "suburb : oatlands\n",
            "postcode : 4207\n",
            "state : vic\n",
            "date_of_birth : 08/13/84\n",
            "soc_sec_id : 4647965\n",
            "\n",
            "first_name : logt\n",
            "surname : mac onochie\n",
            "address_1 : None\n",
            "address_2 : None\n",
            "suburb : oatlands\n",
            "postcode : 4207\n",
            "state : vic\n",
            "date_of_birth : None\n",
            "soc_sec_id : 4648775\n",
            "\n",
            "6/10 positive, 3/10 negative\n",
            "Do these records refer to the same thing?\n",
            "(y)es / (n)o / (u)nsure / (f)inished / (p)revious\n"
          ]
        },
        {
          "name": "stdout",
          "output_type": "stream",
          "text": [
            "y\n"
          ]
        },
        {
          "output_type": "stream",
          "name": "stderr",
          "text": [
            "first_name : alexandra\n",
            "surname : van rensburg\n",
            "address_1 : astelia place\n",
            "address_2 : None\n",
            "suburb : woodcroft\n",
            "postcode : 2756\n",
            "state : nsw\n",
            "date_of_birth : 01/31/22\n",
            "soc_sec_id : 3123032\n",
            "\n",
            "first_name : alexandra\n",
            "surname : van rensburg\n",
            "address_1 : None\n",
            "address_2 : None\n",
            "suburb : woodcroft\n",
            "postcode : 2756\n",
            "state : nsw\n",
            "date_of_birth : None\n",
            "soc_sec_id : 3123034\n",
            "\n",
            "7/10 positive, 3/10 negative\n",
            "Do these records refer to the same thing?\n",
            "(y)es / (n)o / (u)nsure / (f)inished / (p)revious\n"
          ]
        },
        {
          "name": "stdout",
          "output_type": "stream",
          "text": [
            "y\n"
          ]
        },
        {
          "output_type": "stream",
          "name": "stderr",
          "text": [
            "INFO:dedupe.training:Final predicate set:\n",
            "INFO:dedupe.training:SimplePredicate: (wholeFieldPredicate, soc_sec_id)\n",
            "INFO:dedupe.training:SimplePredicate: (firstTwoTokensPredicate, surname)\n",
            "INFO:dedupe.training:SimplePredicate: (wholeFieldPredicate, date_of_birth)\n",
            "INFO:dedupe.training:SimplePredicate: (firstTwoTokensPredicate, suburb)\n",
            "first_name : griffin\n",
            "surname : bradshaw\n",
            "address_1 : star close\n",
            "address_2 : None\n",
            "suburb : dunbogan\n",
            "postcode : 3109\n",
            "state : nsw\n",
            "date_of_birth : 10/09/47\n",
            "soc_sec_id : 8200588\n",
            "\n",
            "first_name : griffin\n",
            "surname : bradshaw\n",
            "address_1 : star close\n",
            "address_2 : None\n",
            "suburb : dunbogan\n",
            "postcode : 3109\n",
            "state : nsw\n",
            "date_of_birth : None\n",
            "soc_sec_id : 3456267\n",
            "\n",
            "8/10 positive, 3/10 negative\n",
            "Do these records refer to the same thing?\n",
            "(y)es / (n)o / (u)nsure / (f)inished / (p)revious\n"
          ]
        },
        {
          "name": "stdout",
          "output_type": "stream",
          "text": [
            "y\n"
          ]
        },
        {
          "output_type": "stream",
          "name": "stderr",
          "text": [
            "first_name : georgia\n",
            "surname : nguyen\n",
            "address_1 : None\n",
            "address_2 : brentwood vlge\n",
            "suburb : sefton\n",
            "postcode : 3101\n",
            "state : wa\n",
            "date_of_birth : None\n",
            "soc_sec_id : 4084643\n",
            "\n",
            "first_name : georgia\n",
            "surname : nguyen\n",
            "address_1 : None\n",
            "address_2 : brentwoom vlge\n",
            "suburb : sefton\n",
            "postcode : 3101\n",
            "state : wa\n",
            "date_of_birth : None\n",
            "soc_sec_id : 2139336\n",
            "\n",
            "9/10 positive, 3/10 negative\n",
            "Do these records refer to the same thing?\n",
            "(y)es / (n)o / (u)nsure / (f)inished / (p)revious\n"
          ]
        },
        {
          "name": "stdout",
          "output_type": "stream",
          "text": [
            "y\n"
          ]
        },
        {
          "output_type": "stream",
          "name": "stderr",
          "text": [
            "INFO:dedupe.training:Final predicate set:\n",
            "INFO:dedupe.training:SimplePredicate: (wholeFieldPredicate, soc_sec_id)\n",
            "INFO:dedupe.training:SimplePredicate: (firstTwoTokensPredicate, address_1)\n",
            "INFO:dedupe.training:SimplePredicate: (firstTwoTokensPredicate, surname)\n",
            "first_name : william\n",
            "surname : wilkins\n",
            "address_1 : None\n",
            "address_2 : None\n",
            "suburb : currumbin valley\n",
            "postcode : 3166\n",
            "state : nsw\n",
            "date_of_birth : 11/12/56\n",
            "soc_sec_id : 3252646\n",
            "\n",
            "first_name : william\n",
            "surname : wiljish\n",
            "address_1 : None\n",
            "address_2 : None\n",
            "suburb : currumbinuvalley\n",
            "postcode : 3166\n",
            "state : nsw\n",
            "date_of_birth : 11/12/56\n",
            "soc_sec_id : 3252666\n",
            "\n",
            "10/10 positive, 3/10 negative\n",
            "Do these records refer to the same thing?\n",
            "(y)es / (n)o / (u)nsure / (f)inished / (p)revious\n"
          ]
        },
        {
          "name": "stdout",
          "output_type": "stream",
          "text": [
            "n\n"
          ]
        },
        {
          "output_type": "stream",
          "name": "stderr",
          "text": [
            "INFO:dedupe.training:Final predicate set:\n",
            "INFO:dedupe.training:SimplePredicate: (wholeFieldPredicate, soc_sec_id)\n",
            "INFO:dedupe.training:SimplePredicate: (firstTwoTokensPredicate, address_1)\n",
            "INFO:dedupe.training:SimplePredicate: (firstTwoTokensPredicate, surname)\n",
            "INFO:dedupe.training:LevenshteinSearchPredicate: (1, address_2)\n",
            "first_name : kaitlin\n",
            "surname : murton\n",
            "address_1 : lucy gullett circuit\n",
            "address_2 : None\n",
            "suburb : dongara\n",
            "postcode : 2768\n",
            "state : wa\n",
            "date_of_birth : 07/03/43\n",
            "soc_sec_id : 5045300\n",
            "\n",
            "first_name : kaitlin\n",
            "surname : muron\n",
            "address_1 : lucy gulletr circuit\n",
            "address_2 : None\n",
            "suburb : dongara\n",
            "postcode : 2768\n",
            "state : wa\n",
            "date_of_birth : 07/03/43\n",
            "soc_sec_id : 5439641\n",
            "\n",
            "10/10 positive, 4/10 negative\n",
            "Do these records refer to the same thing?\n",
            "(y)es / (n)o / (u)nsure / (f)inished / (p)revious\n"
          ]
        },
        {
          "name": "stdout",
          "output_type": "stream",
          "text": [
            "y\n"
          ]
        },
        {
          "output_type": "stream",
          "name": "stderr",
          "text": [
            "first_name : connor\n",
            "surname : schaffarz\n",
            "address_1 : None\n",
            "address_2 : None\n",
            "suburb : frankston\n",
            "postcode : 2903\n",
            "state : wa\n",
            "date_of_birth : None\n",
            "soc_sec_id : 3293827\n",
            "\n",
            "first_name : connor\n",
            "surname : schaffarz\n",
            "address_1 : None\n",
            "address_2 : None\n",
            "suburb : frankston\n",
            "postcode : 2936\n",
            "state : wa\n",
            "date_of_birth : None\n",
            "soc_sec_id : 2687195\n",
            "\n",
            "11/10 positive, 4/10 negative\n",
            "Do these records refer to the same thing?\n",
            "(y)es / (n)o / (u)nsure / (f)inished / (p)revious\n"
          ]
        },
        {
          "name": "stdout",
          "output_type": "stream",
          "text": [
            "y\n"
          ]
        },
        {
          "output_type": "stream",
          "name": "stderr",
          "text": [
            "INFO:dedupe.training:Final predicate set:\n",
            "INFO:dedupe.training:TfidfNGramSearchPredicate: (0.8, address_1)\n",
            "INFO:dedupe.training:SimplePredicate: (wholeFieldPredicate, soc_sec_id)\n",
            "INFO:dedupe.training:SimplePredicate: (firstTwoTokensPredicate, surname)\n",
            "INFO:dedupe.training:LevenshteinSearchPredicate: (1, address_2)\n",
            "first_name : bailee\n",
            "surname : sheldon\n",
            "address_1 : wentworth avenue\n",
            "address_2 : montrose\n",
            "suburb : altona meadows\n",
            "postcode : 3132\n",
            "state : nsw\n",
            "date_of_birth : 10/05/30\n",
            "soc_sec_id : 5034109\n",
            "\n",
            "first_name : samara\n",
            "surname : shelley\n",
            "address_1 : bland place\n",
            "address_2 : None\n",
            "suburb : None\n",
            "postcode : 2533\n",
            "state : nsw\n",
            "date_of_birth : None\n",
            "soc_sec_id : 5902401\n",
            "\n",
            "12/10 positive, 4/10 negative\n",
            "Do these records refer to the same thing?\n",
            "(y)es / (n)o / (u)nsure / (f)inished / (p)revious\n"
          ]
        },
        {
          "name": "stdout",
          "output_type": "stream",
          "text": [
            "n'\n"
          ]
        },
        {
          "output_type": "stream",
          "name": "stderr",
          "text": [
            "(y)es / (n)o / (u)nsure / (f)inished / (p)revious\n"
          ]
        },
        {
          "name": "stdout",
          "output_type": "stream",
          "text": [
            "n\n"
          ]
        },
        {
          "output_type": "stream",
          "name": "stderr",
          "text": [
            "INFO:dedupe.training:Final predicate set:\n",
            "INFO:dedupe.training:SimplePredicate: (wholeFieldPredicate, suburb)\n",
            "first_name : daniel\n",
            "surname : van akker\n",
            "address_1 : None\n",
            "address_2 : None\n",
            "suburb : biggera waters\n",
            "postcode : 4032\n",
            "state : wa\n",
            "date_of_birth : 01/17/08\n",
            "soc_sec_id : 8117255\n",
            "\n",
            "first_name : dann\n",
            "surname : van akker\n",
            "address_1 : None\n",
            "address_2 : None\n",
            "suburb : biggera wayers\n",
            "postcode : 4032\n",
            "state : wr\n",
            "date_of_birth : None\n",
            "soc_sec_id : 8117255\n",
            "\n",
            "12/10 positive, 5/10 negative\n",
            "Do these records refer to the same thing?\n",
            "(y)es / (n)o / (u)nsure / (f)inished / (p)revious\n"
          ]
        },
        {
          "name": "stdout",
          "output_type": "stream",
          "text": [
            "f\n"
          ]
        },
        {
          "output_type": "stream",
          "name": "stderr",
          "text": [
            "Finished labeling\n"
          ]
        }
      ],
      "source": [
        "dedupe.console_label(linker)"
      ]
    },
    {
      "cell_type": "markdown",
      "metadata": {
        "id": "05rKD5mrTPrZ"
      },
      "source": [
        "We can now train our linker, based on the labeling session feedback."
      ]
    },
    {
      "cell_type": "code",
      "execution_count": 11,
      "metadata": {
        "id": "viuCNU7_TPra",
        "colab": {
          "base_uri": "https://localhost:8080/"
        },
        "outputId": "a14cb7fe-0b30-4c71-c251-31895b9349ce"
      },
      "outputs": [
        {
          "output_type": "stream",
          "name": "stderr",
          "text": [
            "INFO:rlr.crossvalidation:using cross validation to find optimum alpha...\n",
            "/usr/local/lib/python3.7/dist-packages/rlr/crossvalidation.py:122: RuntimeWarning: invalid value encountered in double_scalars\n",
            "  * (true_distinct + false_distinct)))\n",
            "INFO:rlr.crossvalidation:optimum alpha: 1.000000, score 0.3743502093715684\n",
            "INFO:dedupe.training:Final predicate set:\n",
            "INFO:dedupe.training:(SimplePredicate: (doubleMetaphone, suburb), PartialPredicate: (fingerprint, surname, Surname), SimplePredicate: (wholeFieldPredicate, state))\n",
            "INFO:dedupe.training:(SimplePredicate: (twoGramFingerprint, address_1), PartialIndexTfidfNGramSearchPredicate: (0.2, first_name, Surname), SimplePredicate: (sameSevenCharStartPredicate, suburb))\n",
            "INFO:dedupe.training:(SimplePredicate: (threeDayPredicate, date_of_birth), SimplePredicate: (doubleMetaphone, first_name), SimplePredicate: (tokenFieldPredicate, suburb))\n",
            "INFO:dedupe.training:(SimplePredicate: (commonTwoTokens, suburb), SimplePredicate: (commonSixGram, surname), SimplePredicate: (doubleMetaphone, first_name))\n"
          ]
        },
        {
          "output_type": "stream",
          "name": "stdout",
          "text": [
            "CPU times: user 5.85 s, sys: 835 ms, total: 6.68 s\n",
            "Wall time: 5.93 s\n"
          ]
        }
      ],
      "source": [
        "%%time\n",
        "linker.train()"
      ]
    },
    {
      "cell_type": "markdown",
      "metadata": {
        "id": "EWZmuUfKTPra"
      },
      "source": [
        "Let's persist our training data (captured during in the labeling session), as well as the learned model weights."
      ]
    },
    {
      "cell_type": "code",
      "execution_count": 12,
      "metadata": {
        "id": "ZUXvC7DdTPra"
      },
      "outputs": [],
      "source": [
        "ACTIVE_LEARNING_DIR = WORKING_DIR / \"dedupe_active_learning\"\n",
        "ACTIVE_LEARNING_DIR.mkdir(parents=True, exist_ok=True)\n",
        "\n",
        "SETTINGS_FILE = ACTIVE_LEARNING_DIR / \"dedupe_learned_settings\"\n",
        "TRAINING_FILE = ACTIVE_LEARNING_DIR / \"dedupe_training.json\"\n",
        "\n",
        "with open(TRAINING_FILE, \"w\") as fh:\n",
        "    linker.write_training(fh)\n",
        "    \n",
        "with open(SETTINGS_FILE, \"wb\") as sf:\n",
        "    linker.write_settings(sf)"
      ]
    },
    {
      "cell_type": "markdown",
      "metadata": {
        "id": "y38j2sq3TPra"
      },
      "source": [
        "## Examine Learned Blockers"
      ]
    },
    {
      "cell_type": "markdown",
      "metadata": {
        "id": "FSxeo0oTTPra"
      },
      "source": [
        "Now, let's take a look at the predicates (blockers) that `dedupe` learned during our active learning labeling session. Note that `dedupe` can learn composite predicates/blockers, i.e. individual predicates can be combined with logical operators."
      ]
    },
    {
      "cell_type": "code",
      "execution_count": 13,
      "metadata": {
        "id": "gmgL8LFcTPra",
        "colab": {
          "base_uri": "https://localhost:8080/"
        },
        "outputId": "bf4f5f75-6e87-48d4-cac9-651fbd9f9736"
      },
      "outputs": [
        {
          "output_type": "execute_result",
          "data": {
            "text/plain": [
              "((SimplePredicate: (doubleMetaphone, suburb),\n",
              "  PartialPredicate: (fingerprint, surname, Surname),\n",
              "  SimplePredicate: (wholeFieldPredicate, state)),\n",
              " (SimplePredicate: (twoGramFingerprint, address_1),\n",
              "  PartialIndexTfidfNGramSearchPredicate: (0.2, first_name, Surname),\n",
              "  SimplePredicate: (sameSevenCharStartPredicate, suburb)),\n",
              " (SimplePredicate: (threeDayPredicate, date_of_birth),\n",
              "  SimplePredicate: (doubleMetaphone, first_name),\n",
              "  SimplePredicate: (tokenFieldPredicate, suburb)),\n",
              " (SimplePredicate: (commonTwoTokens, suburb),\n",
              "  SimplePredicate: (commonSixGram, surname),\n",
              "  SimplePredicate: (doubleMetaphone, first_name)))"
            ]
          },
          "metadata": {},
          "execution_count": 13
        }
      ],
      "source": [
        "linker.predicates"
      ]
    },
    {
      "cell_type": "markdown",
      "metadata": {
        "id": "F8KX2ObETPrb"
      },
      "source": [
        "Next, let's examine the resulting candidate pairs and look at our blocking efficiency. The `.pairs` method will give us all candidate record pairs that are generated by blocking with the learned blockers."
      ]
    },
    {
      "cell_type": "code",
      "execution_count": 14,
      "metadata": {
        "id": "I5N4GgMJTPrb",
        "colab": {
          "base_uri": "https://localhost:8080/"
        },
        "outputId": "c71c1fbe-4c4a-40dd-d8ba-f40be34c7329"
      },
      "outputs": [
        {
          "output_type": "stream",
          "name": "stdout",
          "text": [
            "1,492 candidate pairs generated from blocking.\n"
          ]
        }
      ],
      "source": [
        "candidate_pairs = [x for x in linker.pairs(records_A, records_B)]\n",
        "print(f\"{len(candidate_pairs):,} candidate pairs generated from blocking.\")"
      ]
    },
    {
      "cell_type": "markdown",
      "metadata": {
        "id": "mbA3PiXUTPrb"
      },
      "source": [
        "You'll notice that, in contrast to `recordlinkage`, our post-blocking candidate pairs contain both the record ids as well as the record metadata."
      ]
    },
    {
      "cell_type": "code",
      "execution_count": 15,
      "metadata": {
        "id": "ecHF0W5VTPrb",
        "colab": {
          "base_uri": "https://localhost:8080/"
        },
        "outputId": "3b077141-43b4-4c98-a59b-5c0ed2b7cf77"
      },
      "outputs": [
        {
          "output_type": "execute_result",
          "data": {
            "text/plain": [
              "(('48a56cad-7ba6-45e1-97cd-517ba65bdab5',\n",
              "  {'address_1': 'kambalda crescent',\n",
              "   'address_2': 'villa 427',\n",
              "   'age': '27',\n",
              "   'date_of_birth': '01/08/26',\n",
              "   'first_name': 'lachlan',\n",
              "   'phone_number': None,\n",
              "   'postcode': '5109',\n",
              "   'soc_sec_id': '9937958',\n",
              "   'state': None,\n",
              "   'street_number': '36',\n",
              "   'suburb': 'auburn',\n",
              "   'surname': 'eglinton'}),\n",
              " ('c77c2c04-4415-4c4d-b248-18dc28fd63d0',\n",
              "  {'address_1': 'kambalda crescent',\n",
              "   'address_2': None,\n",
              "   'age': None,\n",
              "   'date_of_birth': '01/08/26',\n",
              "   'first_name': 'lachlan',\n",
              "   'phone_number': None,\n",
              "   'postcode': '5109',\n",
              "   'soc_sec_id': '9937958',\n",
              "   'state': None,\n",
              "   'street_number': '366',\n",
              "   'suburb': 'auburn',\n",
              "   'surname': 'eglinton'}))"
            ]
          },
          "metadata": {},
          "execution_count": 15
        }
      ],
      "source": [
        "candidate_pairs[0]"
      ]
    },
    {
      "cell_type": "markdown",
      "metadata": {
        "id": "RU0heSNFTPrc"
      },
      "source": [
        "We can assemble our candidate pair ids into an indexed pandas dataframe for easier comparision with our known true links."
      ]
    },
    {
      "cell_type": "code",
      "execution_count": 16,
      "metadata": {
        "id": "y9w8pPtHTPrc",
        "colab": {
          "base_uri": "https://localhost:8080/",
          "height": 220
        },
        "outputId": "eea105a6-0447-4b68-8dd0-ad2c31af3f1d"
      },
      "outputs": [
        {
          "output_type": "execute_result",
          "data": {
            "text/html": [
              "<div>\n",
              "<style scoped>\n",
              "    .dataframe tbody tr th:only-of-type {\n",
              "        vertical-align: middle;\n",
              "    }\n",
              "\n",
              "    .dataframe tbody tr th {\n",
              "        vertical-align: top;\n",
              "    }\n",
              "\n",
              "    .dataframe thead th {\n",
              "        text-align: right;\n",
              "    }\n",
              "</style>\n",
              "<table border=\"1\" class=\"dataframe\">\n",
              "  <thead>\n",
              "    <tr style=\"text-align: right;\">\n",
              "      <th></th>\n",
              "      <th></th>\n",
              "    </tr>\n",
              "    <tr>\n",
              "      <th>person_id_A</th>\n",
              "      <th>person_id_B</th>\n",
              "    </tr>\n",
              "  </thead>\n",
              "  <tbody>\n",
              "    <tr>\n",
              "      <th>48a56cad-7ba6-45e1-97cd-517ba65bdab5</th>\n",
              "      <th>c77c2c04-4415-4c4d-b248-18dc28fd63d0</th>\n",
              "    </tr>\n",
              "    <tr>\n",
              "      <th>b1792d21-e4be-4b86-8dea-454ffa5194c5</th>\n",
              "      <th>043d063f-3f72-46ca-bb66-e7f610d4c2cd</th>\n",
              "    </tr>\n",
              "    <tr>\n",
              "      <th>41f038b8-77c0-45a5-9e1f-e62b8637ffd1</th>\n",
              "      <th>337aa0c5-4a0a-4bcd-89db-6fa998fa783c</th>\n",
              "    </tr>\n",
              "    <tr>\n",
              "      <th>b4e3efc2-9c8f-4e3e-8b98-9bfa842094f9</th>\n",
              "      <th>e63f19ca-3f5b-4021-ac1e-05fc7495bd48</th>\n",
              "    </tr>\n",
              "    <tr>\n",
              "      <th>7264bfb0-bbcb-4f68-b9bf-03619237cfb2</th>\n",
              "      <th>8e5d98b8-9611-480e-8c65-b0e56520307b</th>\n",
              "    </tr>\n",
              "  </tbody>\n",
              "</table>\n",
              "</div>"
            ],
            "text/plain": [
              "Empty DataFrame\n",
              "Columns: []\n",
              "Index: [(48a56cad-7ba6-45e1-97cd-517ba65bdab5, c77c2c04-4415-4c4d-b248-18dc28fd63d0), (b1792d21-e4be-4b86-8dea-454ffa5194c5, 043d063f-3f72-46ca-bb66-e7f610d4c2cd), (41f038b8-77c0-45a5-9e1f-e62b8637ffd1, 337aa0c5-4a0a-4bcd-89db-6fa998fa783c), (b4e3efc2-9c8f-4e3e-8b98-9bfa842094f9, e63f19ca-3f5b-4021-ac1e-05fc7495bd48), (7264bfb0-bbcb-4f68-b9bf-03619237cfb2, 8e5d98b8-9611-480e-8c65-b0e56520307b)]"
            ]
          },
          "metadata": {},
          "execution_count": 16
        }
      ],
      "source": [
        "df_candidate_links = pd.DataFrame(\n",
        "    [(x[0][0], x[1][0]) for x in candidate_pairs]\n",
        ").rename(columns={0 : \"person_id_A\", 1 : \"person_id_B\"}).set_index([\"person_id_A\", \"person_id_B\"])\n",
        "\n",
        "df_candidate_links.head()"
      ]
    },
    {
      "cell_type": "markdown",
      "metadata": {
        "id": "5JXPkJCKTPrc"
      },
      "source": [
        "Now, let's take a look at our learned blocker performance."
      ]
    },
    {
      "cell_type": "code",
      "execution_count": 17,
      "metadata": {
        "id": "WohbrwKFTPrc",
        "colab": {
          "base_uri": "https://localhost:8080/"
        },
        "outputId": "fca66da3-8dd5-4ff0-8624-82b2d941d0af"
      },
      "outputs": [
        {
          "output_type": "stream",
          "name": "stdout",
          "text": [
            "10,562,500 total possible pairs.\n",
            "\n",
            "1,492 pairs after full blocking: 0.999859% search space reduction.\n",
            "49.5% true links retained after blocking.\n"
          ]
        }
      ],
      "source": [
        "max_candidate_pairs = df_A.shape[0]*df_B.shape[0]\n",
        "\n",
        "print(f\"{max_candidate_pairs:,} total possible pairs.\")\n",
        "\n",
        "# Calculate search space reduction.\n",
        "search_space_reduction = round(1 - len(candidate_pairs)/max_candidate_pairs, 6)\n",
        "print(f\"\\n{len(candidate_pairs):,} pairs after full blocking: {search_space_reduction}% search space reduction.\")\n",
        "\n",
        "# Calculate retained true links percentage.\n",
        "total_true_links = df_ground_truth.shape[0]\n",
        "true_links_after_blocking = pd.merge(\n",
        "    df_ground_truth,\n",
        "    df_candidate_links,\n",
        "    left_index=True,\n",
        "    right_index=True,\n",
        "    how=\"inner\"\n",
        ").shape[0]\n",
        "\n",
        "retained_true_link_percent = round((true_links_after_blocking/total_true_links) * 100, 2)\n",
        "print(f\"{retained_true_link_percent}% true links retained after blocking.\")"
      ]
    },
    {
      "cell_type": "markdown",
      "metadata": {
        "id": "zTr5CjYpTPrc"
      },
      "source": [
        "## Score Pairs and Examine Learned Classifier"
      ]
    },
    {
      "cell_type": "markdown",
      "metadata": {
        "id": "mrhb_yhhTPrd"
      },
      "source": [
        "After `dedupe` has trained blockers and a classification model based on our labeling session, we can link the records in our training dataset via the `.join` method."
      ]
    },
    {
      "cell_type": "code",
      "execution_count": 18,
      "metadata": {
        "id": "pmXq2IQMTPrd",
        "colab": {
          "base_uri": "https://localhost:8080/"
        },
        "outputId": "272b34d8-32ac-478e-d31c-dd1bfffb19d0"
      },
      "outputs": [
        {
          "output_type": "stream",
          "name": "stdout",
          "text": [
            "CPU times: user 2.99 s, sys: 120 ms, total: 3.11 s\n",
            "Wall time: 4.39 s\n"
          ]
        }
      ],
      "source": [
        "%%time\n",
        "linked_records = linker.join(records_A, records_B, threshold=0.0, constraint=\"one-to-one\")"
      ]
    },
    {
      "cell_type": "markdown",
      "metadata": {
        "id": "t04pcOxCTPrd"
      },
      "source": [
        "`linker.join` will return the links, along with a model confidence."
      ]
    },
    {
      "cell_type": "code",
      "execution_count": 19,
      "metadata": {
        "id": "EnLEWbyyTPrd",
        "colab": {
          "base_uri": "https://localhost:8080/"
        },
        "outputId": "569f7201-70ef-44fd-f3e9-18f17beed14e"
      },
      "outputs": [
        {
          "output_type": "execute_result",
          "data": {
            "text/plain": [
              "[(('a2bbbe62-18b2-47fa-92c4-3cab4f944bad',\n",
              "   'b31a7a9f-ab05-410c-8edc-af64a034a2f8'),\n",
              "  0.971633),\n",
              " (('5e1aa714-e0d5-4e90-abeb-0313ee74fa26',\n",
              "   'd7eab569-1224-467c-b41e-2bd8588ab8f2'),\n",
              "  0.971633),\n",
              " (('060e3e91-345b-46c8-bea2-7357b1ee8cee',\n",
              "   '7ba7ecbe-d00c-429e-aee1-87cdd4d554d1'),\n",
              "  0.96907943)]"
            ]
          },
          "metadata": {},
          "execution_count": 19
        }
      ],
      "source": [
        "linked_records[0:3]"
      ]
    },
    {
      "cell_type": "markdown",
      "metadata": {
        "id": "NCySwvE4TPrd"
      },
      "source": [
        "We'll format the `dedupe` linker predictions into a format that we can use with our existing evaluation functions."
      ]
    },
    {
      "cell_type": "code",
      "execution_count": 20,
      "metadata": {
        "id": "7KhFy1HATPrd",
        "colab": {
          "base_uri": "https://localhost:8080/",
          "height": 455
        },
        "outputId": "ead263a8-0e91-4b98-be05-86bfeba76cbd"
      },
      "outputs": [
        {
          "output_type": "execute_result",
          "data": {
            "text/html": [
              "<div>\n",
              "<style scoped>\n",
              "    .dataframe tbody tr th:only-of-type {\n",
              "        vertical-align: middle;\n",
              "    }\n",
              "\n",
              "    .dataframe tbody tr th {\n",
              "        vertical-align: top;\n",
              "    }\n",
              "\n",
              "    .dataframe thead th {\n",
              "        text-align: right;\n",
              "    }\n",
              "</style>\n",
              "<table border=\"1\" class=\"dataframe\">\n",
              "  <thead>\n",
              "    <tr style=\"text-align: right;\">\n",
              "      <th></th>\n",
              "      <th></th>\n",
              "      <th>model_score</th>\n",
              "      <th>ground_truth</th>\n",
              "    </tr>\n",
              "    <tr>\n",
              "      <th>person_id_A</th>\n",
              "      <th>person_id_B</th>\n",
              "      <th></th>\n",
              "      <th></th>\n",
              "    </tr>\n",
              "  </thead>\n",
              "  <tbody>\n",
              "    <tr>\n",
              "      <th>a2bbbe62-18b2-47fa-92c4-3cab4f944bad</th>\n",
              "      <th>b31a7a9f-ab05-410c-8edc-af64a034a2f8</th>\n",
              "      <td>0.971633</td>\n",
              "      <td>True</td>\n",
              "    </tr>\n",
              "    <tr>\n",
              "      <th>5e1aa714-e0d5-4e90-abeb-0313ee74fa26</th>\n",
              "      <th>d7eab569-1224-467c-b41e-2bd8588ab8f2</th>\n",
              "      <td>0.971633</td>\n",
              "      <td>True</td>\n",
              "    </tr>\n",
              "    <tr>\n",
              "      <th>060e3e91-345b-46c8-bea2-7357b1ee8cee</th>\n",
              "      <th>7ba7ecbe-d00c-429e-aee1-87cdd4d554d1</th>\n",
              "      <td>0.969079</td>\n",
              "      <td>True</td>\n",
              "    </tr>\n",
              "    <tr>\n",
              "      <th>53ac4048-4cae-4594-b7e9-99c42ece6214</th>\n",
              "      <th>8d667595-7dc6-400f-b10a-5d3ce823c257</th>\n",
              "      <td>0.966202</td>\n",
              "      <td>True</td>\n",
              "    </tr>\n",
              "    <tr>\n",
              "      <th>55560353-a703-4b73-8b0c-b6a02a257eaa</th>\n",
              "      <th>17126d49-d7c1-4eb6-b323-51efa7d02c77</th>\n",
              "      <td>0.963388</td>\n",
              "      <td>True</td>\n",
              "    </tr>\n",
              "    <tr>\n",
              "      <th>...</th>\n",
              "      <th>...</th>\n",
              "      <td>...</td>\n",
              "      <td>...</td>\n",
              "    </tr>\n",
              "    <tr>\n",
              "      <th>5aeb0acc-6757-4816-b9a5-73fc7ac045db</th>\n",
              "      <th>26ad1c99-b0c7-4e0b-a490-3eb08f8ad52f</th>\n",
              "      <td>0.108198</td>\n",
              "      <td>True</td>\n",
              "    </tr>\n",
              "    <tr>\n",
              "      <th>74dfc06d-62a5-473c-b5f7-4f7e1fa794ca</th>\n",
              "      <th>abfe5592-12ad-4dfb-9eed-1ab6dc1419fd</th>\n",
              "      <td>0.094371</td>\n",
              "      <td>True</td>\n",
              "    </tr>\n",
              "    <tr>\n",
              "      <th>a0f0298f-7de6-447c-8ddc-f2f921b9d1d8</th>\n",
              "      <th>8341b81f-1300-4b06-bc07-37d7b0196983</th>\n",
              "      <td>0.092118</td>\n",
              "      <td>True</td>\n",
              "    </tr>\n",
              "    <tr>\n",
              "      <th>5c7a8e0d-11e5-49ed-9a7a-6eb817dc3049</th>\n",
              "      <th>1eca555c-de48-4ecc-8b89-6a97b279b0ed</th>\n",
              "      <td>0.080167</td>\n",
              "      <td>False</td>\n",
              "    </tr>\n",
              "    <tr>\n",
              "      <th>3343835b-f851-42aa-9acd-6b0b9c68f061</th>\n",
              "      <th>5b208318-c134-4ade-8bd6-710ef2b2f855</th>\n",
              "      <td>0.025701</td>\n",
              "      <td>True</td>\n",
              "    </tr>\n",
              "  </tbody>\n",
              "</table>\n",
              "<p>1487 rows × 2 columns</p>\n",
              "</div>"
            ],
            "text/plain": [
              "                                                                           model_score  ground_truth\n",
              "person_id_A                          person_id_B                                                    \n",
              "a2bbbe62-18b2-47fa-92c4-3cab4f944bad b31a7a9f-ab05-410c-8edc-af64a034a2f8     0.971633          True\n",
              "5e1aa714-e0d5-4e90-abeb-0313ee74fa26 d7eab569-1224-467c-b41e-2bd8588ab8f2     0.971633          True\n",
              "060e3e91-345b-46c8-bea2-7357b1ee8cee 7ba7ecbe-d00c-429e-aee1-87cdd4d554d1     0.969079          True\n",
              "53ac4048-4cae-4594-b7e9-99c42ece6214 8d667595-7dc6-400f-b10a-5d3ce823c257     0.966202          True\n",
              "55560353-a703-4b73-8b0c-b6a02a257eaa 17126d49-d7c1-4eb6-b323-51efa7d02c77     0.963388          True\n",
              "...                                                                                ...           ...\n",
              "5aeb0acc-6757-4816-b9a5-73fc7ac045db 26ad1c99-b0c7-4e0b-a490-3eb08f8ad52f     0.108198          True\n",
              "74dfc06d-62a5-473c-b5f7-4f7e1fa794ca abfe5592-12ad-4dfb-9eed-1ab6dc1419fd     0.094371          True\n",
              "a0f0298f-7de6-447c-8ddc-f2f921b9d1d8 8341b81f-1300-4b06-bc07-37d7b0196983     0.092118          True\n",
              "5c7a8e0d-11e5-49ed-9a7a-6eb817dc3049 1eca555c-de48-4ecc-8b89-6a97b279b0ed     0.080167         False\n",
              "3343835b-f851-42aa-9acd-6b0b9c68f061 5b208318-c134-4ade-8bd6-710ef2b2f855     0.025701          True\n",
              "\n",
              "[1487 rows x 2 columns]"
            ]
          },
          "metadata": {},
          "execution_count": 20
        }
      ],
      "source": [
        "df_predictions = pd.DataFrame(\n",
        "    [ {\"person_id_A\" : x[0][0], \"person_id_B\" : x[0][1], \"model_score\" : x[1]} for x in linked_records]\n",
        ")\n",
        "\n",
        "df_predictions = df_predictions.set_index([\"person_id_A\", \"person_id_B\"])\n",
        "\n",
        "df_predictions = pd.merge(\n",
        "    df_predictions,\n",
        "    df_ground_truth,\n",
        "    left_index=True,\n",
        "    right_index=True,\n",
        "    how=\"left\",\n",
        ")\n",
        "\n",
        "df_predictions[\"ground_truth\"].fillna(False, inplace=True)\n",
        "df_predictions"
      ]
    },
    {
      "cell_type": "markdown",
      "metadata": {
        "id": "Duq8C0r4TPre"
      },
      "source": [
        "## Choosing a Linking Model Score Threshold"
      ]
    },
    {
      "cell_type": "markdown",
      "metadata": {
        "id": "Sz9gxJVHTPre"
      },
      "source": [
        "The `dedupe` `.join` method that we used to score our training data directly incorporates the learned blockers. Thus, note that the scored pairs appearing on the distribution represent blocked pairs, and that our blockers *significantly* reduced the candidate pair search space."
      ]
    },
    {
      "cell_type": "markdown",
      "metadata": {
        "id": "8AxzHPwxTPre"
      },
      "source": [
        "### Model Score Distribution"
      ]
    },
    {
      "cell_type": "code",
      "execution_count": 21,
      "metadata": {
        "id": "htyEEsMATPre",
        "colab": {
          "base_uri": "https://localhost:8080/"
        },
        "outputId": "32e6480a-7578-48d2-bd9b-4c7e78ac99bd"
      },
      "outputs": [
        {
          "output_type": "execute_result",
          "data": {
            "text/plain": [
              "True     1485\n",
              "False       2\n",
              "Name: ground_truth, dtype: int64"
            ]
          },
          "metadata": {},
          "execution_count": 21
        }
      ],
      "source": [
        "df_predictions[\"ground_truth\"].value_counts()"
      ]
    },
    {
      "cell_type": "code",
      "execution_count": 22,
      "metadata": {
        "id": "vVTDWDGmTPre",
        "colab": {
          "base_uri": "https://localhost:8080/",
          "height": 0
        },
        "outputId": "b5097ef8-c652-4828-e432-d0baeba89723"
      },
      "outputs": [
        {
          "output_type": "stream",
          "name": "stderr",
          "text": [
            "INFO:numexpr.utils:NumExpr defaulting to 2 threads.\n"
          ]
        },
        {
          "output_type": "execute_result",
          "data": {
            "text/plain": [
              "alt.Chart(...)"
            ],
            "text/html": [
              "\n",
              "<div id=\"altair-viz-bc268c4156ae4903bc261feac1e0b3a0\"></div>\n",
              "<script type=\"text/javascript\">\n",
              "  (function(spec, embedOpt){\n",
              "    let outputDiv = document.currentScript.previousElementSibling;\n",
              "    if (outputDiv.id !== \"altair-viz-bc268c4156ae4903bc261feac1e0b3a0\") {\n",
              "      outputDiv = document.getElementById(\"altair-viz-bc268c4156ae4903bc261feac1e0b3a0\");\n",
              "    }\n",
              "    const paths = {\n",
              "      \"vega\": \"https://cdn.jsdelivr.net/npm//vega@5?noext\",\n",
              "      \"vega-lib\": \"https://cdn.jsdelivr.net/npm//vega-lib?noext\",\n",
              "      \"vega-lite\": \"https://cdn.jsdelivr.net/npm//vega-lite@4.8.1?noext\",\n",
              "      \"vega-embed\": \"https://cdn.jsdelivr.net/npm//vega-embed@6?noext\",\n",
              "    };\n",
              "\n",
              "    function loadScript(lib) {\n",
              "      return new Promise(function(resolve, reject) {\n",
              "        var s = document.createElement('script');\n",
              "        s.src = paths[lib];\n",
              "        s.async = true;\n",
              "        s.onload = () => resolve(paths[lib]);\n",
              "        s.onerror = () => reject(`Error loading script: ${paths[lib]}`);\n",
              "        document.getElementsByTagName(\"head\")[0].appendChild(s);\n",
              "      });\n",
              "    }\n",
              "\n",
              "    function showError(err) {\n",
              "      outputDiv.innerHTML = `<div class=\"error\" style=\"color:red;\">${err}</div>`;\n",
              "      throw err;\n",
              "    }\n",
              "\n",
              "    function displayChart(vegaEmbed) {\n",
              "      vegaEmbed(outputDiv, spec, embedOpt)\n",
              "        .catch(err => showError(`Javascript Error: ${err.message}<br>This usually means there's a typo in your chart specification. See the javascript console for the full traceback.`));\n",
              "    }\n",
              "\n",
              "    if(typeof define === \"function\" && define.amd) {\n",
              "      requirejs.config({paths});\n",
              "      require([\"vega-embed\"], displayChart, err => showError(`Error loading script: ${err.message}`));\n",
              "    } else if (typeof vegaEmbed === \"function\") {\n",
              "      displayChart(vegaEmbed);\n",
              "    } else {\n",
              "      loadScript(\"vega\")\n",
              "        .then(() => loadScript(\"vega-lite\"))\n",
              "        .then(() => loadScript(\"vega-embed\"))\n",
              "        .catch(showError)\n",
              "        .then(() => displayChart(vegaEmbed));\n",
              "    }\n",
              "  })({\"config\": {\"view\": {\"continuousWidth\": 400, \"continuousHeight\": 300}}, \"data\": {\"name\": \"data-a4841bf06317603a662e094aebc4ed37\"}, \"mark\": {\"type\": \"bar\", \"binSpacing\": 0, \"opacity\": 0.7}, \"encoding\": {\"color\": {\"type\": \"nominal\", \"field\": \"ground_truth\", \"legend\": {\"title\": \"Ground Truth Label\"}, \"scale\": {\"domain\": [\"True Link\", \"Not a Link\"], \"scheme\": \"tableau10\"}}, \"opacity\": {\"condition\": {\"value\": 0.7, \"selection\": \"selector001\"}, \"value\": 0.2}, \"tooltip\": [{\"type\": \"quantitative\", \"field\": \"model_score\", \"title\": \"Model Score\"}, {\"type\": \"nominal\", \"field\": \"ground_truth\", \"title\": \"Ground Truth\"}, {\"type\": \"quantitative\", \"field\": \"count\", \"title\": \"Count of Links\"}], \"x\": {\"type\": \"quantitative\", \"axis\": {\"tickCount\": 5, \"title\": \"Model Score (Binned)\"}, \"bin\": {\"extent\": [0, 1], \"step\": 0.01}, \"field\": \"model_score\"}, \"y\": {\"type\": \"quantitative\", \"axis\": {\"title\": \"Count of Links\"}, \"field\": \"count\", \"stack\": null}}, \"height\": 400, \"selection\": {\"selector001\": {\"type\": \"multi\", \"fields\": [\"ground_truth\"], \"bind\": \"legend\"}, \"selector002\": {\"type\": \"interval\", \"bind\": \"scales\", \"encodings\": [\"x\", \"y\"]}}, \"title\": \"Model Score Distribution\", \"width\": 800, \"$schema\": \"https://vega.github.io/schema/vega-lite/v4.8.1.json\", \"datasets\": {\"data-a4841bf06317603a662e094aebc4ed37\": [{\"model_score\": 0.03, \"ground_truth\": \"True Link\", \"count\": 1}, {\"model_score\": 0.08, \"ground_truth\": \"Not a Link\", \"count\": 1}, {\"model_score\": 0.09, \"ground_truth\": \"True Link\", \"count\": 2}, {\"model_score\": 0.11, \"ground_truth\": \"True Link\", \"count\": 1}, {\"model_score\": 0.12, \"ground_truth\": \"True Link\", \"count\": 1}, {\"model_score\": 0.13, \"ground_truth\": \"True Link\", \"count\": 2}, {\"model_score\": 0.14, \"ground_truth\": \"True Link\", \"count\": 3}, {\"model_score\": 0.15, \"ground_truth\": \"Not a Link\", \"count\": 1}, {\"model_score\": 0.15, \"ground_truth\": \"True Link\", \"count\": 7}, {\"model_score\": 0.16, \"ground_truth\": \"True Link\", \"count\": 3}, {\"model_score\": 0.17, \"ground_truth\": \"True Link\", \"count\": 1}, {\"model_score\": 0.18, \"ground_truth\": \"True Link\", \"count\": 3}, {\"model_score\": 0.19, \"ground_truth\": \"True Link\", \"count\": 2}, {\"model_score\": 0.2, \"ground_truth\": \"True Link\", \"count\": 5}, {\"model_score\": 0.21, \"ground_truth\": \"True Link\", \"count\": 1}, {\"model_score\": 0.22, \"ground_truth\": \"True Link\", \"count\": 1}, {\"model_score\": 0.23, \"ground_truth\": \"True Link\", \"count\": 1}, {\"model_score\": 0.24, \"ground_truth\": \"True Link\", \"count\": 1}, {\"model_score\": 0.25, \"ground_truth\": \"True Link\", \"count\": 2}, {\"model_score\": 0.26, \"ground_truth\": \"True Link\", \"count\": 1}, {\"model_score\": 0.27, \"ground_truth\": \"True Link\", \"count\": 2}, {\"model_score\": 0.28, \"ground_truth\": \"True Link\", \"count\": 2}, {\"model_score\": 0.29, \"ground_truth\": \"True Link\", \"count\": 1}, {\"model_score\": 0.3, \"ground_truth\": \"True Link\", \"count\": 5}, {\"model_score\": 0.31, \"ground_truth\": \"True Link\", \"count\": 2}, {\"model_score\": 0.32, \"ground_truth\": \"True Link\", \"count\": 1}, {\"model_score\": 0.33, \"ground_truth\": \"True Link\", \"count\": 1}, {\"model_score\": 0.35, \"ground_truth\": \"True Link\", \"count\": 2}, {\"model_score\": 0.36, \"ground_truth\": \"True Link\", \"count\": 6}, {\"model_score\": 0.38, \"ground_truth\": \"True Link\", \"count\": 5}, {\"model_score\": 0.39, \"ground_truth\": \"True Link\", \"count\": 2}, {\"model_score\": 0.4, \"ground_truth\": \"True Link\", \"count\": 1}, {\"model_score\": 0.41, \"ground_truth\": \"True Link\", \"count\": 2}, {\"model_score\": 0.42, \"ground_truth\": \"True Link\", \"count\": 3}, {\"model_score\": 0.43, \"ground_truth\": \"True Link\", \"count\": 1}, {\"model_score\": 0.44, \"ground_truth\": \"True Link\", \"count\": 3}, {\"model_score\": 0.45, \"ground_truth\": \"True Link\", \"count\": 3}, {\"model_score\": 0.46, \"ground_truth\": \"True Link\", \"count\": 8}, {\"model_score\": 0.47, \"ground_truth\": \"True Link\", \"count\": 2}, {\"model_score\": 0.48, \"ground_truth\": \"True Link\", \"count\": 6}, {\"model_score\": 0.49, \"ground_truth\": \"True Link\", \"count\": 4}, {\"model_score\": 0.5, \"ground_truth\": \"True Link\", \"count\": 3}, {\"model_score\": 0.51, \"ground_truth\": \"True Link\", \"count\": 5}, {\"model_score\": 0.52, \"ground_truth\": \"True Link\", \"count\": 2}, {\"model_score\": 0.53, \"ground_truth\": \"True Link\", \"count\": 6}, {\"model_score\": 0.54, \"ground_truth\": \"True Link\", \"count\": 3}, {\"model_score\": 0.55, \"ground_truth\": \"True Link\", \"count\": 13}, {\"model_score\": 0.56, \"ground_truth\": \"True Link\", \"count\": 6}, {\"model_score\": 0.57, \"ground_truth\": \"True Link\", \"count\": 10}, {\"model_score\": 0.58, \"ground_truth\": \"True Link\", \"count\": 11}, {\"model_score\": 0.59, \"ground_truth\": \"True Link\", \"count\": 12}, {\"model_score\": 0.6, \"ground_truth\": \"True Link\", \"count\": 10}, {\"model_score\": 0.61, \"ground_truth\": \"True Link\", \"count\": 13}, {\"model_score\": 0.62, \"ground_truth\": \"True Link\", \"count\": 15}, {\"model_score\": 0.63, \"ground_truth\": \"True Link\", \"count\": 15}, {\"model_score\": 0.64, \"ground_truth\": \"True Link\", \"count\": 13}, {\"model_score\": 0.65, \"ground_truth\": \"True Link\", \"count\": 16}, {\"model_score\": 0.66, \"ground_truth\": \"True Link\", \"count\": 16}, {\"model_score\": 0.67, \"ground_truth\": \"True Link\", \"count\": 38}, {\"model_score\": 0.68, \"ground_truth\": \"True Link\", \"count\": 29}, {\"model_score\": 0.69, \"ground_truth\": \"True Link\", \"count\": 23}, {\"model_score\": 0.7, \"ground_truth\": \"True Link\", \"count\": 16}, {\"model_score\": 0.71, \"ground_truth\": \"True Link\", \"count\": 33}, {\"model_score\": 0.72, \"ground_truth\": \"True Link\", \"count\": 54}, {\"model_score\": 0.73, \"ground_truth\": \"True Link\", \"count\": 39}, {\"model_score\": 0.74, \"ground_truth\": \"True Link\", \"count\": 23}, {\"model_score\": 0.75, \"ground_truth\": \"True Link\", \"count\": 26}, {\"model_score\": 0.76, \"ground_truth\": \"True Link\", \"count\": 31}, {\"model_score\": 0.77, \"ground_truth\": \"True Link\", \"count\": 68}, {\"model_score\": 0.78, \"ground_truth\": \"True Link\", \"count\": 34}, {\"model_score\": 0.79, \"ground_truth\": \"True Link\", \"count\": 35}, {\"model_score\": 0.8, \"ground_truth\": \"True Link\", \"count\": 21}, {\"model_score\": 0.81, \"ground_truth\": \"True Link\", \"count\": 86}, {\"model_score\": 0.82, \"ground_truth\": \"True Link\", \"count\": 32}, {\"model_score\": 0.83, \"ground_truth\": \"True Link\", \"count\": 57}, {\"model_score\": 0.84, \"ground_truth\": \"True Link\", \"count\": 31}, {\"model_score\": 0.85, \"ground_truth\": \"True Link\", \"count\": 46}, {\"model_score\": 0.86, \"ground_truth\": \"True Link\", \"count\": 48}, {\"model_score\": 0.87, \"ground_truth\": \"True Link\", \"count\": 39}, {\"model_score\": 0.88, \"ground_truth\": \"True Link\", \"count\": 54}, {\"model_score\": 0.89, \"ground_truth\": \"True Link\", \"count\": 70}, {\"model_score\": 0.9, \"ground_truth\": \"True Link\", \"count\": 50}, {\"model_score\": 0.91, \"ground_truth\": \"True Link\", \"count\": 50}, {\"model_score\": 0.92, \"ground_truth\": \"True Link\", \"count\": 51}, {\"model_score\": 0.93, \"ground_truth\": \"True Link\", \"count\": 54}, {\"model_score\": 0.94, \"ground_truth\": \"True Link\", \"count\": 27}, {\"model_score\": 0.95, \"ground_truth\": \"True Link\", \"count\": 35}, {\"model_score\": 0.96, \"ground_truth\": \"True Link\", \"count\": 12}, {\"model_score\": 0.97, \"ground_truth\": \"True Link\", \"count\": 4}]}}, {\"mode\": \"vega-lite\"});\n",
              "</script>"
            ]
          },
          "metadata": {},
          "execution_count": 22
        }
      ],
      "source": [
        "tutorial.plot_model_score_distribution(df_predictions)"
      ]
    },
    {
      "cell_type": "markdown",
      "metadata": {
        "id": "CJagQoBpTPre"
      },
      "source": [
        "### Precision and Recall vs. Model Score"
      ]
    },
    {
      "cell_type": "code",
      "execution_count": 23,
      "metadata": {
        "id": "bkgeIIzKTPrf"
      },
      "outputs": [],
      "source": [
        "df_eval = tutorial.evaluate_linking(\n",
        "    df=df_predictions\n",
        ")"
      ]
    },
    {
      "cell_type": "code",
      "execution_count": 24,
      "metadata": {
        "id": "tUWeDWLKTPrf",
        "colab": {
          "base_uri": "https://localhost:8080/",
          "height": 0
        },
        "outputId": "df703c99-6cdc-40e4-98ed-a93e0f716fd2"
      },
      "outputs": [
        {
          "output_type": "execute_result",
          "data": {
            "text/html": [
              "<div>\n",
              "<style scoped>\n",
              "    .dataframe tbody tr th:only-of-type {\n",
              "        vertical-align: middle;\n",
              "    }\n",
              "\n",
              "    .dataframe tbody tr th {\n",
              "        vertical-align: top;\n",
              "    }\n",
              "\n",
              "    .dataframe thead th {\n",
              "        text-align: right;\n",
              "    }\n",
              "</style>\n",
              "<table border=\"1\" class=\"dataframe\">\n",
              "  <thead>\n",
              "    <tr style=\"text-align: right;\">\n",
              "      <th></th>\n",
              "      <th>threshold</th>\n",
              "      <th>tp</th>\n",
              "      <th>fp</th>\n",
              "      <th>tn</th>\n",
              "      <th>fn</th>\n",
              "      <th>precision</th>\n",
              "      <th>recall</th>\n",
              "      <th>f1</th>\n",
              "    </tr>\n",
              "  </thead>\n",
              "  <tbody>\n",
              "    <tr>\n",
              "      <th>0</th>\n",
              "      <td>0.000000</td>\n",
              "      <td>1485</td>\n",
              "      <td>2</td>\n",
              "      <td>0</td>\n",
              "      <td>0</td>\n",
              "      <td>0.998655</td>\n",
              "      <td>1.000000</td>\n",
              "      <td>0.999327</td>\n",
              "    </tr>\n",
              "    <tr>\n",
              "      <th>1</th>\n",
              "      <td>0.020408</td>\n",
              "      <td>1485</td>\n",
              "      <td>2</td>\n",
              "      <td>0</td>\n",
              "      <td>0</td>\n",
              "      <td>0.998655</td>\n",
              "      <td>1.000000</td>\n",
              "      <td>0.999327</td>\n",
              "    </tr>\n",
              "    <tr>\n",
              "      <th>2</th>\n",
              "      <td>0.040816</td>\n",
              "      <td>1484</td>\n",
              "      <td>2</td>\n",
              "      <td>0</td>\n",
              "      <td>1</td>\n",
              "      <td>0.998654</td>\n",
              "      <td>0.999327</td>\n",
              "      <td>0.998990</td>\n",
              "    </tr>\n",
              "    <tr>\n",
              "      <th>3</th>\n",
              "      <td>0.061224</td>\n",
              "      <td>1484</td>\n",
              "      <td>2</td>\n",
              "      <td>0</td>\n",
              "      <td>1</td>\n",
              "      <td>0.998654</td>\n",
              "      <td>0.999327</td>\n",
              "      <td>0.998990</td>\n",
              "    </tr>\n",
              "    <tr>\n",
              "      <th>4</th>\n",
              "      <td>0.081633</td>\n",
              "      <td>1484</td>\n",
              "      <td>1</td>\n",
              "      <td>1</td>\n",
              "      <td>1</td>\n",
              "      <td>0.999327</td>\n",
              "      <td>0.999327</td>\n",
              "      <td>0.999327</td>\n",
              "    </tr>\n",
              "  </tbody>\n",
              "</table>\n",
              "</div>"
            ],
            "text/plain": [
              "   threshold    tp  fp  tn  fn  precision    recall        f1\n",
              "0   0.000000  1485   2   0   0   0.998655  1.000000  0.999327\n",
              "1   0.020408  1485   2   0   0   0.998655  1.000000  0.999327\n",
              "2   0.040816  1484   2   0   1   0.998654  0.999327  0.998990\n",
              "3   0.061224  1484   2   0   1   0.998654  0.999327  0.998990\n",
              "4   0.081633  1484   1   1   1   0.999327  0.999327  0.999327"
            ]
          },
          "metadata": {},
          "execution_count": 24
        }
      ],
      "source": [
        "df_eval.head()"
      ]
    },
    {
      "cell_type": "code",
      "execution_count": 25,
      "metadata": {
        "id": "UK3SNL2YTPrf",
        "colab": {
          "base_uri": "https://localhost:8080/",
          "height": 0
        },
        "outputId": "f6cbffef-ee98-4035-cde5-82f34fcf1fef"
      },
      "outputs": [
        {
          "output_type": "execute_result",
          "data": {
            "text/plain": [
              "alt.LayerChart(...)"
            ],
            "text/html": [
              "\n",
              "<div id=\"altair-viz-50154027265c450c81feeaa8fc2ae763\"></div>\n",
              "<script type=\"text/javascript\">\n",
              "  (function(spec, embedOpt){\n",
              "    let outputDiv = document.currentScript.previousElementSibling;\n",
              "    if (outputDiv.id !== \"altair-viz-50154027265c450c81feeaa8fc2ae763\") {\n",
              "      outputDiv = document.getElementById(\"altair-viz-50154027265c450c81feeaa8fc2ae763\");\n",
              "    }\n",
              "    const paths = {\n",
              "      \"vega\": \"https://cdn.jsdelivr.net/npm//vega@5?noext\",\n",
              "      \"vega-lib\": \"https://cdn.jsdelivr.net/npm//vega-lib?noext\",\n",
              "      \"vega-lite\": \"https://cdn.jsdelivr.net/npm//vega-lite@4.8.1?noext\",\n",
              "      \"vega-embed\": \"https://cdn.jsdelivr.net/npm//vega-embed@6?noext\",\n",
              "    };\n",
              "\n",
              "    function loadScript(lib) {\n",
              "      return new Promise(function(resolve, reject) {\n",
              "        var s = document.createElement('script');\n",
              "        s.src = paths[lib];\n",
              "        s.async = true;\n",
              "        s.onload = () => resolve(paths[lib]);\n",
              "        s.onerror = () => reject(`Error loading script: ${paths[lib]}`);\n",
              "        document.getElementsByTagName(\"head\")[0].appendChild(s);\n",
              "      });\n",
              "    }\n",
              "\n",
              "    function showError(err) {\n",
              "      outputDiv.innerHTML = `<div class=\"error\" style=\"color:red;\">${err}</div>`;\n",
              "      throw err;\n",
              "    }\n",
              "\n",
              "    function displayChart(vegaEmbed) {\n",
              "      vegaEmbed(outputDiv, spec, embedOpt)\n",
              "        .catch(err => showError(`Javascript Error: ${err.message}<br>This usually means there's a typo in your chart specification. See the javascript console for the full traceback.`));\n",
              "    }\n",
              "\n",
              "    if(typeof define === \"function\" && define.amd) {\n",
              "      requirejs.config({paths});\n",
              "      require([\"vega-embed\"], displayChart, err => showError(`Error loading script: ${err.message}`));\n",
              "    } else if (typeof vegaEmbed === \"function\") {\n",
              "      displayChart(vegaEmbed);\n",
              "    } else {\n",
              "      loadScript(\"vega\")\n",
              "        .then(() => loadScript(\"vega-lite\"))\n",
              "        .then(() => loadScript(\"vega-embed\"))\n",
              "        .catch(showError)\n",
              "        .then(() => displayChart(vegaEmbed));\n",
              "    }\n",
              "  })({\"config\": {\"view\": {\"continuousWidth\": 400, \"continuousHeight\": 300}}, \"layer\": [{\"mark\": \"line\", \"encoding\": {\"color\": {\"type\": \"nominal\", \"field\": \"variable\", \"legend\": {\"title\": \"Variable\"}}, \"tooltip\": [{\"type\": \"nominal\", \"field\": \"variable\"}, {\"type\": \"quantitative\", \"field\": \"threshold\"}, {\"type\": \"quantitative\", \"field\": \"value\"}], \"x\": {\"type\": \"quantitative\", \"axis\": {\"title\": \"Model Threshold\"}, \"field\": \"threshold\"}, \"y\": {\"type\": \"quantitative\", \"axis\": {\"title\": \"Precision/Recall Value\"}, \"field\": \"value\", \"scale\": {\"domain\": [0, 1]}}}, \"selection\": {\"selector004\": {\"type\": \"interval\", \"bind\": \"scales\", \"encodings\": [\"x\", \"y\"]}}, \"title\": \"Precision and Recall v.s. Model Threshold\"}, {\"mark\": \"point\", \"encoding\": {\"opacity\": {\"value\": 0}, \"x\": {\"type\": \"quantitative\", \"field\": \"threshold\"}}, \"selection\": {\"selector003\": {\"type\": \"single\", \"nearest\": true, \"on\": \"mouseover\", \"fields\": [\"threshold\"], \"empty\": \"none\"}}}, {\"mark\": \"point\", \"encoding\": {\"color\": {\"type\": \"nominal\", \"field\": \"variable\", \"legend\": {\"title\": \"Variable\"}}, \"opacity\": {\"condition\": {\"value\": 1, \"selection\": \"selector003\"}, \"value\": 0}, \"tooltip\": [{\"type\": \"nominal\", \"field\": \"variable\"}, {\"type\": \"quantitative\", \"field\": \"threshold\"}, {\"type\": \"quantitative\", \"field\": \"value\"}], \"x\": {\"type\": \"quantitative\", \"axis\": {\"title\": \"Model Threshold\"}, \"field\": \"threshold\"}, \"y\": {\"type\": \"quantitative\", \"axis\": {\"title\": \"Precision/Recall Value\"}, \"field\": \"value\", \"scale\": {\"domain\": [0, 1]}}}, \"title\": \"Precision and Recall v.s. Model Threshold\"}, {\"mark\": {\"type\": \"rule\", \"color\": \"gray\"}, \"encoding\": {\"x\": {\"type\": \"quantitative\", \"field\": \"threshold\"}}, \"transform\": [{\"filter\": {\"selection\": \"selector003\"}}]}, {\"mark\": {\"type\": \"text\", \"align\": \"right\", \"dx\": -10, \"dy\": -5, \"fontWeight\": 300, \"lineBreak\": \"\\n\"}, \"encoding\": {\"color\": {\"type\": \"nominal\", \"field\": \"variable\", \"legend\": {\"title\": \"Variable\"}}, \"text\": {\"condition\": {\"type\": \"nominal\", \"field\": \"label\", \"selection\": \"selector003\"}, \"value\": \" \"}, \"tooltip\": [{\"type\": \"nominal\", \"field\": \"variable\"}, {\"type\": \"quantitative\", \"field\": \"threshold\"}, {\"type\": \"quantitative\", \"field\": \"value\"}], \"x\": {\"type\": \"quantitative\", \"axis\": {\"title\": \"Model Threshold\"}, \"field\": \"threshold\"}, \"y\": {\"type\": \"quantitative\", \"axis\": {\"title\": \"Precision/Recall Value\"}, \"field\": \"value\", \"scale\": {\"domain\": [0, 1]}}}, \"title\": \"Precision and Recall v.s. Model Threshold\"}], \"data\": {\"name\": \"data-463a1711c19f970c40b71082e3599a9a\"}, \"height\": 400, \"width\": 800, \"$schema\": \"https://vega.github.io/schema/vega-lite/v4.8.1.json\", \"datasets\": {\"data-463a1711c19f970c40b71082e3599a9a\": [{\"threshold\": 0.0, \"label\": \"threshold: 0.0\\nprecision: 0.999\\nrecall: 1.0\", \"variable\": \"recall\", \"value\": 1.0}, {\"threshold\": 0.02040816326530612, \"label\": \"threshold: 0.02\\nprecision: 0.999\\nrecall: 1.0\", \"variable\": \"recall\", \"value\": 1.0}, {\"threshold\": 0.04081632653061224, \"label\": \"threshold: 0.041\\nprecision: 0.999\\nrecall: 0.999\", \"variable\": \"recall\", \"value\": 0.9993265993265993}, {\"threshold\": 0.061224489795918366, \"label\": \"threshold: 0.061\\nprecision: 0.999\\nrecall: 0.999\", \"variable\": \"recall\", \"value\": 0.9993265993265993}, {\"threshold\": 0.08163265306122448, \"label\": \"threshold: 0.082\\nprecision: 0.999\\nrecall: 0.999\", \"variable\": \"recall\", \"value\": 0.9993265993265993}, {\"threshold\": 0.1020408163265306, \"label\": \"threshold: 0.102\\nprecision: 0.999\\nrecall: 0.998\", \"variable\": \"recall\", \"value\": 0.997979797979798}, {\"threshold\": 0.12244897959183673, \"label\": \"threshold: 0.122\\nprecision: 0.999\\nrecall: 0.997\", \"variable\": \"recall\", \"value\": 0.9973063973063973}, {\"threshold\": 0.14285714285714285, \"label\": \"threshold: 0.143\\nprecision: 0.999\\nrecall: 0.994\", \"variable\": \"recall\", \"value\": 0.9939393939393939}, {\"threshold\": 0.16326530612244897, \"label\": \"threshold: 0.163\\nprecision: 1.0\\nrecall: 0.987\", \"variable\": \"recall\", \"value\": 0.9872053872053872}, {\"threshold\": 0.18367346938775508, \"label\": \"threshold: 0.184\\nprecision: 1.0\\nrecall: 0.984\", \"variable\": \"recall\", \"value\": 0.9838383838383838}, {\"threshold\": 0.2040816326530612, \"label\": \"threshold: 0.204\\nprecision: 1.0\\nrecall: 0.979\", \"variable\": \"recall\", \"value\": 0.9791245791245792}, {\"threshold\": 0.22448979591836732, \"label\": \"threshold: 0.224\\nprecision: 1.0\\nrecall: 0.978\", \"variable\": \"recall\", \"value\": 0.9777777777777777}, {\"threshold\": 0.24489795918367346, \"label\": \"threshold: 0.245\\nprecision: 1.0\\nrecall: 0.976\", \"variable\": \"recall\", \"value\": 0.9764309764309764}, {\"threshold\": 0.26530612244897955, \"label\": \"threshold: 0.265\\nprecision: 1.0\\nrecall: 0.974\", \"variable\": \"recall\", \"value\": 0.9744107744107744}, {\"threshold\": 0.2857142857142857, \"label\": \"threshold: 0.286\\nprecision: 1.0\\nrecall: 0.972\", \"variable\": \"recall\", \"value\": 0.9717171717171718}, {\"threshold\": 0.3061224489795918, \"label\": \"threshold: 0.306\\nprecision: 1.0\\nrecall: 0.968\", \"variable\": \"recall\", \"value\": 0.9676767676767677}, {\"threshold\": 0.32653061224489793, \"label\": \"threshold: 0.327\\nprecision: 1.0\\nrecall: 0.966\", \"variable\": \"recall\", \"value\": 0.9656565656565657}, {\"threshold\": 0.3469387755102041, \"label\": \"threshold: 0.347\\nprecision: 1.0\\nrecall: 0.965\", \"variable\": \"recall\", \"value\": 0.9649831649831649}, {\"threshold\": 0.36734693877551017, \"label\": \"threshold: 0.367\\nprecision: 1.0\\nrecall: 0.96\", \"variable\": \"recall\", \"value\": 0.9595959595959596}, {\"threshold\": 0.3877551020408163, \"label\": \"threshold: 0.388\\nprecision: 1.0\\nrecall: 0.956\", \"variable\": \"recall\", \"value\": 0.9562289562289562}, {\"threshold\": 0.4081632653061224, \"label\": \"threshold: 0.408\\nprecision: 1.0\\nrecall: 0.954\", \"variable\": \"recall\", \"value\": 0.9535353535353536}, {\"threshold\": 0.42857142857142855, \"label\": \"threshold: 0.429\\nprecision: 1.0\\nrecall: 0.951\", \"variable\": \"recall\", \"value\": 0.9508417508417508}, {\"threshold\": 0.44897959183673464, \"label\": \"threshold: 0.449\\nprecision: 1.0\\nrecall: 0.948\", \"variable\": \"recall\", \"value\": 0.9481481481481482}, {\"threshold\": 0.4693877551020408, \"label\": \"threshold: 0.469\\nprecision: 1.0\\nrecall: 0.941\", \"variable\": \"recall\", \"value\": 0.9407407407407408}, {\"threshold\": 0.4897959183673469, \"label\": \"threshold: 0.49\\nprecision: 1.0\\nrecall: 0.934\", \"variable\": \"recall\", \"value\": 0.934006734006734}, {\"threshold\": 0.5102040816326531, \"label\": \"threshold: 0.51\\nprecision: 1.0\\nrecall: 0.93\", \"variable\": \"recall\", \"value\": 0.92996632996633}, {\"threshold\": 0.5306122448979591, \"label\": \"threshold: 0.531\\nprecision: 1.0\\nrecall: 0.923\", \"variable\": \"recall\", \"value\": 0.9225589225589226}, {\"threshold\": 0.5510204081632653, \"label\": \"threshold: 0.551\\nprecision: 1.0\\nrecall: 0.916\", \"variable\": \"recall\", \"value\": 0.9158249158249159}, {\"threshold\": 0.5714285714285714, \"label\": \"threshold: 0.571\\nprecision: 1.0\\nrecall: 0.904\", \"variable\": \"recall\", \"value\": 0.9037037037037037}, {\"threshold\": 0.5918367346938775, \"label\": \"threshold: 0.592\\nprecision: 1.0\\nrecall: 0.887\", \"variable\": \"recall\", \"value\": 0.8868686868686869}, {\"threshold\": 0.6122448979591836, \"label\": \"threshold: 0.612\\nprecision: 1.0\\nrecall: 0.871\", \"variable\": \"recall\", \"value\": 0.8707070707070707}, {\"threshold\": 0.6326530612244897, \"label\": \"threshold: 0.633\\nprecision: 1.0\\nrecall: 0.852\", \"variable\": \"recall\", \"value\": 0.8518518518518519}, {\"threshold\": 0.6530612244897959, \"label\": \"threshold: 0.653\\nprecision: 1.0\\nrecall: 0.831\", \"variable\": \"recall\", \"value\": 0.8309764309764309}, {\"threshold\": 0.673469387755102, \"label\": \"threshold: 0.673\\nprecision: 1.0\\nrecall: 0.797\", \"variable\": \"recall\", \"value\": 0.7966329966329966}, {\"threshold\": 0.6938775510204082, \"label\": \"threshold: 0.694\\nprecision: 1.0\\nrecall: 0.759\", \"variable\": \"recall\", \"value\": 0.7589225589225589}, {\"threshold\": 0.7142857142857142, \"label\": \"threshold: 0.714\\nprecision: 1.0\\nrecall: 0.728\", \"variable\": \"recall\", \"value\": 0.7279461279461279}, {\"threshold\": 0.7346938775510203, \"label\": \"threshold: 0.735\\nprecision: 1.0\\nrecall: 0.665\", \"variable\": \"recall\", \"value\": 0.6646464646464646}, {\"threshold\": 0.7551020408163265, \"label\": \"threshold: 0.755\\nprecision: 1.0\\nrecall: 0.63\", \"variable\": \"recall\", \"value\": 0.6296296296296297}, {\"threshold\": 0.7755102040816326, \"label\": \"threshold: 0.776\\nprecision: 1.0\\nrecall: 0.562\", \"variable\": \"recall\", \"value\": 0.5622895622895623}, {\"threshold\": 0.7959183673469387, \"label\": \"threshold: 0.796\\nprecision: 1.0\\nrecall: 0.515\", \"variable\": \"recall\", \"value\": 0.5151515151515151}, {\"threshold\": 0.8163265306122448, \"label\": \"threshold: 0.816\\nprecision: 1.0\\nrecall: 0.442\", \"variable\": \"recall\", \"value\": 0.4417508417508417}, {\"threshold\": 0.836734693877551, \"label\": \"threshold: 0.837\\nprecision: 1.0\\nrecall: 0.382\", \"variable\": \"recall\", \"value\": 0.3824915824915825}, {\"threshold\": 0.8571428571428571, \"label\": \"threshold: 0.857\\nprecision: 1.0\\nrecall: 0.326\", \"variable\": \"recall\", \"value\": 0.32592592592592595}, {\"threshold\": 0.8775510204081632, \"label\": \"threshold: 0.878\\nprecision: 1.0\\nrecall: 0.268\", \"variable\": \"recall\", \"value\": 0.26801346801346804}, {\"threshold\": 0.8979591836734693, \"label\": \"threshold: 0.898\\nprecision: 1.0\\nrecall: 0.182\", \"variable\": \"recall\", \"value\": 0.18249158249158248}, {\"threshold\": 0.9183673469387754, \"label\": \"threshold: 0.918\\nprecision: 1.0\\nrecall: 0.104\", \"variable\": \"recall\", \"value\": 0.10437710437710437}, {\"threshold\": 0.9387755102040816, \"label\": \"threshold: 0.939\\nprecision: 1.0\\nrecall: 0.046\", \"variable\": \"recall\", \"value\": 0.04579124579124579}, {\"threshold\": 0.9591836734693877, \"label\": \"threshold: 0.959\\nprecision: 1.0\\nrecall: 0.008\", \"variable\": \"recall\", \"value\": 0.00808080808080808}, {\"threshold\": 0.9795918367346939, \"label\": \"threshold: 0.98\\nprecision: nan\\nrecall: 0.0\", \"variable\": \"recall\", \"value\": 0.0}, {\"threshold\": 1.0, \"label\": \"threshold: 1.0\\nprecision: nan\\nrecall: 0.0\", \"variable\": \"recall\", \"value\": 0.0}, {\"threshold\": 0.0, \"label\": \"threshold: 0.0\\nprecision: 0.999\\nrecall: 1.0\", \"variable\": \"precision\", \"value\": 0.9986550100874243}, {\"threshold\": 0.02040816326530612, \"label\": \"threshold: 0.02\\nprecision: 0.999\\nrecall: 1.0\", \"variable\": \"precision\", \"value\": 0.9986550100874243}, {\"threshold\": 0.04081632653061224, \"label\": \"threshold: 0.041\\nprecision: 0.999\\nrecall: 0.999\", \"variable\": \"precision\", \"value\": 0.9986541049798116}, {\"threshold\": 0.061224489795918366, \"label\": \"threshold: 0.061\\nprecision: 0.999\\nrecall: 0.999\", \"variable\": \"precision\", \"value\": 0.9986541049798116}, {\"threshold\": 0.08163265306122448, \"label\": \"threshold: 0.082\\nprecision: 0.999\\nrecall: 0.999\", \"variable\": \"precision\", \"value\": 0.9993265993265993}, {\"threshold\": 0.1020408163265306, \"label\": \"threshold: 0.102\\nprecision: 0.999\\nrecall: 0.998\", \"variable\": \"precision\", \"value\": 0.9993256911665542}, {\"threshold\": 0.12244897959183673, \"label\": \"threshold: 0.122\\nprecision: 0.999\\nrecall: 0.997\", \"variable\": \"precision\", \"value\": 0.9993252361673415}, {\"threshold\": 0.14285714285714285, \"label\": \"threshold: 0.143\\nprecision: 0.999\\nrecall: 0.994\", \"variable\": \"precision\", \"value\": 0.999322951929587}, {\"threshold\": 0.16326530612244897, \"label\": \"threshold: 0.163\\nprecision: 1.0\\nrecall: 0.987\", \"variable\": \"precision\", \"value\": 1.0}, {\"threshold\": 0.18367346938775508, \"label\": \"threshold: 0.184\\nprecision: 1.0\\nrecall: 0.984\", \"variable\": \"precision\", \"value\": 1.0}, {\"threshold\": 0.2040816326530612, \"label\": \"threshold: 0.204\\nprecision: 1.0\\nrecall: 0.979\", \"variable\": \"precision\", \"value\": 1.0}, {\"threshold\": 0.22448979591836732, \"label\": \"threshold: 0.224\\nprecision: 1.0\\nrecall: 0.978\", \"variable\": \"precision\", \"value\": 1.0}, {\"threshold\": 0.24489795918367346, \"label\": \"threshold: 0.245\\nprecision: 1.0\\nrecall: 0.976\", \"variable\": \"precision\", \"value\": 1.0}, {\"threshold\": 0.26530612244897955, \"label\": \"threshold: 0.265\\nprecision: 1.0\\nrecall: 0.974\", \"variable\": \"precision\", \"value\": 1.0}, {\"threshold\": 0.2857142857142857, \"label\": \"threshold: 0.286\\nprecision: 1.0\\nrecall: 0.972\", \"variable\": \"precision\", \"value\": 1.0}, {\"threshold\": 0.3061224489795918, \"label\": \"threshold: 0.306\\nprecision: 1.0\\nrecall: 0.968\", \"variable\": \"precision\", \"value\": 1.0}, {\"threshold\": 0.32653061224489793, \"label\": \"threshold: 0.327\\nprecision: 1.0\\nrecall: 0.966\", \"variable\": \"precision\", \"value\": 1.0}, {\"threshold\": 0.3469387755102041, \"label\": \"threshold: 0.347\\nprecision: 1.0\\nrecall: 0.965\", \"variable\": \"precision\", \"value\": 1.0}, {\"threshold\": 0.36734693877551017, \"label\": \"threshold: 0.367\\nprecision: 1.0\\nrecall: 0.96\", \"variable\": \"precision\", \"value\": 1.0}, {\"threshold\": 0.3877551020408163, \"label\": \"threshold: 0.388\\nprecision: 1.0\\nrecall: 0.956\", \"variable\": \"precision\", \"value\": 1.0}, {\"threshold\": 0.4081632653061224, \"label\": \"threshold: 0.408\\nprecision: 1.0\\nrecall: 0.954\", \"variable\": \"precision\", \"value\": 1.0}, {\"threshold\": 0.42857142857142855, \"label\": \"threshold: 0.429\\nprecision: 1.0\\nrecall: 0.951\", \"variable\": \"precision\", \"value\": 1.0}, {\"threshold\": 0.44897959183673464, \"label\": \"threshold: 0.449\\nprecision: 1.0\\nrecall: 0.948\", \"variable\": \"precision\", \"value\": 1.0}, {\"threshold\": 0.4693877551020408, \"label\": \"threshold: 0.469\\nprecision: 1.0\\nrecall: 0.941\", \"variable\": \"precision\", \"value\": 1.0}, {\"threshold\": 0.4897959183673469, \"label\": \"threshold: 0.49\\nprecision: 1.0\\nrecall: 0.934\", \"variable\": \"precision\", \"value\": 1.0}, {\"threshold\": 0.5102040816326531, \"label\": \"threshold: 0.51\\nprecision: 1.0\\nrecall: 0.93\", \"variable\": \"precision\", \"value\": 1.0}, {\"threshold\": 0.5306122448979591, \"label\": \"threshold: 0.531\\nprecision: 1.0\\nrecall: 0.923\", \"variable\": \"precision\", \"value\": 1.0}, {\"threshold\": 0.5510204081632653, \"label\": \"threshold: 0.551\\nprecision: 1.0\\nrecall: 0.916\", \"variable\": \"precision\", \"value\": 1.0}, {\"threshold\": 0.5714285714285714, \"label\": \"threshold: 0.571\\nprecision: 1.0\\nrecall: 0.904\", \"variable\": \"precision\", \"value\": 1.0}, {\"threshold\": 0.5918367346938775, \"label\": \"threshold: 0.592\\nprecision: 1.0\\nrecall: 0.887\", \"variable\": \"precision\", \"value\": 1.0}, {\"threshold\": 0.6122448979591836, \"label\": \"threshold: 0.612\\nprecision: 1.0\\nrecall: 0.871\", \"variable\": \"precision\", \"value\": 1.0}, {\"threshold\": 0.6326530612244897, \"label\": \"threshold: 0.633\\nprecision: 1.0\\nrecall: 0.852\", \"variable\": \"precision\", \"value\": 1.0}, {\"threshold\": 0.6530612244897959, \"label\": \"threshold: 0.653\\nprecision: 1.0\\nrecall: 0.831\", \"variable\": \"precision\", \"value\": 1.0}, {\"threshold\": 0.673469387755102, \"label\": \"threshold: 0.673\\nprecision: 1.0\\nrecall: 0.797\", \"variable\": \"precision\", \"value\": 1.0}, {\"threshold\": 0.6938775510204082, \"label\": \"threshold: 0.694\\nprecision: 1.0\\nrecall: 0.759\", \"variable\": \"precision\", \"value\": 1.0}, {\"threshold\": 0.7142857142857142, \"label\": \"threshold: 0.714\\nprecision: 1.0\\nrecall: 0.728\", \"variable\": \"precision\", \"value\": 1.0}, {\"threshold\": 0.7346938775510203, \"label\": \"threshold: 0.735\\nprecision: 1.0\\nrecall: 0.665\", \"variable\": \"precision\", \"value\": 1.0}, {\"threshold\": 0.7551020408163265, \"label\": \"threshold: 0.755\\nprecision: 1.0\\nrecall: 0.63\", \"variable\": \"precision\", \"value\": 1.0}, {\"threshold\": 0.7755102040816326, \"label\": \"threshold: 0.776\\nprecision: 1.0\\nrecall: 0.562\", \"variable\": \"precision\", \"value\": 1.0}, {\"threshold\": 0.7959183673469387, \"label\": \"threshold: 0.796\\nprecision: 1.0\\nrecall: 0.515\", \"variable\": \"precision\", \"value\": 1.0}, {\"threshold\": 0.8163265306122448, \"label\": \"threshold: 0.816\\nprecision: 1.0\\nrecall: 0.442\", \"variable\": \"precision\", \"value\": 1.0}, {\"threshold\": 0.836734693877551, \"label\": \"threshold: 0.837\\nprecision: 1.0\\nrecall: 0.382\", \"variable\": \"precision\", \"value\": 1.0}, {\"threshold\": 0.8571428571428571, \"label\": \"threshold: 0.857\\nprecision: 1.0\\nrecall: 0.326\", \"variable\": \"precision\", \"value\": 1.0}, {\"threshold\": 0.8775510204081632, \"label\": \"threshold: 0.878\\nprecision: 1.0\\nrecall: 0.268\", \"variable\": \"precision\", \"value\": 1.0}, {\"threshold\": 0.8979591836734693, \"label\": \"threshold: 0.898\\nprecision: 1.0\\nrecall: 0.182\", \"variable\": \"precision\", \"value\": 1.0}, {\"threshold\": 0.9183673469387754, \"label\": \"threshold: 0.918\\nprecision: 1.0\\nrecall: 0.104\", \"variable\": \"precision\", \"value\": 1.0}, {\"threshold\": 0.9387755102040816, \"label\": \"threshold: 0.939\\nprecision: 1.0\\nrecall: 0.046\", \"variable\": \"precision\", \"value\": 1.0}, {\"threshold\": 0.9591836734693877, \"label\": \"threshold: 0.959\\nprecision: 1.0\\nrecall: 0.008\", \"variable\": \"precision\", \"value\": 1.0}, {\"threshold\": 0.9795918367346939, \"label\": \"threshold: 0.98\\nprecision: nan\\nrecall: 0.0\", \"variable\": \"precision\", \"value\": null}, {\"threshold\": 1.0, \"label\": \"threshold: 1.0\\nprecision: nan\\nrecall: 0.0\", \"variable\": \"precision\", \"value\": null}]}}, {\"mode\": \"vega-lite\"});\n",
              "</script>"
            ]
          },
          "metadata": {},
          "execution_count": 25
        }
      ],
      "source": [
        "tutorial.plot_precision_recall_vs_threshold(df_eval)"
      ]
    },
    {
      "cell_type": "markdown",
      "metadata": {
        "id": "Gt1g2RejTPrf"
      },
      "source": [
        "## Iterating with Active Learning"
      ]
    },
    {
      "cell_type": "markdown",
      "metadata": {
        "id": "3WH9DJEeTPrf"
      },
      "source": [
        "When using active learning, we iterate on our linking solution, and incorporate progressively more labeled training data. Perhaps we're not satisfied with the current performance of the blockers or classifier, and we'd like to create more labeled examples for dedupe to train on.\n",
        "\n",
        "Recall that earlier, we saved off our existing training data from the first labeling session. We can load this persisted data into a `dedupe` linker, and kick off another labeling session. Perhaps, after investigating the data during our first cycle, we don't think that dedupe should include `address_1` and `address2` in its comparators."
      ]
    },
    {
      "cell_type": "markdown",
      "metadata": {
        "id": "82_vTrGATPrf"
      },
      "source": [
        "### Tweak the Linker and Use Existing Training Data"
      ]
    },
    {
      "cell_type": "code",
      "execution_count": 26,
      "metadata": {
        "id": "Qjb9l7BlTPrg",
        "colab": {
          "base_uri": "https://localhost:8080/"
        },
        "outputId": "f8b3c8bb-87e9-413e-f5ec-966b3161d557"
      },
      "outputs": [
        {
          "output_type": "stream",
          "name": "stderr",
          "text": [
            "INFO:dedupe.api:reading training from file\n",
            "INFO:dedupe.training:Final predicate set:\n",
            "INFO:dedupe.training:SimplePredicate: (wholeFieldPredicate, date_of_birth)\n",
            "INFO:dedupe.training:Final predicate set:\n",
            "INFO:dedupe.training:SimplePredicate: (wholeFieldPredicate, suburb)\n"
          ]
        },
        {
          "output_type": "stream",
          "name": "stdout",
          "text": [
            "CPU times: user 44.4 s, sys: 905 ms, total: 45.3 s\n",
            "Wall time: 44.6 s\n"
          ]
        }
      ],
      "source": [
        "%%time\n",
        "\n",
        "fields = [\n",
        "    { \"field\" : \"first_name\", \"type\" : \"Name\" },\n",
        "    { \"field\" : \"surname\", \"type\" : \"Name\" },\n",
        "    { \"field\" : \"suburb\", \"type\" : \"ShortString\" },\n",
        "    { \"field\" : \"postcode\", \"type\" : \"Exact\" },\n",
        "    { \"field\" : \"state\", \"type\" : \"Exact\" },\n",
        "    { \"field\" : \"date_of_birth\", \"type\" : \"DateTime\" },\n",
        "    { \"field\" : \"soc_sec_id\", \"type\" : \"Exact\" },\n",
        "]\n",
        "\n",
        "linker2 = dedupe.RecordLink(fields)\n",
        "\n",
        "with open(TRAINING_FILE, \"r\") as fh:\n",
        "    linker2.prepare_training(records_A, records_B, training_file=fh)"
      ]
    },
    {
      "cell_type": "markdown",
      "metadata": {
        "id": "N0zOUlI_TPrg"
      },
      "source": [
        "Now, we can kick off a second active learning/labeling session."
      ]
    },
    {
      "cell_type": "code",
      "execution_count": 27,
      "metadata": {
        "id": "018jtYSJTPrg",
        "colab": {
          "base_uri": "https://localhost:8080/"
        },
        "outputId": "95d2ee1b-c70c-48fe-a3d5-f5a4f37e4bdb"
      },
      "outputs": [
        {
          "output_type": "stream",
          "name": "stderr",
          "text": [
            "first_name : tynan\n",
            "surname : vaisey\n",
            "suburb : burwood\n",
            "postcode : 5114\n",
            "state : nsw\n",
            "date_of_birth : 02/10/80\n",
            "soc_sec_id : 7613105\n",
            "\n",
            "first_name : tynsn\n",
            "surname : vaisey\n",
            "suburb : None\n",
            "postcode : 5114\n",
            "state : nswl\n",
            "date_of_birth : 02/20/80\n",
            "soc_sec_id : 7613105\n",
            "\n",
            "12/10 positive, 5/10 negative\n",
            "Do these records refer to the same thing?\n",
            "(y)es / (n)o / (u)nsure / (f)inished\n"
          ]
        },
        {
          "name": "stdout",
          "output_type": "stream",
          "text": [
            "y\n"
          ]
        },
        {
          "output_type": "stream",
          "name": "stderr",
          "text": [
            "first_name : harrison\n",
            "surname : paine\n",
            "suburb : patterson lakes\n",
            "postcode : 2777\n",
            "state : nsw\n",
            "date_of_birth : 08/22/62\n",
            "soc_sec_id : 3409750\n",
            "\n",
            "first_name : harruon\n",
            "surname : paine\n",
            "suburb : None\n",
            "postcode : 2777\n",
            "state : nx\n",
            "date_of_birth : None\n",
            "soc_sec_id : 3409750\n",
            "\n",
            "13/10 positive, 5/10 negative\n",
            "Do these records refer to the same thing?\n",
            "(y)es / (n)o / (u)nsure / (f)inished / (p)revious\n"
          ]
        },
        {
          "name": "stdout",
          "output_type": "stream",
          "text": [
            "f\n"
          ]
        },
        {
          "output_type": "stream",
          "name": "stderr",
          "text": [
            "Finished labeling\n",
            "INFO:dedupe.training:Final predicate set:\n",
            "INFO:dedupe.training:SimplePredicate: (wholeFieldPredicate, suburb)\n",
            "INFO:dedupe.training:SimplePredicate: (wholeFieldPredicate, soc_sec_id)\n"
          ]
        }
      ],
      "source": [
        "dedupe.console_label(linker2)"
      ]
    },
    {
      "cell_type": "markdown",
      "metadata": {
        "id": "_f2g9B6pTPrg"
      },
      "source": [
        "### Retrain the Linker and Examine Blocking Performance"
      ]
    },
    {
      "cell_type": "markdown",
      "metadata": {
        "id": "UglonE40TPrg"
      },
      "source": [
        "Now, let's retrain, and examine blocker performance. Ideally, we see an improved true link retention following our second labeling session."
      ]
    },
    {
      "cell_type": "code",
      "execution_count": 28,
      "metadata": {
        "id": "hB3Y2-AqTPrg",
        "colab": {
          "base_uri": "https://localhost:8080/"
        },
        "outputId": "7a59bf27-b6d1-414a-cd3e-39cfcbb76c6a"
      },
      "outputs": [
        {
          "output_type": "stream",
          "name": "stderr",
          "text": [
            "INFO:rlr.crossvalidation:using cross validation to find optimum alpha...\n",
            "/usr/local/lib/python3.7/dist-packages/rlr/crossvalidation.py:122: RuntimeWarning: invalid value encountered in double_scalars\n",
            "  * (true_distinct + false_distinct)))\n",
            "INFO:rlr.crossvalidation:optimum alpha: 1.000000, score 0.21568730250512277\n",
            "INFO:dedupe.training:Final predicate set:\n",
            "INFO:dedupe.training:(SimplePredicate: (wholeFieldPredicate, soc_sec_id), SimplePredicate: (wholeFieldPredicate, state), TfidfNGramSearchPredicate: (0.8, suburb))\n",
            "INFO:dedupe.training:(PartialPredicate: (commonSixGram, surname, Surname), SimplePredicate: (suffixArray, first_name), SimplePredicate: (wholeFieldPredicate, state))\n",
            "INFO:dedupe.training:(SimplePredicate: (monthPredicate, date_of_birth), PartialPredicate: (sortedAcronym, first_name, Surname), SimplePredicate: (tokenFieldPredicate, surname))\n",
            "INFO:dedupe.training:(SimplePredicate: (firstTwoTokensPredicate, surname), SimplePredicate: (commonSixGram, suburb))\n",
            "INFO:dedupe.training:(SimplePredicate: (commonTwoTokens, suburb), PartialPredicate: (commonSixGram, first_name, Surname))\n",
            "INFO:dedupe.training:(SimplePredicate: (wholeFieldPredicate, date_of_birth), SimplePredicate: (commonSixGram, first_name), SimplePredicate: (wholeFieldPredicate, state))\n"
          ]
        },
        {
          "output_type": "stream",
          "name": "stdout",
          "text": [
            "CPU times: user 6.6 s, sys: 969 ms, total: 7.57 s\n",
            "Wall time: 6.76 s\n"
          ]
        }
      ],
      "source": [
        "%%time\n",
        "linker2.train()"
      ]
    },
    {
      "cell_type": "code",
      "execution_count": 29,
      "metadata": {
        "id": "IUIVrWlyTPrh",
        "colab": {
          "base_uri": "https://localhost:8080/"
        },
        "outputId": "bffe0703-61f3-43cf-b5ea-7c1c5681718b"
      },
      "outputs": [
        {
          "output_type": "stream",
          "name": "stdout",
          "text": [
            "1,701 candidate pairs generated from blocking.\n",
            "10,562,500 total possible pairs.\n",
            "\n",
            "1,701 pairs after full blocking: 0.999839% search space reduction.\n",
            "56.4% true links retained after blocking.\n"
          ]
        }
      ],
      "source": [
        "candidate_pairs = [x for x in linker2.pairs(records_A, records_B)]\n",
        "print(f\"{len(candidate_pairs):,} candidate pairs generated from blocking.\")\n",
        "\n",
        "df_candidate_links = pd.DataFrame(\n",
        "    [(x[0][0], x[1][0]) for x in candidate_pairs]\n",
        ").rename(columns={0 : \"person_id_A\", 1 : \"person_id_B\"}).set_index([\"person_id_A\", \"person_id_B\"])\n",
        "\n",
        "max_candidate_pairs = df_A.shape[0]*df_B.shape[0]\n",
        "\n",
        "print(f\"{max_candidate_pairs:,} total possible pairs.\")\n",
        "\n",
        "# Calculate search space reduction.\n",
        "search_space_reduction = round(1 - len(candidate_pairs)/max_candidate_pairs, 6)\n",
        "print(f\"\\n{len(candidate_pairs):,} pairs after full blocking: {search_space_reduction}% search space reduction.\")\n",
        "\n",
        "# Calculate retained true links percentage.\n",
        "total_true_links = df_ground_truth.shape[0]\n",
        "true_links_after_blocking = pd.merge(\n",
        "    df_ground_truth,\n",
        "    df_candidate_links,\n",
        "    left_index=True,\n",
        "    right_index=True,\n",
        "    how=\"inner\"\n",
        ").shape[0]\n",
        "\n",
        "retained_true_link_percent = round((true_links_after_blocking/total_true_links) * 100, 2)\n",
        "print(f\"{retained_true_link_percent}% true links retained after blocking.\")"
      ]
    },
    {
      "cell_type": "markdown",
      "metadata": {
        "id": "sfSgXFzITPrh"
      },
      "source": [
        "### Evaluate Classification Performance"
      ]
    },
    {
      "cell_type": "code",
      "execution_count": 30,
      "metadata": {
        "id": "XSPujHbnTPrh",
        "colab": {
          "base_uri": "https://localhost:8080/"
        },
        "outputId": "601362af-7157-40d0-8bd8-1fc3699b1bd4"
      },
      "outputs": [
        {
          "output_type": "stream",
          "name": "stdout",
          "text": [
            "CPU times: user 1.53 s, sys: 100 ms, total: 1.63 s\n",
            "Wall time: 2.97 s\n"
          ]
        }
      ],
      "source": [
        "%%time\n",
        "linked_records = linker2.join(records_A, records_B, threshold=0.0, constraint=\"one-to-one\")"
      ]
    },
    {
      "cell_type": "code",
      "execution_count": 31,
      "metadata": {
        "id": "IeicE2lITPrh",
        "colab": {
          "base_uri": "https://localhost:8080/",
          "height": 455
        },
        "outputId": "aa79a588-3e3d-4a10-ac72-52ed5b15d092"
      },
      "outputs": [
        {
          "output_type": "execute_result",
          "data": {
            "text/html": [
              "<div>\n",
              "<style scoped>\n",
              "    .dataframe tbody tr th:only-of-type {\n",
              "        vertical-align: middle;\n",
              "    }\n",
              "\n",
              "    .dataframe tbody tr th {\n",
              "        vertical-align: top;\n",
              "    }\n",
              "\n",
              "    .dataframe thead th {\n",
              "        text-align: right;\n",
              "    }\n",
              "</style>\n",
              "<table border=\"1\" class=\"dataframe\">\n",
              "  <thead>\n",
              "    <tr style=\"text-align: right;\">\n",
              "      <th></th>\n",
              "      <th></th>\n",
              "      <th>model_score</th>\n",
              "      <th>ground_truth</th>\n",
              "    </tr>\n",
              "    <tr>\n",
              "      <th>person_id_A</th>\n",
              "      <th>person_id_B</th>\n",
              "      <th></th>\n",
              "      <th></th>\n",
              "    </tr>\n",
              "  </thead>\n",
              "  <tbody>\n",
              "    <tr>\n",
              "      <th>ed588703-022b-449d-aa43-c5b5f9a596e0</th>\n",
              "      <th>c55f2fd1-976a-495c-8613-33639391df30</th>\n",
              "      <td>1.000000</td>\n",
              "      <td>True</td>\n",
              "    </tr>\n",
              "    <tr>\n",
              "      <th>dc7b2f36-4925-4455-af27-8afba03098c4</th>\n",
              "      <th>b705af01-db9d-4da6-82be-590acbf7a33f</th>\n",
              "      <td>1.000000</td>\n",
              "      <td>True</td>\n",
              "    </tr>\n",
              "    <tr>\n",
              "      <th>d91c733d-94be-4984-ae85-407a1e7433a7</th>\n",
              "      <th>0da76f3f-0910-4e18-b86d-2344fe5a3206</th>\n",
              "      <td>1.000000</td>\n",
              "      <td>True</td>\n",
              "    </tr>\n",
              "    <tr>\n",
              "      <th>9e8b210e-316d-4b69-adb3-9a6d16277c3b</th>\n",
              "      <th>8a830a4b-054d-4c47-a3a7-d90395065797</th>\n",
              "      <td>1.000000</td>\n",
              "      <td>True</td>\n",
              "    </tr>\n",
              "    <tr>\n",
              "      <th>7bd2a4e1-76d8-4993-8921-f624bb83db01</th>\n",
              "      <th>6fa74f0b-a0df-4fe1-8ffa-75a24045a43f</th>\n",
              "      <td>1.000000</td>\n",
              "      <td>True</td>\n",
              "    </tr>\n",
              "    <tr>\n",
              "      <th>...</th>\n",
              "      <th>...</th>\n",
              "      <td>...</td>\n",
              "      <td>...</td>\n",
              "    </tr>\n",
              "    <tr>\n",
              "      <th>2474e206-15f6-4182-8858-48a3717d495a</th>\n",
              "      <th>74ece867-2eba-4ca6-a288-ce53eb4cf426</th>\n",
              "      <td>0.156811</td>\n",
              "      <td>True</td>\n",
              "    </tr>\n",
              "    <tr>\n",
              "      <th>1233ad5a-e423-4bd6-acf0-a2fdf42f4a27</th>\n",
              "      <th>1b53dc8f-74fb-48b7-9090-fa3fe99fbb19</th>\n",
              "      <td>0.116145</td>\n",
              "      <td>True</td>\n",
              "    </tr>\n",
              "    <tr>\n",
              "      <th>2f84019c-ea3a-4105-8087-821c40328773</th>\n",
              "      <th>d61b8581-02bc-4f10-89b3-5a06a65547ae</th>\n",
              "      <td>0.109106</td>\n",
              "      <td>True</td>\n",
              "    </tr>\n",
              "    <tr>\n",
              "      <th>75963c5c-3389-49e9-9404-4900c45abe43</th>\n",
              "      <th>92292e33-95bd-4ff0-9d4f-904d54712fa8</th>\n",
              "      <td>0.088072</td>\n",
              "      <td>True</td>\n",
              "    </tr>\n",
              "    <tr>\n",
              "      <th>98faebb4-c301-47cf-b997-bc3b8de85d4a</th>\n",
              "      <th>dbaee488-0776-43f8-97de-116d50f5bf48</th>\n",
              "      <td>0.082336</td>\n",
              "      <td>True</td>\n",
              "    </tr>\n",
              "  </tbody>\n",
              "</table>\n",
              "<p>1693 rows × 2 columns</p>\n",
              "</div>"
            ],
            "text/plain": [
              "                                                                           model_score  ground_truth\n",
              "person_id_A                          person_id_B                                                    \n",
              "ed588703-022b-449d-aa43-c5b5f9a596e0 c55f2fd1-976a-495c-8613-33639391df30     1.000000          True\n",
              "dc7b2f36-4925-4455-af27-8afba03098c4 b705af01-db9d-4da6-82be-590acbf7a33f     1.000000          True\n",
              "d91c733d-94be-4984-ae85-407a1e7433a7 0da76f3f-0910-4e18-b86d-2344fe5a3206     1.000000          True\n",
              "9e8b210e-316d-4b69-adb3-9a6d16277c3b 8a830a4b-054d-4c47-a3a7-d90395065797     1.000000          True\n",
              "7bd2a4e1-76d8-4993-8921-f624bb83db01 6fa74f0b-a0df-4fe1-8ffa-75a24045a43f     1.000000          True\n",
              "...                                                                                ...           ...\n",
              "2474e206-15f6-4182-8858-48a3717d495a 74ece867-2eba-4ca6-a288-ce53eb4cf426     0.156811          True\n",
              "1233ad5a-e423-4bd6-acf0-a2fdf42f4a27 1b53dc8f-74fb-48b7-9090-fa3fe99fbb19     0.116145          True\n",
              "2f84019c-ea3a-4105-8087-821c40328773 d61b8581-02bc-4f10-89b3-5a06a65547ae     0.109106          True\n",
              "75963c5c-3389-49e9-9404-4900c45abe43 92292e33-95bd-4ff0-9d4f-904d54712fa8     0.088072          True\n",
              "98faebb4-c301-47cf-b997-bc3b8de85d4a dbaee488-0776-43f8-97de-116d50f5bf48     0.082336          True\n",
              "\n",
              "[1693 rows x 2 columns]"
            ]
          },
          "metadata": {},
          "execution_count": 31
        }
      ],
      "source": [
        "df_predictions = pd.DataFrame(\n",
        "    [ {\"person_id_A\" : x[0][0], \"person_id_B\" : x[0][1], \"model_score\" : x[1]} for x in linked_records]\n",
        ")\n",
        "\n",
        "df_predictions = df_predictions.set_index([\"person_id_A\", \"person_id_B\"])\n",
        "\n",
        "df_predictions = pd.merge(\n",
        "    df_predictions,\n",
        "    df_ground_truth,\n",
        "    left_index=True,\n",
        "    right_index=True,\n",
        "    how=\"left\",\n",
        ")\n",
        "\n",
        "df_predictions[\"ground_truth\"].fillna(False, inplace=True)\n",
        "df_predictions"
      ]
    },
    {
      "cell_type": "code",
      "execution_count": 32,
      "metadata": {
        "id": "phGzq2k-TPrh",
        "colab": {
          "base_uri": "https://localhost:8080/"
        },
        "outputId": "37cb6361-18ce-445b-a382-f37d0428108f"
      },
      "outputs": [
        {
          "output_type": "execute_result",
          "data": {
            "text/plain": [
              "True     1686\n",
              "False       7\n",
              "Name: ground_truth, dtype: int64"
            ]
          },
          "metadata": {},
          "execution_count": 32
        }
      ],
      "source": [
        "df_predictions[\"ground_truth\"].value_counts()"
      ]
    },
    {
      "cell_type": "code",
      "execution_count": 33,
      "metadata": {
        "id": "24p3g5vVTPri",
        "colab": {
          "base_uri": "https://localhost:8080/",
          "height": 485
        },
        "outputId": "004bc942-469a-47d5-e122-75de9417990b"
      },
      "outputs": [
        {
          "output_type": "execute_result",
          "data": {
            "text/plain": [
              "alt.Chart(...)"
            ],
            "text/html": [
              "\n",
              "<div id=\"altair-viz-c33d874d388f4017811cc0fcb3657447\"></div>\n",
              "<script type=\"text/javascript\">\n",
              "  (function(spec, embedOpt){\n",
              "    let outputDiv = document.currentScript.previousElementSibling;\n",
              "    if (outputDiv.id !== \"altair-viz-c33d874d388f4017811cc0fcb3657447\") {\n",
              "      outputDiv = document.getElementById(\"altair-viz-c33d874d388f4017811cc0fcb3657447\");\n",
              "    }\n",
              "    const paths = {\n",
              "      \"vega\": \"https://cdn.jsdelivr.net/npm//vega@5?noext\",\n",
              "      \"vega-lib\": \"https://cdn.jsdelivr.net/npm//vega-lib?noext\",\n",
              "      \"vega-lite\": \"https://cdn.jsdelivr.net/npm//vega-lite@4.8.1?noext\",\n",
              "      \"vega-embed\": \"https://cdn.jsdelivr.net/npm//vega-embed@6?noext\",\n",
              "    };\n",
              "\n",
              "    function loadScript(lib) {\n",
              "      return new Promise(function(resolve, reject) {\n",
              "        var s = document.createElement('script');\n",
              "        s.src = paths[lib];\n",
              "        s.async = true;\n",
              "        s.onload = () => resolve(paths[lib]);\n",
              "        s.onerror = () => reject(`Error loading script: ${paths[lib]}`);\n",
              "        document.getElementsByTagName(\"head\")[0].appendChild(s);\n",
              "      });\n",
              "    }\n",
              "\n",
              "    function showError(err) {\n",
              "      outputDiv.innerHTML = `<div class=\"error\" style=\"color:red;\">${err}</div>`;\n",
              "      throw err;\n",
              "    }\n",
              "\n",
              "    function displayChart(vegaEmbed) {\n",
              "      vegaEmbed(outputDiv, spec, embedOpt)\n",
              "        .catch(err => showError(`Javascript Error: ${err.message}<br>This usually means there's a typo in your chart specification. See the javascript console for the full traceback.`));\n",
              "    }\n",
              "\n",
              "    if(typeof define === \"function\" && define.amd) {\n",
              "      requirejs.config({paths});\n",
              "      require([\"vega-embed\"], displayChart, err => showError(`Error loading script: ${err.message}`));\n",
              "    } else if (typeof vegaEmbed === \"function\") {\n",
              "      displayChart(vegaEmbed);\n",
              "    } else {\n",
              "      loadScript(\"vega\")\n",
              "        .then(() => loadScript(\"vega-lite\"))\n",
              "        .then(() => loadScript(\"vega-embed\"))\n",
              "        .catch(showError)\n",
              "        .then(() => displayChart(vegaEmbed));\n",
              "    }\n",
              "  })({\"config\": {\"view\": {\"continuousWidth\": 400, \"continuousHeight\": 300}}, \"data\": {\"name\": \"data-7abb309c260c989abe345c8f79d0367e\"}, \"mark\": {\"type\": \"bar\", \"binSpacing\": 0, \"opacity\": 0.7}, \"encoding\": {\"color\": {\"type\": \"nominal\", \"field\": \"ground_truth\", \"legend\": {\"title\": \"Ground Truth Label\"}, \"scale\": {\"domain\": [\"True Link\", \"Not a Link\"], \"scheme\": \"tableau10\"}}, \"opacity\": {\"condition\": {\"value\": 0.7, \"selection\": \"selector005\"}, \"value\": 0.2}, \"tooltip\": [{\"type\": \"quantitative\", \"field\": \"model_score\", \"title\": \"Model Score\"}, {\"type\": \"nominal\", \"field\": \"ground_truth\", \"title\": \"Ground Truth\"}, {\"type\": \"quantitative\", \"field\": \"count\", \"title\": \"Count of Links\"}], \"x\": {\"type\": \"quantitative\", \"axis\": {\"tickCount\": 5, \"title\": \"Model Score (Binned)\"}, \"bin\": {\"extent\": [0, 1], \"step\": 0.01}, \"field\": \"model_score\"}, \"y\": {\"type\": \"quantitative\", \"axis\": {\"title\": \"Count of Links\"}, \"field\": \"count\", \"stack\": null}}, \"height\": 400, \"selection\": {\"selector005\": {\"type\": \"multi\", \"fields\": [\"ground_truth\"], \"bind\": \"legend\"}, \"selector006\": {\"type\": \"interval\", \"bind\": \"scales\", \"encodings\": [\"x\", \"y\"]}}, \"title\": \"Model Score Distribution\", \"width\": 800, \"$schema\": \"https://vega.github.io/schema/vega-lite/v4.8.1.json\", \"datasets\": {\"data-7abb309c260c989abe345c8f79d0367e\": [{\"model_score\": 0.08, \"ground_truth\": \"True Link\", \"count\": 1}, {\"model_score\": 0.09, \"ground_truth\": \"True Link\", \"count\": 1}, {\"model_score\": 0.11, \"ground_truth\": \"True Link\", \"count\": 1}, {\"model_score\": 0.12, \"ground_truth\": \"True Link\", \"count\": 1}, {\"model_score\": 0.16, \"ground_truth\": \"True Link\", \"count\": 1}, {\"model_score\": 0.17, \"ground_truth\": \"True Link\", \"count\": 1}, {\"model_score\": 0.18, \"ground_truth\": \"True Link\", \"count\": 1}, {\"model_score\": 0.2, \"ground_truth\": \"True Link\", \"count\": 1}, {\"model_score\": 0.22, \"ground_truth\": \"True Link\", \"count\": 2}, {\"model_score\": 0.23, \"ground_truth\": \"True Link\", \"count\": 1}, {\"model_score\": 0.25, \"ground_truth\": \"True Link\", \"count\": 1}, {\"model_score\": 0.26, \"ground_truth\": \"True Link\", \"count\": 2}, {\"model_score\": 0.3, \"ground_truth\": \"True Link\", \"count\": 1}, {\"model_score\": 0.32, \"ground_truth\": \"True Link\", \"count\": 4}, {\"model_score\": 0.34, \"ground_truth\": \"True Link\", \"count\": 3}, {\"model_score\": 0.36, \"ground_truth\": \"True Link\", \"count\": 3}, {\"model_score\": 0.37, \"ground_truth\": \"True Link\", \"count\": 4}, {\"model_score\": 0.38, \"ground_truth\": \"True Link\", \"count\": 2}, {\"model_score\": 0.41, \"ground_truth\": \"True Link\", \"count\": 1}, {\"model_score\": 0.42, \"ground_truth\": \"True Link\", \"count\": 3}, {\"model_score\": 0.43, \"ground_truth\": \"True Link\", \"count\": 3}, {\"model_score\": 0.44, \"ground_truth\": \"True Link\", \"count\": 1}, {\"model_score\": 0.45, \"ground_truth\": \"True Link\", \"count\": 2}, {\"model_score\": 0.46, \"ground_truth\": \"True Link\", \"count\": 2}, {\"model_score\": 0.47, \"ground_truth\": \"True Link\", \"count\": 1}, {\"model_score\": 0.48, \"ground_truth\": \"True Link\", \"count\": 3}, {\"model_score\": 0.49, \"ground_truth\": \"True Link\", \"count\": 4}, {\"model_score\": 0.5, \"ground_truth\": \"True Link\", \"count\": 7}, {\"model_score\": 0.51, \"ground_truth\": \"True Link\", \"count\": 4}, {\"model_score\": 0.52, \"ground_truth\": \"True Link\", \"count\": 2}, {\"model_score\": 0.53, \"ground_truth\": \"True Link\", \"count\": 6}, {\"model_score\": 0.54, \"ground_truth\": \"True Link\", \"count\": 1}, {\"model_score\": 0.55, \"ground_truth\": \"True Link\", \"count\": 5}, {\"model_score\": 0.56, \"ground_truth\": \"True Link\", \"count\": 5}, {\"model_score\": 0.57, \"ground_truth\": \"True Link\", \"count\": 4}, {\"model_score\": 0.58, \"ground_truth\": \"True Link\", \"count\": 11}, {\"model_score\": 0.59, \"ground_truth\": \"True Link\", \"count\": 4}, {\"model_score\": 0.6, \"ground_truth\": \"True Link\", \"count\": 6}, {\"model_score\": 0.61, \"ground_truth\": \"True Link\", \"count\": 6}, {\"model_score\": 0.62, \"ground_truth\": \"True Link\", \"count\": 6}, {\"model_score\": 0.63, \"ground_truth\": \"True Link\", \"count\": 7}, {\"model_score\": 0.64, \"ground_truth\": \"True Link\", \"count\": 9}, {\"model_score\": 0.65, \"ground_truth\": \"True Link\", \"count\": 8}, {\"model_score\": 0.66, \"ground_truth\": \"True Link\", \"count\": 6}, {\"model_score\": 0.67, \"ground_truth\": \"True Link\", \"count\": 9}, {\"model_score\": 0.68, \"ground_truth\": \"True Link\", \"count\": 10}, {\"model_score\": 0.69, \"ground_truth\": \"True Link\", \"count\": 6}, {\"model_score\": 0.7, \"ground_truth\": \"True Link\", \"count\": 14}, {\"model_score\": 0.71, \"ground_truth\": \"True Link\", \"count\": 34}, {\"model_score\": 0.72, \"ground_truth\": \"True Link\", \"count\": 11}, {\"model_score\": 0.73, \"ground_truth\": \"True Link\", \"count\": 13}, {\"model_score\": 0.74, \"ground_truth\": \"True Link\", \"count\": 19}, {\"model_score\": 0.75, \"ground_truth\": \"True Link\", \"count\": 27}, {\"model_score\": 0.76, \"ground_truth\": \"True Link\", \"count\": 50}, {\"model_score\": 0.77, \"ground_truth\": \"True Link\", \"count\": 21}, {\"model_score\": 0.78, \"ground_truth\": \"True Link\", \"count\": 44}, {\"model_score\": 0.79, \"ground_truth\": \"True Link\", \"count\": 26}, {\"model_score\": 0.8, \"ground_truth\": \"True Link\", \"count\": 33}, {\"model_score\": 0.81, \"ground_truth\": \"True Link\", \"count\": 21}, {\"model_score\": 0.82, \"ground_truth\": \"True Link\", \"count\": 63}, {\"model_score\": 0.83, \"ground_truth\": \"True Link\", \"count\": 64}, {\"model_score\": 0.84, \"ground_truth\": \"True Link\", \"count\": 74}, {\"model_score\": 0.85, \"ground_truth\": \"True Link\", \"count\": 50}, {\"model_score\": 0.86, \"ground_truth\": \"True Link\", \"count\": 57}, {\"model_score\": 0.87, \"ground_truth\": \"True Link\", \"count\": 128}, {\"model_score\": 0.88, \"ground_truth\": \"True Link\", \"count\": 92}, {\"model_score\": 0.89, \"ground_truth\": \"True Link\", \"count\": 70}, {\"model_score\": 0.9, \"ground_truth\": \"True Link\", \"count\": 65}, {\"model_score\": 0.91, \"ground_truth\": \"True Link\", \"count\": 169}, {\"model_score\": 0.92, \"ground_truth\": \"True Link\", \"count\": 74}, {\"model_score\": 0.93, \"ground_truth\": \"True Link\", \"count\": 55}, {\"model_score\": 0.94, \"ground_truth\": \"True Link\", \"count\": 104}, {\"model_score\": 0.95, \"ground_truth\": \"True Link\", \"count\": 34}, {\"model_score\": 0.96, \"ground_truth\": \"True Link\", \"count\": 32}, {\"model_score\": 0.97, \"ground_truth\": \"True Link\", \"count\": 9}, {\"model_score\": 0.98, \"ground_truth\": \"True Link\", \"count\": 6}, {\"model_score\": 0.99, \"ground_truth\": \"True Link\", \"count\": 5}, {\"model_score\": 1.0, \"ground_truth\": \"Not a Link\", \"count\": 7}, {\"model_score\": 1.0, \"ground_truth\": \"True Link\", \"count\": 49}]}}, {\"mode\": \"vega-lite\"});\n",
              "</script>"
            ]
          },
          "metadata": {},
          "execution_count": 33
        }
      ],
      "source": [
        "tutorial.plot_model_score_distribution(df_predictions)"
      ]
    },
    {
      "cell_type": "code",
      "execution_count": 34,
      "metadata": {
        "id": "5fa3yaL9TPri",
        "colab": {
          "base_uri": "https://localhost:8080/",
          "height": 485
        },
        "outputId": "721aa138-4f7e-4f3f-ff33-354a628037d8"
      },
      "outputs": [
        {
          "output_type": "execute_result",
          "data": {
            "text/plain": [
              "alt.LayerChart(...)"
            ],
            "text/html": [
              "\n",
              "<div id=\"altair-viz-81b1b0feaaa34c27ae2d300d7e54881f\"></div>\n",
              "<script type=\"text/javascript\">\n",
              "  (function(spec, embedOpt){\n",
              "    let outputDiv = document.currentScript.previousElementSibling;\n",
              "    if (outputDiv.id !== \"altair-viz-81b1b0feaaa34c27ae2d300d7e54881f\") {\n",
              "      outputDiv = document.getElementById(\"altair-viz-81b1b0feaaa34c27ae2d300d7e54881f\");\n",
              "    }\n",
              "    const paths = {\n",
              "      \"vega\": \"https://cdn.jsdelivr.net/npm//vega@5?noext\",\n",
              "      \"vega-lib\": \"https://cdn.jsdelivr.net/npm//vega-lib?noext\",\n",
              "      \"vega-lite\": \"https://cdn.jsdelivr.net/npm//vega-lite@4.8.1?noext\",\n",
              "      \"vega-embed\": \"https://cdn.jsdelivr.net/npm//vega-embed@6?noext\",\n",
              "    };\n",
              "\n",
              "    function loadScript(lib) {\n",
              "      return new Promise(function(resolve, reject) {\n",
              "        var s = document.createElement('script');\n",
              "        s.src = paths[lib];\n",
              "        s.async = true;\n",
              "        s.onload = () => resolve(paths[lib]);\n",
              "        s.onerror = () => reject(`Error loading script: ${paths[lib]}`);\n",
              "        document.getElementsByTagName(\"head\")[0].appendChild(s);\n",
              "      });\n",
              "    }\n",
              "\n",
              "    function showError(err) {\n",
              "      outputDiv.innerHTML = `<div class=\"error\" style=\"color:red;\">${err}</div>`;\n",
              "      throw err;\n",
              "    }\n",
              "\n",
              "    function displayChart(vegaEmbed) {\n",
              "      vegaEmbed(outputDiv, spec, embedOpt)\n",
              "        .catch(err => showError(`Javascript Error: ${err.message}<br>This usually means there's a typo in your chart specification. See the javascript console for the full traceback.`));\n",
              "    }\n",
              "\n",
              "    if(typeof define === \"function\" && define.amd) {\n",
              "      requirejs.config({paths});\n",
              "      require([\"vega-embed\"], displayChart, err => showError(`Error loading script: ${err.message}`));\n",
              "    } else if (typeof vegaEmbed === \"function\") {\n",
              "      displayChart(vegaEmbed);\n",
              "    } else {\n",
              "      loadScript(\"vega\")\n",
              "        .then(() => loadScript(\"vega-lite\"))\n",
              "        .then(() => loadScript(\"vega-embed\"))\n",
              "        .catch(showError)\n",
              "        .then(() => displayChart(vegaEmbed));\n",
              "    }\n",
              "  })({\"config\": {\"view\": {\"continuousWidth\": 400, \"continuousHeight\": 300}}, \"layer\": [{\"mark\": \"line\", \"encoding\": {\"color\": {\"type\": \"nominal\", \"field\": \"variable\", \"legend\": {\"title\": \"Variable\"}}, \"tooltip\": [{\"type\": \"nominal\", \"field\": \"variable\"}, {\"type\": \"quantitative\", \"field\": \"threshold\"}, {\"type\": \"quantitative\", \"field\": \"value\"}], \"x\": {\"type\": \"quantitative\", \"axis\": {\"title\": \"Model Threshold\"}, \"field\": \"threshold\"}, \"y\": {\"type\": \"quantitative\", \"axis\": {\"title\": \"Precision/Recall Value\"}, \"field\": \"value\", \"scale\": {\"domain\": [0, 1]}}}, \"selection\": {\"selector008\": {\"type\": \"interval\", \"bind\": \"scales\", \"encodings\": [\"x\", \"y\"]}}, \"title\": \"Precision and Recall v.s. Model Threshold\"}, {\"mark\": \"point\", \"encoding\": {\"opacity\": {\"value\": 0}, \"x\": {\"type\": \"quantitative\", \"field\": \"threshold\"}}, \"selection\": {\"selector007\": {\"type\": \"single\", \"nearest\": true, \"on\": \"mouseover\", \"fields\": [\"threshold\"], \"empty\": \"none\"}}}, {\"mark\": \"point\", \"encoding\": {\"color\": {\"type\": \"nominal\", \"field\": \"variable\", \"legend\": {\"title\": \"Variable\"}}, \"opacity\": {\"condition\": {\"value\": 1, \"selection\": \"selector007\"}, \"value\": 0}, \"tooltip\": [{\"type\": \"nominal\", \"field\": \"variable\"}, {\"type\": \"quantitative\", \"field\": \"threshold\"}, {\"type\": \"quantitative\", \"field\": \"value\"}], \"x\": {\"type\": \"quantitative\", \"axis\": {\"title\": \"Model Threshold\"}, \"field\": \"threshold\"}, \"y\": {\"type\": \"quantitative\", \"axis\": {\"title\": \"Precision/Recall Value\"}, \"field\": \"value\", \"scale\": {\"domain\": [0, 1]}}}, \"title\": \"Precision and Recall v.s. Model Threshold\"}, {\"mark\": {\"type\": \"rule\", \"color\": \"gray\"}, \"encoding\": {\"x\": {\"type\": \"quantitative\", \"field\": \"threshold\"}}, \"transform\": [{\"filter\": {\"selection\": \"selector007\"}}]}, {\"mark\": {\"type\": \"text\", \"align\": \"right\", \"dx\": -10, \"dy\": -5, \"fontWeight\": 300, \"lineBreak\": \"\\n\"}, \"encoding\": {\"color\": {\"type\": \"nominal\", \"field\": \"variable\", \"legend\": {\"title\": \"Variable\"}}, \"text\": {\"condition\": {\"type\": \"nominal\", \"field\": \"label\", \"selection\": \"selector007\"}, \"value\": \" \"}, \"tooltip\": [{\"type\": \"nominal\", \"field\": \"variable\"}, {\"type\": \"quantitative\", \"field\": \"threshold\"}, {\"type\": \"quantitative\", \"field\": \"value\"}], \"x\": {\"type\": \"quantitative\", \"axis\": {\"title\": \"Model Threshold\"}, \"field\": \"threshold\"}, \"y\": {\"type\": \"quantitative\", \"axis\": {\"title\": \"Precision/Recall Value\"}, \"field\": \"value\", \"scale\": {\"domain\": [0, 1]}}}, \"title\": \"Precision and Recall v.s. Model Threshold\"}], \"data\": {\"name\": \"data-57a1b50f07c1dab71b11207350baa3bc\"}, \"height\": 400, \"width\": 800, \"$schema\": \"https://vega.github.io/schema/vega-lite/v4.8.1.json\", \"datasets\": {\"data-57a1b50f07c1dab71b11207350baa3bc\": [{\"threshold\": 0.0, \"label\": \"threshold: 0.0\\nprecision: 0.996\\nrecall: 1.0\", \"variable\": \"recall\", \"value\": 1.0}, {\"threshold\": 0.02040816326530612, \"label\": \"threshold: 0.02\\nprecision: 0.996\\nrecall: 1.0\", \"variable\": \"recall\", \"value\": 1.0}, {\"threshold\": 0.04081632653061224, \"label\": \"threshold: 0.041\\nprecision: 0.996\\nrecall: 1.0\", \"variable\": \"recall\", \"value\": 1.0}, {\"threshold\": 0.061224489795918366, \"label\": \"threshold: 0.061\\nprecision: 0.996\\nrecall: 1.0\", \"variable\": \"recall\", \"value\": 1.0}, {\"threshold\": 0.08163265306122448, \"label\": \"threshold: 0.082\\nprecision: 0.996\\nrecall: 1.0\", \"variable\": \"recall\", \"value\": 1.0}, {\"threshold\": 0.1020408163265306, \"label\": \"threshold: 0.102\\nprecision: 0.996\\nrecall: 0.999\", \"variable\": \"recall\", \"value\": 0.9988137603795967}, {\"threshold\": 0.12244897959183673, \"label\": \"threshold: 0.122\\nprecision: 0.996\\nrecall: 0.998\", \"variable\": \"recall\", \"value\": 0.9976275207591934}, {\"threshold\": 0.14285714285714285, \"label\": \"threshold: 0.143\\nprecision: 0.996\\nrecall: 0.998\", \"variable\": \"recall\", \"value\": 0.9976275207591934}, {\"threshold\": 0.16326530612244897, \"label\": \"threshold: 0.163\\nprecision: 0.996\\nrecall: 0.997\", \"variable\": \"recall\", \"value\": 0.9970344009489917}, {\"threshold\": 0.18367346938775508, \"label\": \"threshold: 0.184\\nprecision: 0.996\\nrecall: 0.996\", \"variable\": \"recall\", \"value\": 0.99644128113879}, {\"threshold\": 0.2040816326530612, \"label\": \"threshold: 0.204\\nprecision: 0.996\\nrecall: 0.996\", \"variable\": \"recall\", \"value\": 0.9958481613285883}, {\"threshold\": 0.22448979591836732, \"label\": \"threshold: 0.224\\nprecision: 0.996\\nrecall: 0.994\", \"variable\": \"recall\", \"value\": 0.9940688018979834}, {\"threshold\": 0.24489795918367346, \"label\": \"threshold: 0.245\\nprecision: 0.996\\nrecall: 0.993\", \"variable\": \"recall\", \"value\": 0.9934756820877817}, {\"threshold\": 0.26530612244897955, \"label\": \"threshold: 0.265\\nprecision: 0.996\\nrecall: 0.992\", \"variable\": \"recall\", \"value\": 0.9916963226571768}, {\"threshold\": 0.2857142857142857, \"label\": \"threshold: 0.286\\nprecision: 0.996\\nrecall: 0.992\", \"variable\": \"recall\", \"value\": 0.9916963226571768}, {\"threshold\": 0.3061224489795918, \"label\": \"threshold: 0.306\\nprecision: 0.996\\nrecall: 0.991\", \"variable\": \"recall\", \"value\": 0.9911032028469751}, {\"threshold\": 0.32653061224489793, \"label\": \"threshold: 0.327\\nprecision: 0.996\\nrecall: 0.989\", \"variable\": \"recall\", \"value\": 0.9887307236061684}, {\"threshold\": 0.3469387755102041, \"label\": \"threshold: 0.347\\nprecision: 0.996\\nrecall: 0.987\", \"variable\": \"recall\", \"value\": 0.9869513641755635}, {\"threshold\": 0.36734693877551017, \"label\": \"threshold: 0.367\\nprecision: 0.996\\nrecall: 0.985\", \"variable\": \"recall\", \"value\": 0.9845788849347569}, {\"threshold\": 0.3877551020408163, \"label\": \"threshold: 0.388\\nprecision: 0.996\\nrecall: 0.982\", \"variable\": \"recall\", \"value\": 0.9816132858837485}, {\"threshold\": 0.4081632653061224, \"label\": \"threshold: 0.408\\nprecision: 0.996\\nrecall: 0.982\", \"variable\": \"recall\", \"value\": 0.9816132858837485}, {\"threshold\": 0.42857142857142855, \"label\": \"threshold: 0.429\\nprecision: 0.996\\nrecall: 0.978\", \"variable\": \"recall\", \"value\": 0.9780545670225386}, {\"threshold\": 0.44897959183673464, \"label\": \"threshold: 0.449\\nprecision: 0.996\\nrecall: 0.977\", \"variable\": \"recall\", \"value\": 0.9768683274021353}, {\"threshold\": 0.4693877551020408, \"label\": \"threshold: 0.469\\nprecision: 0.996\\nrecall: 0.974\", \"variable\": \"recall\", \"value\": 0.9744958481613286}, {\"threshold\": 0.4897959183673469, \"label\": \"threshold: 0.49\\nprecision: 0.996\\nrecall: 0.97\", \"variable\": \"recall\", \"value\": 0.970344009489917}, {\"threshold\": 0.5102040816326531, \"label\": \"threshold: 0.51\\nprecision: 0.996\\nrecall: 0.964\", \"variable\": \"recall\", \"value\": 0.9638196915776986}, {\"threshold\": 0.5306122448979591, \"label\": \"threshold: 0.531\\nprecision: 0.996\\nrecall: 0.96\", \"variable\": \"recall\", \"value\": 0.9602609727164887}, {\"threshold\": 0.5510204081632653, \"label\": \"threshold: 0.551\\nprecision: 0.996\\nrecall: 0.956\", \"variable\": \"recall\", \"value\": 0.9561091340450771}, {\"threshold\": 0.5714285714285714, \"label\": \"threshold: 0.571\\nprecision: 0.996\\nrecall: 0.951\", \"variable\": \"recall\", \"value\": 0.9513641755634639}, {\"threshold\": 0.5918367346938775, \"label\": \"threshold: 0.592\\nprecision: 0.996\\nrecall: 0.942\", \"variable\": \"recall\", \"value\": 0.9424673784104389}, {\"threshold\": 0.6122448979591836, \"label\": \"threshold: 0.612\\nprecision: 0.996\\nrecall: 0.934\", \"variable\": \"recall\", \"value\": 0.933570581257414}, {\"threshold\": 0.6326530612244897, \"label\": \"threshold: 0.633\\nprecision: 0.996\\nrecall: 0.926\", \"variable\": \"recall\", \"value\": 0.9258600237247924}, {\"threshold\": 0.6530612244897959, \"label\": \"threshold: 0.653\\nprecision: 0.995\\nrecall: 0.916\", \"variable\": \"recall\", \"value\": 0.9157769869513642}, {\"threshold\": 0.673469387755102, \"label\": \"threshold: 0.673\\nprecision: 0.995\\nrecall: 0.908\", \"variable\": \"recall\", \"value\": 0.9080664294187426}, {\"threshold\": 0.6938775510204082, \"label\": \"threshold: 0.694\\nprecision: 0.995\\nrecall: 0.897\", \"variable\": \"recall\", \"value\": 0.8973902728351127}, {\"threshold\": 0.7142857142857142, \"label\": \"threshold: 0.714\\nprecision: 0.995\\nrecall: 0.873\", \"variable\": \"recall\", \"value\": 0.8730723606168446}, {\"threshold\": 0.7346938775510203, \"label\": \"threshold: 0.735\\nprecision: 0.995\\nrecall: 0.855\", \"variable\": \"recall\", \"value\": 0.8546856465005931}, {\"threshold\": 0.7551020408163265, \"label\": \"threshold: 0.755\\nprecision: 0.995\\nrecall: 0.827\", \"variable\": \"recall\", \"value\": 0.8268090154211151}, {\"threshold\": 0.7755102040816326, \"label\": \"threshold: 0.776\\nprecision: 0.995\\nrecall: 0.784\", \"variable\": \"recall\", \"value\": 0.7835112692763938}, {\"threshold\": 0.7959183673469387, \"label\": \"threshold: 0.796\\nprecision: 0.994\\nrecall: 0.741\", \"variable\": \"recall\", \"value\": 0.7408066429418743}, {\"threshold\": 0.8163265306122448, \"label\": \"threshold: 0.816\\nprecision: 0.994\\nrecall: 0.706\", \"variable\": \"recall\", \"value\": 0.7064056939501779}, {\"threshold\": 0.836734693877551, \"label\": \"threshold: 0.837\\nprecision: 0.993\\nrecall: 0.611\", \"variable\": \"recall\", \"value\": 0.6109134045077106}, {\"threshold\": 0.8571428571428571, \"label\": \"threshold: 0.857\\nprecision: 0.993\\nrecall: 0.559\", \"variable\": \"recall\", \"value\": 0.5593119810201661}, {\"threshold\": 0.8775510204081632, \"label\": \"threshold: 0.878\\nprecision: 0.991\\nrecall: 0.443\", \"variable\": \"recall\", \"value\": 0.4430604982206406}, {\"threshold\": 0.8979591836734693, \"label\": \"threshold: 0.898\\nprecision: 0.988\\nrecall: 0.348\", \"variable\": \"recall\", \"value\": 0.3475682087781732}, {\"threshold\": 0.9183673469387754, \"label\": \"threshold: 0.918\\nprecision: 0.981\\nrecall: 0.214\", \"variable\": \"recall\", \"value\": 0.21411625148279953}, {\"threshold\": 0.9387755102040816, \"label\": \"threshold: 0.939\\nprecision: 0.963\\nrecall: 0.109\", \"variable\": \"recall\", \"value\": 0.10913404507710557}, {\"threshold\": 0.9591836734693877, \"label\": \"threshold: 0.959\\nprecision: 0.929\\nrecall: 0.054\", \"variable\": \"recall\", \"value\": 0.05397390272835113}, {\"threshold\": 0.9795918367346939, \"label\": \"threshold: 0.98\\nprecision: 0.892\\nrecall: 0.034\", \"variable\": \"recall\", \"value\": 0.03440094899169632}, {\"threshold\": 1.0, \"label\": \"threshold: 1.0\\nprecision: 1.0\\nrecall: 0.005\", \"variable\": \"recall\", \"value\": 0.005338078291814947}, {\"threshold\": 0.0, \"label\": \"threshold: 0.0\\nprecision: 0.996\\nrecall: 1.0\", \"variable\": \"precision\", \"value\": 0.9958653278204371}, {\"threshold\": 0.02040816326530612, \"label\": \"threshold: 0.02\\nprecision: 0.996\\nrecall: 1.0\", \"variable\": \"precision\", \"value\": 0.9958653278204371}, {\"threshold\": 0.04081632653061224, \"label\": \"threshold: 0.041\\nprecision: 0.996\\nrecall: 1.0\", \"variable\": \"precision\", \"value\": 0.9958653278204371}, {\"threshold\": 0.061224489795918366, \"label\": \"threshold: 0.061\\nprecision: 0.996\\nrecall: 1.0\", \"variable\": \"precision\", \"value\": 0.9958653278204371}, {\"threshold\": 0.08163265306122448, \"label\": \"threshold: 0.082\\nprecision: 0.996\\nrecall: 1.0\", \"variable\": \"precision\", \"value\": 0.9958653278204371}, {\"threshold\": 0.1020408163265306, \"label\": \"threshold: 0.102\\nprecision: 0.996\\nrecall: 0.999\", \"variable\": \"precision\", \"value\": 0.9958604376108812}, {\"threshold\": 0.12244897959183673, \"label\": \"threshold: 0.122\\nprecision: 0.996\\nrecall: 0.998\", \"variable\": \"precision\", \"value\": 0.9958555358200119}, {\"threshold\": 0.14285714285714285, \"label\": \"threshold: 0.143\\nprecision: 0.996\\nrecall: 0.998\", \"variable\": \"precision\", \"value\": 0.9958555358200119}, {\"threshold\": 0.16326530612244897, \"label\": \"threshold: 0.163\\nprecision: 0.996\\nrecall: 0.997\", \"variable\": \"precision\", \"value\": 0.9958530805687204}, {\"threshold\": 0.18367346938775508, \"label\": \"threshold: 0.184\\nprecision: 0.996\\nrecall: 0.996\", \"variable\": \"precision\", \"value\": 0.995850622406639}, {\"threshold\": 0.2040816326530612, \"label\": \"threshold: 0.204\\nprecision: 0.996\\nrecall: 0.996\", \"variable\": \"precision\", \"value\": 0.9958481613285883}, {\"threshold\": 0.22448979591836732, \"label\": \"threshold: 0.224\\nprecision: 0.996\\nrecall: 0.994\", \"variable\": \"precision\", \"value\": 0.995840760546643}, {\"threshold\": 0.24489795918367346, \"label\": \"threshold: 0.245\\nprecision: 0.996\\nrecall: 0.993\", \"variable\": \"precision\", \"value\": 0.9958382877526754}, {\"threshold\": 0.26530612244897955, \"label\": \"threshold: 0.265\\nprecision: 0.996\\nrecall: 0.992\", \"variable\": \"precision\", \"value\": 0.9958308516974389}, {\"threshold\": 0.2857142857142857, \"label\": \"threshold: 0.286\\nprecision: 0.996\\nrecall: 0.992\", \"variable\": \"precision\", \"value\": 0.9958308516974389}, {\"threshold\": 0.3061224489795918, \"label\": \"threshold: 0.306\\nprecision: 0.996\\nrecall: 0.991\", \"variable\": \"precision\", \"value\": 0.9958283671036948}, {\"threshold\": 0.32653061224489793, \"label\": \"threshold: 0.327\\nprecision: 0.996\\nrecall: 0.989\", \"variable\": \"precision\", \"value\": 0.9958183990442055}, {\"threshold\": 0.3469387755102041, \"label\": \"threshold: 0.347\\nprecision: 0.996\\nrecall: 0.987\", \"variable\": \"precision\", \"value\": 0.9958108916816277}, {\"threshold\": 0.36734693877551017, \"label\": \"threshold: 0.367\\nprecision: 0.996\\nrecall: 0.985\", \"variable\": \"precision\", \"value\": 0.9958008398320336}, {\"threshold\": 0.3877551020408163, \"label\": \"threshold: 0.388\\nprecision: 0.996\\nrecall: 0.982\", \"variable\": \"precision\", \"value\": 0.9957882069795427}, {\"threshold\": 0.4081632653061224, \"label\": \"threshold: 0.408\\nprecision: 0.996\\nrecall: 0.982\", \"variable\": \"precision\", \"value\": 0.9957882069795427}, {\"threshold\": 0.42857142857142855, \"label\": \"threshold: 0.429\\nprecision: 0.996\\nrecall: 0.978\", \"variable\": \"precision\", \"value\": 0.9957729468599034}, {\"threshold\": 0.44897959183673464, \"label\": \"threshold: 0.449\\nprecision: 0.996\\nrecall: 0.977\", \"variable\": \"precision\", \"value\": 0.9957678355501813}, {\"threshold\": 0.4693877551020408, \"label\": \"threshold: 0.469\\nprecision: 0.996\\nrecall: 0.974\", \"variable\": \"precision\", \"value\": 0.9957575757575757}, {\"threshold\": 0.4897959183673469, \"label\": \"threshold: 0.49\\nprecision: 0.996\\nrecall: 0.97\", \"variable\": \"precision\", \"value\": 0.995739500912964}, {\"threshold\": 0.5102040816326531, \"label\": \"threshold: 0.51\\nprecision: 0.996\\nrecall: 0.964\", \"variable\": \"precision\", \"value\": 0.9957107843137255}, {\"threshold\": 0.5306122448979591, \"label\": \"threshold: 0.531\\nprecision: 0.996\\nrecall: 0.96\", \"variable\": \"precision\", \"value\": 0.9956949569495694}, {\"threshold\": 0.5510204081632653, \"label\": \"threshold: 0.551\\nprecision: 0.996\\nrecall: 0.956\", \"variable\": \"precision\", \"value\": 0.9956763434218654}, {\"threshold\": 0.5714285714285714, \"label\": \"threshold: 0.571\\nprecision: 0.996\\nrecall: 0.951\", \"variable\": \"precision\", \"value\": 0.9956548727498448}, {\"threshold\": 0.5918367346938775, \"label\": \"threshold: 0.592\\nprecision: 0.996\\nrecall: 0.942\", \"variable\": \"precision\", \"value\": 0.9956140350877193}, {\"threshold\": 0.6122448979591836, \"label\": \"threshold: 0.612\\nprecision: 0.996\\nrecall: 0.934\", \"variable\": \"precision\", \"value\": 0.9955724225173941}, {\"threshold\": 0.6326530612244897, \"label\": \"threshold: 0.633\\nprecision: 0.996\\nrecall: 0.926\", \"variable\": \"precision\", \"value\": 0.9955357142857143}, {\"threshold\": 0.6530612244897959, \"label\": \"threshold: 0.653\\nprecision: 0.995\\nrecall: 0.916\", \"variable\": \"precision\", \"value\": 0.9954867827208252}, {\"threshold\": 0.673469387755102, \"label\": \"threshold: 0.673\\nprecision: 0.995\\nrecall: 0.908\", \"variable\": \"precision\", \"value\": 0.9954486345903771}, {\"threshold\": 0.6938775510204082, \"label\": \"threshold: 0.694\\nprecision: 0.995\\nrecall: 0.897\", \"variable\": \"precision\", \"value\": 0.9953947368421052}, {\"threshold\": 0.7142857142857142, \"label\": \"threshold: 0.714\\nprecision: 0.995\\nrecall: 0.873\", \"variable\": \"precision\", \"value\": 0.9952670723461798}, {\"threshold\": 0.7346938775510203, \"label\": \"threshold: 0.735\\nprecision: 0.995\\nrecall: 0.855\", \"variable\": \"precision\", \"value\": 0.9951657458563536}, {\"threshold\": 0.7551020408163265, \"label\": \"threshold: 0.755\\nprecision: 0.995\\nrecall: 0.827\", \"variable\": \"precision\", \"value\": 0.9950035688793719}, {\"threshold\": 0.7755102040816326, \"label\": \"threshold: 0.776\\nprecision: 0.995\\nrecall: 0.784\", \"variable\": \"precision\", \"value\": 0.9947289156626506}, {\"threshold\": 0.7959183673469387, \"label\": \"threshold: 0.796\\nprecision: 0.994\\nrecall: 0.741\", \"variable\": \"precision\", \"value\": 0.9944267515923567}, {\"threshold\": 0.8163265306122448, \"label\": \"threshold: 0.816\\nprecision: 0.994\\nrecall: 0.706\", \"variable\": \"precision\", \"value\": 0.9941569282136895}, {\"threshold\": 0.836734693877551, \"label\": \"threshold: 0.837\\nprecision: 0.993\\nrecall: 0.611\", \"variable\": \"precision\", \"value\": 0.9932497589199615}, {\"threshold\": 0.8571428571428571, \"label\": \"threshold: 0.857\\nprecision: 0.993\\nrecall: 0.559\", \"variable\": \"precision\", \"value\": 0.9926315789473684}, {\"threshold\": 0.8775510204081632, \"label\": \"threshold: 0.878\\nprecision: 0.991\\nrecall: 0.443\", \"variable\": \"precision\", \"value\": 0.9907161803713528}, {\"threshold\": 0.8979591836734693, \"label\": \"threshold: 0.898\\nprecision: 0.988\\nrecall: 0.348\", \"variable\": \"precision\", \"value\": 0.9881956155143339}, {\"threshold\": 0.9183673469387754, \"label\": \"threshold: 0.918\\nprecision: 0.981\\nrecall: 0.214\", \"variable\": \"precision\", \"value\": 0.9809782608695652}, {\"threshold\": 0.9387755102040816, \"label\": \"threshold: 0.939\\nprecision: 0.963\\nrecall: 0.109\", \"variable\": \"precision\", \"value\": 0.9633507853403142}, {\"threshold\": 0.9591836734693877, \"label\": \"threshold: 0.959\\nprecision: 0.929\\nrecall: 0.054\", \"variable\": \"precision\", \"value\": 0.9285714285714286}, {\"threshold\": 0.9795918367346939, \"label\": \"threshold: 0.98\\nprecision: 0.892\\nrecall: 0.034\", \"variable\": \"precision\", \"value\": 0.8923076923076924}, {\"threshold\": 1.0, \"label\": \"threshold: 1.0\\nprecision: 1.0\\nrecall: 0.005\", \"variable\": \"precision\", \"value\": 1.0}]}}, {\"mode\": \"vega-lite\"});\n",
              "</script>"
            ]
          },
          "metadata": {},
          "execution_count": 34
        }
      ],
      "source": [
        "df_eval = tutorial.evaluate_linking(\n",
        "    df=df_predictions\n",
        ")\n",
        "\n",
        "tutorial.plot_precision_recall_vs_threshold(df_eval)"
      ]
    },
    {
      "cell_type": "code",
      "execution_count": 34,
      "metadata": {
        "id": "V4vN3QqxTPri"
      },
      "outputs": [],
      "source": [
        ""
      ]
    }
  ],
  "metadata": {
    "kernelspec": {
      "display_name": "linking",
      "language": "python",
      "name": "linking"
    },
    "language_info": {
      "codemirror_mode": {
        "name": "ipython",
        "version": 3
      },
      "file_extension": ".py",
      "mimetype": "text/x-python",
      "name": "python",
      "nbconvert_exporter": "python",
      "pygments_lexer": "ipython3",
      "version": "3.8.6"
    },
    "colab": {
      "name": "Link_FEBRL_Data_Active_Learning.ipynb",
      "provenance": []
    },
    "accelerator": "GPU"
  },
  "nbformat": 4,
  "nbformat_minor": 0
}